{
 "cells": [
  {
   "cell_type": "code",
   "execution_count": 1,
   "metadata": {
    "collapsed": true,
    "deletable": true,
    "editable": true
   },
   "outputs": [],
   "source": [
    "import numpy as np\n",
    "import pandas as pd\n",
    "import matplotlib.pyplot as plt\n",
    "import sklearn\n",
    "import scipy.stats as sps\n",
    "from sympy import *\n",
    "from matplotlib import cm\n",
    "plt.style.use('ggplot')\n",
    "%matplotlib inline\n",
    "\n",
    "def scan_from_csv(filename,header=None):\n",
    "    if not header:\n",
    "        return pd.read_csv(filename,na_values='None')\n",
    "    else:\n",
    "        return pd.read_csv(filename,na_values='None',header=-1)\n",
    "\n",
    "def write_answer_to_file(answer,file):\n",
    "    with open(file, 'w') as answer_file:  \n",
    "        answer_file.write(answer)"
   ]
  },
  {
   "cell_type": "code",
   "execution_count": 2,
   "metadata": {
    "collapsed": false,
    "deletable": true,
    "editable": true
   },
   "outputs": [],
   "source": [
    "data = pd.read_csv('hw6t3v0.txt',delimiter='\\\\s+',header=-1)"
   ]
  },
  {
   "cell_type": "code",
   "execution_count": 3,
   "metadata": {
    "collapsed": false,
    "deletable": true,
    "editable": true
   },
   "outputs": [
    {
     "data": {
      "text/html": [
       "<div>\n",
       "<table border=\"1\" class=\"dataframe\">\n",
       "  <thead>\n",
       "    <tr style=\"text-align: right;\">\n",
       "      <th></th>\n",
       "      <th>0</th>\n",
       "      <th>1</th>\n",
       "    </tr>\n",
       "  </thead>\n",
       "  <tbody>\n",
       "    <tr>\n",
       "      <th>0</th>\n",
       "      <td>783.1</td>\n",
       "      <td>1115.0</td>\n",
       "    </tr>\n",
       "    <tr>\n",
       "      <th>1</th>\n",
       "      <td>891.2</td>\n",
       "      <td>1200.9</td>\n",
       "    </tr>\n",
       "    <tr>\n",
       "      <th>2</th>\n",
       "      <td>825.8</td>\n",
       "      <td>1195.1</td>\n",
       "    </tr>\n",
       "    <tr>\n",
       "      <th>3</th>\n",
       "      <td>706.3</td>\n",
       "      <td>984.1</td>\n",
       "    </tr>\n",
       "    <tr>\n",
       "      <th>4</th>\n",
       "      <td>880.3</td>\n",
       "      <td>1206.0</td>\n",
       "    </tr>\n",
       "  </tbody>\n",
       "</table>\n",
       "</div>"
      ],
      "text/plain": [
       "       0       1\n",
       "0  783.1  1115.0\n",
       "1  891.2  1200.9\n",
       "2  825.8  1195.1\n",
       "3  706.3   984.1\n",
       "4  880.3  1206.0"
      ]
     },
     "execution_count": 3,
     "metadata": {},
     "output_type": "execute_result"
    }
   ],
   "source": [
    "data.head()"
   ]
  },
  {
   "cell_type": "code",
   "execution_count": 4,
   "metadata": {
    "collapsed": false
   },
   "outputs": [
    {
     "data": {
      "text/plain": [
       "(200, 2)"
      ]
     },
     "execution_count": 4,
     "metadata": {},
     "output_type": "execute_result"
    }
   ],
   "source": [
    "data.shape"
   ]
  },
  {
   "cell_type": "code",
   "execution_count": 5,
   "metadata": {
    "collapsed": false,
    "deletable": true,
    "editable": true
   },
   "outputs": [
    {
     "data": {
      "text/plain": [
       "[<matplotlib.lines.Line2D at 0x10a5af860>]"
      ]
     },
     "execution_count": 5,
     "metadata": {},
     "output_type": "execute_result"
    },
    {
     "data": {
      "image/png": "[encoded data removed]",
      "text/plain": [
       "<matplotlib.figure.Figure at 0x10c1e5978>"
      ]
     },
     "metadata": {},
     "output_type": "display_data"
    }
   ],
   "source": [
    "plt.plot(data[0],data[1],'*')"
   ]
  },
  {
   "cell_type": "markdown",
   "metadata": {
    "collapsed": true,
    "deletable": true,
    "editable": true
   },
   "source": [
    "Как видно, корреляция между выборками есть.\n",
    "\n",
    "Пусть наши данные это две выборки $X = (x_i),Y=(y_j)$. Тогда парность этих выборок равносильна тому что векторный набор $Z= \\binom {x_i}{y_i}$ является выборкой.\n",
    "\n",
    "Но проверять вектора на то что это выборки мы не умеем, поэтому рассмотрим наборы $(x_i * y_i) , (x_i + y_i)$. Они должны являться выборками если $Z$ выборка. Вот для них и применим критерии проверки наборов на выборки(критерий Вальда-Волфовица).\n",
    "\n",
    "Воспользуемся сложной проверкой гипотез и проверим выборки парность, на некоррелированность(критериями Спирмена, Пирсона и Кэндела), на независимость(таблицами сопряжнности), на нормальность(Шапиро-Уилка, $\\chi^2$, KS-test) низходящим методом Холма при $FWER \\leq 0.1$."
   ]
  },
  {
   "cell_type": "code",
   "execution_count": 112,
   "metadata": {
    "collapsed": true
   },
   "outputs": [],
   "source": [
    "from statsmodels.sandbox.stats.multicomp import multipletests  # Holm method\n",
    "from scipy.stats import pearsonr\n",
    "from scipy.stats import spearmanr\n",
    "from scipy.stats import kendalltau\n",
    "from skgof import ks_test  # KS for Lillieforce test\n",
    "from scipy.stats import chisquare  # chi^2 test\n",
    "from skidmarks import wald_wolfowitz # Wald-Wollfowitz test\n",
    "from scipy.stats import shapiro  # Shapiro-Wilk test\n",
    "from scipy.stats import chi2_contingency  # Contigency Table statistic"
   ]
  },
  {
   "cell_type": "code",
   "execution_count": 141,
   "metadata": {
    "collapsed": true
   },
   "outputs": [],
   "source": [
    "def make_contigency_table(X,Y,method='auto'):\n",
    "    junk, binx = np.histogram(X,bins=method)\n",
    "    junk, biny = np.histogram(Y,bins=method)\n",
    "    \n",
    "    table = np.zeros((len(binx)-1,len(biny)-1))\n",
    "    for i in range(len(binx)-1):\n",
    "        for j in range(len(biny)-1):\n",
    "            table[i][j] = np.sum([(x > binx[i] and x <= binx[i+1] \n",
    "                                   and y > biny[j] and y <= biny[j+1]) \n",
    "                                  for x,y in zip(X,Y)])\n",
    "    for i in range(len(binx)-1):\n",
    "        for j in range(len(biny)-1):\n",
    "            if table[i][j] == 0:\n",
    "                table[i][j] = 1\n",
    "    return table\n",
    "\n",
    "def run_inversions_p_value(x):\n",
    "    #  simple O(N^2) realisation\n",
    "    inv = 0\n",
    "    n = len(x)\n",
    "    for i in range(n):\n",
    "        for j in range(i+1,n):\n",
    "            inv += (x[i] > x[j])\n",
    "    mean = n*(n-1)/4\n",
    "    sigma2 = (2*n**3 + 3*n**2 - 5*n)/72\n",
    "    xi = (inv - mean)/(sigma2**0.5)\n",
    "    p0 = sps.norm.cdf(xi)\n",
    "    p1 = 1 - p0\n",
    "    return 2*min(p0,p1)   # asymptotic two-tailed p_value\n",
    "\n",
    "def run_chisquare_norm(x):\n",
    "    f_obs, bins = np.histogram(x,bins='auto')\n",
    "    m = np.mean(x)\n",
    "    s = np.std(x)\n",
    "    f_exp = np.array([sps.norm.cdf(x=bins[i+1],loc=m,scale=s) - \n",
    "                      sps.norm.cdf(x=bins[i],loc=m,scale=s)\n",
    "                      for i in range(len(bins)-1)]) * np.sum(f_obs)\n",
    "\n",
    "    return chisquare(f_obs=f_obs, f_exp=f_exp)[1]"
   ]
  },
  {
   "cell_type": "code",
   "execution_count": 114,
   "metadata": {
    "collapsed": false
   },
   "outputs": [
    {
     "name": "stdout",
     "output_type": "stream",
     "text": [
      "for alpha = 0.1 : 4 simple hypotheses are rejected:\n",
      "p_values: [5.8159584736017975e-39, 6.9452667366409923e-122, 1.6281730406992918e-122, 1.6548060638644097e-70, 0.056617272558496468, 0.25162157071166374, 0.41554047781226422, 0.29940525942699536, 0.06311605125665665, 0.024712642654776573, 0.6647034282680907, 0.6647034282680907, 0.57111413901992014, 0.57976325808093576]\n",
      "reject_bits: [ True  True  True  True False False False False False False False False\n",
      " False False]\n",
      "\n"
     ]
    }
   ],
   "source": [
    "# adaptive criteries\n",
    "run_criteries = [\n",
    "    (lambda x, y: chi2_contingency(make_contigency_table(x,y))[1]),\n",
    "    (lambda x, y: spearmanr(x,y)[1]),\n",
    "    (lambda x, y: pearsonr(x,y)[1]),\n",
    "    (lambda x, y: kendalltau(x,y)[1]),\n",
    "    run_chisquare_norm,\n",
    "    (lambda x: ks_test(x,sps.norm(loc=np.mean(x),scale=np.std(x)))[1]),\n",
    "    (lambda x: shapiro(x)[1]),\n",
    "    (lambda x: wald_wolfowitz(x > np.median(x))['p']),\n",
    "    run_inversions_p_value\n",
    "]\n",
    "\n",
    "alphas = [0.1]\n",
    "for a in alphas:\n",
    "    p_values = []\n",
    "    for ex in run_criteries[:4]:\n",
    "        p_values.append(ex(data[0], data[1]))\n",
    "    for ex in run_criteries[4:7]:\n",
    "        p_values.append(ex(data[0]))\n",
    "        p_values.append(ex(data[1]))\n",
    "    summ = np.array(data[0]) + np.array(data[1])\n",
    "    mult = np.array(data[0]) * np.array(data[1])\n",
    "    for ex in run_criteries[7:]:\n",
    "        p_values.append(ex(summ))\n",
    "        p_values.append(ex(mult))\n",
    "    reject = multipletests(pvals=p_values, method='holm',alpha=a)[0]\n",
    "    print('for alpha = ' + str(a) + ' : ' + str(np.sum(reject)) + ' simple hypotheses are rejected:')\n",
    "    print('p_values: ' + str(p_values))\n",
    "    print('reject_bits: ' + str(reject))\n",
    "    print()"
   ]
  },
  {
   "cell_type": "markdown",
   "metadata": {},
   "source": [
    "Таким образом на уровне значимости 0.1 отвергаем независимость и некоррелированность, \n",
    "не отвергаем парность и нормальность."
   ]
  },
  {
   "cell_type": "markdown",
   "metadata": {},
   "source": [
    "Коэффиценты различных выборочных корреляций говорят, что выборки сильно коррелированы:"
   ]
  },
  {
   "cell_type": "code",
   "execution_count": 18,
   "metadata": {
    "collapsed": false
   },
   "outputs": [
    {
     "name": "stdout",
     "output_type": "stream",
     "text": [
      "0.969240726781\n",
      "0.968779543874\n",
      "0.84448913147\n"
     ]
    }
   ],
   "source": [
    "print(pearsonr(data[0],data[1])[0])\n",
    "print(spearmanr(data[0],data[1])[0])\n",
    "print(kendalltau(data[0],data[1])[0])"
   ]
  },
  {
   "cell_type": "markdown",
   "metadata": {},
   "source": [
    "В таком случае по условию требуется в дополнение к предыдущим гипотезам проверить гипотезу об однородности, то есть о совпадении параметров распределений. Тогда добавим к списку простых гипотез t-критерий стьюдента для связанных выборок."
   ]
  },
  {
   "cell_type": "code",
   "execution_count": 140,
   "metadata": {
    "collapsed": false
   },
   "outputs": [
    {
     "name": "stdout",
     "output_type": "stream",
     "text": [
      "for alpha = 0.1 : 5 simple hypotheses are rejected:\n",
      "p_values: [5.8159584736017975e-39, 6.9452667366409923e-122, 1.6281730406992918e-122, 1.6548060638644097e-70, 0.056617272558496468, 0.25162157071166374, 0.41554047781226422, 0.29940525942699536, 0.06311605125665665, 0.024712642654776573, 0.6647034282680907, 0.6647034282680907, 0.57111413901992014, 0.57976325808093576, 2.4606555924480782e-231]\n",
      "reject_bits: [ True  True  True  True False False False False False False False False\n",
      " False False  True]\n",
      "\n"
     ]
    }
   ],
   "source": [
    "# adaptive criteries\n",
    "run_criteries = [\n",
    "    (lambda x, y: chi2_contingency(make_contigency_table(x,y))[1]),\n",
    "    (lambda x, y: spearmanr(x,y)[1]),\n",
    "    (lambda x, y: pearsonr(x,y)[1]),\n",
    "    (lambda x, y: kendalltau(x,y)[1]),\n",
    "    run_chisquare_norm,\n",
    "    (lambda x: ks_test(x,sps.norm(loc=np.mean(x),scale=np.std(x)))[1]),\n",
    "    (lambda x: shapiro(x)[1]),\n",
    "    (lambda x: wald_wolfowitz(x > np.median(x))['p']),\n",
    "    run_inversions_p_value,\n",
    "    (lambda x, y: sps.ttest_rel(x,y)[1]),\n",
    "]\n",
    "\n",
    "alphas = [0.1]\n",
    "for a in alphas:\n",
    "    p_values = []\n",
    "    for ex in run_criteries[:4]:\n",
    "        p_values.append(ex(data[0], data[1]))\n",
    "    for ex in run_criteries[4:7]:\n",
    "        p_values.append(ex(data[0]))\n",
    "        p_values.append(ex(data[1]))\n",
    "    summ = np.array(data[0]) + np.array(data[1])\n",
    "    mult = np.array(data[0]) * np.array(data[1])\n",
    "    for ex in run_criteries[7:9]:\n",
    "        p_values.append(ex(summ))\n",
    "        p_values.append(ex(mult))\n",
    "    for ex in run_criteries[9:]:\n",
    "        p_values.append(ex(data[0], data[1]))\n",
    "    reject = multipletests(pvals=p_values, method='holm',alpha=a)[0]\n",
    "    print('for alpha = ' + str(a) + ' : ' + str(np.sum(reject)) + ' simple hypotheses are rejected:')\n",
    "    print('p_values: ' + str(p_values))\n",
    "    print('reject_bits: ' + str(reject))\n",
    "    print()"
   ]
  },
  {
   "cell_type": "markdown",
   "metadata": {},
   "source": [
    "Как видно, гипотеза об однородности распределений отвергается"
   ]
  },
  {
   "cell_type": "code",
   "execution_count": null,
   "metadata": {
    "collapsed": false
   },
   "outputs": [],
   "source": []
  },
  {
   "cell_type": "code",
   "execution_count": null,
   "metadata": {
    "collapsed": true
   },
   "outputs": [],
   "source": []
  }
 ],
 "metadata": {
  "kernelspec": {
   "display_name": "Python 3",
   "language": "python",
   "name": "python3"
  },
  "language_info": {
   "codemirror_mode": {
    "name": "ipython",
    "version": 3
   },
   "file_extension": ".py",
   "mimetype": "text/x-python",
   "name": "python",
   "nbconvert_exporter": "python",
   "pygments_lexer": "ipython3",
   "version": "3.6.0"
  }
 },
 "nbformat": 4,
 "nbformat_minor": 2
}
