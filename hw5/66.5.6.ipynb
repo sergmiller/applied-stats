{
 "cells": [
  {
   "cell_type": "code",
   "execution_count": 105,
   "metadata": {
    "collapsed": true
   },
   "outputs": [],
   "source": [
    "import numpy as np\n",
    "import pandas as pd\n",
    "import matplotlib.pyplot as plt\n",
    "import sklearn\n",
    "import copy\n",
    "import scipy.stats as sps\n",
    "from sympy import *\n",
    "import skgof\n",
    "from matplotlib import cm\n",
    "plt.style.use('ggplot')\n",
    "%matplotlib inline\n",
    "\n",
    "def scan_from_csv(filename,header=None):\n",
    "    if not header:\n",
    "        return pd.read_csv(filename,na_values='None')\n",
    "    else:\n",
    "        return pd.read_csv(filename,na_values='None',header=-1)\n",
    "\n",
    "def write_answer_to_file(answer,file):\n",
    "    with open(file, 'w') as answer_file:  \n",
    "        answer_file.write(answer)"
   ]
  },
  {
   "cell_type": "code",
   "execution_count": 2,
   "metadata": {
    "collapsed": false
   },
   "outputs": [
    {
     "data": {
      "text/html": [
       "<div>\n",
       "<table border=\"1\" class=\"dataframe\">\n",
       "  <thead>\n",
       "    <tr style=\"text-align: right;\">\n",
       "      <th></th>\n",
       "      <th>No</th>\n",
       "      <th>Cement</th>\n",
       "      <th>Slag</th>\n",
       "      <th>Fly ash</th>\n",
       "      <th>Water</th>\n",
       "      <th>SP</th>\n",
       "      <th>Coarse Aggr.</th>\n",
       "      <th>Fine Aggr.</th>\n",
       "      <th>SLUMP(cm)</th>\n",
       "      <th>FLOW(cm)</th>\n",
       "      <th>Compressive Strength (28-day)(Mpa)</th>\n",
       "    </tr>\n",
       "  </thead>\n",
       "  <tbody>\n",
       "    <tr>\n",
       "      <th>0</th>\n",
       "      <td>1</td>\n",
       "      <td>273.0</td>\n",
       "      <td>82.0</td>\n",
       "      <td>105.0</td>\n",
       "      <td>210.0</td>\n",
       "      <td>9.0</td>\n",
       "      <td>904.0</td>\n",
       "      <td>680.0</td>\n",
       "      <td>23.0</td>\n",
       "      <td>62.0</td>\n",
       "      <td>34.99</td>\n",
       "    </tr>\n",
       "    <tr>\n",
       "      <th>1</th>\n",
       "      <td>2</td>\n",
       "      <td>163.0</td>\n",
       "      <td>149.0</td>\n",
       "      <td>191.0</td>\n",
       "      <td>180.0</td>\n",
       "      <td>12.0</td>\n",
       "      <td>843.0</td>\n",
       "      <td>746.0</td>\n",
       "      <td>0.0</td>\n",
       "      <td>20.0</td>\n",
       "      <td>41.14</td>\n",
       "    </tr>\n",
       "    <tr>\n",
       "      <th>2</th>\n",
       "      <td>3</td>\n",
       "      <td>162.0</td>\n",
       "      <td>148.0</td>\n",
       "      <td>191.0</td>\n",
       "      <td>179.0</td>\n",
       "      <td>16.0</td>\n",
       "      <td>840.0</td>\n",
       "      <td>743.0</td>\n",
       "      <td>1.0</td>\n",
       "      <td>20.0</td>\n",
       "      <td>41.81</td>\n",
       "    </tr>\n",
       "    <tr>\n",
       "      <th>3</th>\n",
       "      <td>4</td>\n",
       "      <td>162.0</td>\n",
       "      <td>148.0</td>\n",
       "      <td>190.0</td>\n",
       "      <td>179.0</td>\n",
       "      <td>19.0</td>\n",
       "      <td>838.0</td>\n",
       "      <td>741.0</td>\n",
       "      <td>3.0</td>\n",
       "      <td>21.5</td>\n",
       "      <td>42.08</td>\n",
       "    </tr>\n",
       "    <tr>\n",
       "      <th>4</th>\n",
       "      <td>5</td>\n",
       "      <td>154.0</td>\n",
       "      <td>112.0</td>\n",
       "      <td>144.0</td>\n",
       "      <td>220.0</td>\n",
       "      <td>10.0</td>\n",
       "      <td>923.0</td>\n",
       "      <td>658.0</td>\n",
       "      <td>20.0</td>\n",
       "      <td>64.0</td>\n",
       "      <td>26.82</td>\n",
       "    </tr>\n",
       "  </tbody>\n",
       "</table>\n",
       "</div>"
      ],
      "text/plain": [
       "   No  Cement   Slag  Fly ash  Water    SP  Coarse Aggr.  Fine Aggr.  \\\n",
       "0   1   273.0   82.0    105.0  210.0   9.0         904.0       680.0   \n",
       "1   2   163.0  149.0    191.0  180.0  12.0         843.0       746.0   \n",
       "2   3   162.0  148.0    191.0  179.0  16.0         840.0       743.0   \n",
       "3   4   162.0  148.0    190.0  179.0  19.0         838.0       741.0   \n",
       "4   5   154.0  112.0    144.0  220.0  10.0         923.0       658.0   \n",
       "\n",
       "   SLUMP(cm)  FLOW(cm)  Compressive Strength (28-day)(Mpa)  \n",
       "0       23.0      62.0                               34.99  \n",
       "1        0.0      20.0                               41.14  \n",
       "2        1.0      20.0                               41.81  \n",
       "3        3.0      21.5                               42.08  \n",
       "4       20.0      64.0                               26.82  "
      ]
     },
     "execution_count": 2,
     "metadata": {},
     "output_type": "execute_result"
    }
   ],
   "source": [
    "dataF = scan_from_csv('slump_test.data.txt')\n",
    "dataF.head()"
   ]
  },
  {
   "cell_type": "code",
   "execution_count": 3,
   "metadata": {
    "collapsed": true
   },
   "outputs": [],
   "source": [
    "data = np.array(dataF[['Water', 'SP', 'Fine Aggr.', 'SLUMP(cm)', 'FLOW(cm)', 'Compressive Strength (28-day)(Mpa)']])"
   ]
  },
  {
   "cell_type": "code",
   "execution_count": 4,
   "metadata": {
    "collapsed": false
   },
   "outputs": [
    {
     "data": {
      "text/plain": [
       "(103, 6)"
      ]
     },
     "execution_count": 4,
     "metadata": {},
     "output_type": "execute_result"
    }
   ],
   "source": [
    "data.shape"
   ]
  },
  {
   "cell_type": "markdown",
   "metadata": {},
   "source": [
    "Идея критерия: \n",
    "\n",
    "По обучающей выборке оценим $\\mu, \\Sigma$.\n",
    "\n",
    "Теперь проверим тестовую выборку на соответствие гауссовскому распределению $\\mathcal{N} (\\mu, \\Sigma)$.\n",
    "\n",
    "Для этого сгенерируем $k$ векторов $v$ размерности распределения(как либо случайно). Далее, если $x \\sim \\mathcal{N} (\\mu, \\Sigma)$, то\n",
    "\n",
    "$(v,x) \\sim  \\mathcal{N}(v\\mu, v \\Sigma v^T)$ - то есть одномерное нормальное с известными параметрами или их оценками. \n",
    "\n",
    "Для проверки принадлежности к этому распределению просто воспользуемся критерием Колмогорова-Смирнова.\n",
    "\n",
    "Сгенерировав много $k$ получим много гипотез, проверим сложную гипотезу, что исходное распределение многомерное нормальное.\n",
    "\n",
    "Для проверки сложной гипотезы будем использовать нисходящий метод Холма.\n",
    "\n",
    "Рассмотрим проверку гипотезы на уровне $\\alpha = 0.05$ "
   ]
  },
  {
   "cell_type": "code",
   "execution_count": 5,
   "metadata": {
    "collapsed": false
   },
   "outputs": [],
   "source": [
    "from statsmodels.sandbox.stats.multicomp import multipletests  # Holm method\n",
    "from skgof import ks_test"
   ]
  },
  {
   "cell_type": "code",
   "execution_count": 164,
   "metadata": {
    "collapsed": false
   },
   "outputs": [],
   "source": [
    "T = 100  # check T simple hypotheses\n",
    "r = int(len(data)*0.6)\n",
    "np.random.seed(42)\n",
    "inds = np.arange(len(data))\n",
    "np.random.shuffle(inds)\n",
    "Train = np.array([data[i] for i in  inds[:r]])\n",
    "Test = np.array([data[i] for i in inds[r:]])\n",
    "K = sps.norm.rvs(size=(T,len(data[0])))  # random vectors for projections"
   ]
  },
  {
   "cell_type": "code",
   "execution_count": 165,
   "metadata": {
    "collapsed": false
   },
   "outputs": [],
   "source": [
    "t_mean = np.matrix(np.mean(Train,axis=0))\n",
    "t_cov = np.matrix(np.cov(Train.T))"
   ]
  },
  {
   "cell_type": "code",
   "execution_count": 166,
   "metadata": {
    "collapsed": false
   },
   "outputs": [],
   "source": [
    "def test_proj(X,v):\n",
    "    X = np.matrix(X)\n",
    "    v = np.matrix(v)\n",
    "    X_proj = np.array(v*X.T)[0]\n",
    "    loc = np.array(t_mean*v.T)[0]\n",
    "    scale = (np.array(v*t_cov*v.T)[0])**0.5\n",
    "    return ks_test(X_proj, sps.norm(loc=loc,scale=scale))[1]"
   ]
  },
  {
   "cell_type": "code",
   "execution_count": 167,
   "metadata": {
    "collapsed": true
   },
   "outputs": [],
   "source": [
    "run_criteries = [\n",
    "    (lambda X,v: test_proj(X,v)),\n",
    "]"
   ]
  },
  {
   "cell_type": "code",
   "execution_count": 168,
   "metadata": {
    "collapsed": false
   },
   "outputs": [
    {
     "name": "stdout",
     "output_type": "stream",
     "text": [
      "for alpha = 0.05 : 0 simple hypotheses are rejected:\n",
      "p_values: [0.835330268499336, 0.52115529210960221, 0.70017413231490955, 0.61790677126870142, 0.67146268117530905, 0.81547002134232949, 0.50289622547967805, 0.52352640019297569, 0.95885604478368902, 0.84423903516784082, 0.45508573388554652, 0.35682518352425852, 0.54738326167308327, 0.61561197963846892, 0.22833237741626511, 0.56434188460155044, 0.47372140690755937, 0.3057640934084197, 0.45391360103789591, 0.43879620409786158, 0.54657759325141297, 0.04167858076332176, 0.12577979271679429, 0.40518903067224954, 0.71558040896964403, 0.45611037584686187, 0.6550713894935507, 0.34577308824595554, 0.56896516296672017, 0.094968367949704202, 0.96158127455686837, 0.37399455861947206, 0.19603558011285294, 0.86241554243364094, 0.79570308173511406, 0.30138362455896273, 0.37604753058354889, 0.87434106717360005, 0.50366432467676336, 0.71552548446405972, 0.73475801687121478, 0.87580083667657338, 0.78036344022837911, 0.68386525788775088, 0.30898452859681302, 0.32512952375366022, 0.086501948951927865, 0.59507191944702409, 0.41290087790726016, 0.19656804025138219, 0.76363728005861264, 0.64581302875370517, 0.2625980120982534, 0.82971053345555901, 0.85386768921744138, 0.46890534156281161, 0.64007635724417933, 0.86567869399149144, 0.49389067468549475, 0.56656314465693547, 0.49490883294548893, 0.44371273868691197, 0.41323265812490317, 0.35163512148438325, 0.8654459596069477, 0.77765246145071776, 0.44131268233108512, 0.48435014396633125, 0.86907745410484183, 0.76191234732379542, 0.53371202636227077, 0.57983426729996346, 0.41997357628071796, 0.032728148706545945, 0.73516349002221348, 0.44883840764271876, 0.35835070565678573, 0.82585180961478244, 0.23156354277028113, 0.35266109241446986, 0.83089603690164293, 0.99136407789891379, 0.25678113081067999, 0.50609455064711328, 0.71971960632851473, 0.82912282410414895, 0.72045633735922743, 0.049988451552400837, 0.46041430262536565, 0.19558706993963249, 0.10370913838945628, 0.65811763376486054, 0.62917515945943725, 0.65817807424072516, 0.88445606372007102, 0.11854460226164321, 0.85673450456794953, 0.45500255399572531, 0.89382011911785231, 0.20704260648841255]\n",
      "reject_bits: [False False False False False False False False False False False False\n",
      " False False False False False False False False False False False False\n",
      " False False False False False False False False False False False False\n",
      " False False False False False False False False False False False False\n",
      " False False False False False False False False False False False False\n",
      " False False False False False False False False False False False False\n",
      " False False False False False False False False False False False False\n",
      " False False False False False False False False False False False False\n",
      " False False False False]\n",
      "\n"
     ]
    }
   ],
   "source": [
    "alphas = [0.05]\n",
    "for a in alphas:\n",
    "    p_values = []\n",
    "    for t in range(T):\n",
    "        for ex in run_criteries:\n",
    "            p_values.append(ex(Test,K[t]))\n",
    "    reject = multipletests(pvals=p_values, method='holm',alpha=a)[0]\n",
    "    print('for alpha = ' + str(a) + ' : ' + str(np.sum(reject)) + ' simple hypotheses are rejected:')\n",
    "    print('p_values: ' + str(p_values))\n",
    "    print('reject_bits: ' + str(reject))\n",
    "    print()    "
   ]
  },
  {
   "cell_type": "markdown",
   "metadata": {},
   "source": [
    "Как видно, на уровне 0.05 при множественной проверке гипотеза не отвергается"
   ]
  },
  {
   "cell_type": "code",
   "execution_count": null,
   "metadata": {
    "collapsed": true
   },
   "outputs": [],
   "source": []
  }
 ],
 "metadata": {
  "kernelspec": {
   "display_name": "Python 3",
   "language": "python",
   "name": "python3"
  },
  "language_info": {
   "codemirror_mode": {
    "name": "ipython",
    "version": 3
   },
   "file_extension": ".py",
   "mimetype": "text/x-python",
   "name": "python",
   "nbconvert_exporter": "python",
   "pygments_lexer": "ipython3",
   "version": "3.6.0"
  }
 },
 "nbformat": 4,
 "nbformat_minor": 2
}
