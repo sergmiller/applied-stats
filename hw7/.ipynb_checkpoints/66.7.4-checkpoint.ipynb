{
 "cells": [
  {
   "cell_type": "code",
   "execution_count": 1,
   "metadata": {
    "collapsed": true
   },
   "outputs": [],
   "source": [
    "import numpy as np\n",
    "import pandas as pd\n",
    "import matplotlib.pyplot as plt\n",
    "import sklearn\n",
    "import math\n",
    "import scipy.stats as sps\n",
    "from sympy import *\n",
    "from matplotlib import cm\n",
    "plt.style.use('ggplot')\n",
    "%matplotlib inline"
   ]
  },
  {
   "cell_type": "code",
   "execution_count": 4,
   "metadata": {
    "collapsed": true
   },
   "outputs": [],
   "source": [
    "data = pd.read_csv('hw7t4v0.txt', delimiter='\\\\s+', header=-1)"
   ]
  },
  {
   "cell_type": "code",
   "execution_count": 5,
   "metadata": {
    "collapsed": false
   },
   "outputs": [
    {
     "data": {
      "text/html": [
       "<div>\n",
       "<table border=\"1\" class=\"dataframe\">\n",
       "  <thead>\n",
       "    <tr style=\"text-align: right;\">\n",
       "      <th></th>\n",
       "      <th>0</th>\n",
       "      <th>1</th>\n",
       "      <th>2</th>\n",
       "      <th>3</th>\n",
       "      <th>4</th>\n",
       "      <th>5</th>\n",
       "      <th>6</th>\n",
       "      <th>7</th>\n",
       "      <th>8</th>\n",
       "      <th>9</th>\n",
       "    </tr>\n",
       "  </thead>\n",
       "  <tbody>\n",
       "    <tr>\n",
       "      <th>0</th>\n",
       "      <td>966.779</td>\n",
       "      <td>946.308</td>\n",
       "      <td>950.472</td>\n",
       "      <td>960.653</td>\n",
       "      <td>955.635</td>\n",
       "      <td>967.399</td>\n",
       "      <td>952.516</td>\n",
       "      <td>947.648</td>\n",
       "      <td>953.183</td>\n",
       "      <td>957.431</td>\n",
       "    </tr>\n",
       "    <tr>\n",
       "      <th>1</th>\n",
       "      <td>969.802</td>\n",
       "      <td>943.855</td>\n",
       "      <td>950.850</td>\n",
       "      <td>960.727</td>\n",
       "      <td>957.679</td>\n",
       "      <td>967.203</td>\n",
       "      <td>953.587</td>\n",
       "      <td>948.680</td>\n",
       "      <td>951.859</td>\n",
       "      <td>959.116</td>\n",
       "    </tr>\n",
       "    <tr>\n",
       "      <th>2</th>\n",
       "      <td>965.144</td>\n",
       "      <td>943.902</td>\n",
       "      <td>951.904</td>\n",
       "      <td>961.541</td>\n",
       "      <td>958.057</td>\n",
       "      <td>966.074</td>\n",
       "      <td>952.162</td>\n",
       "      <td>948.333</td>\n",
       "      <td>952.853</td>\n",
       "      <td>957.064</td>\n",
       "    </tr>\n",
       "    <tr>\n",
       "      <th>3</th>\n",
       "      <td>965.781</td>\n",
       "      <td>946.646</td>\n",
       "      <td>953.755</td>\n",
       "      <td>961.203</td>\n",
       "      <td>957.303</td>\n",
       "      <td>966.833</td>\n",
       "      <td>952.829</td>\n",
       "      <td>949.485</td>\n",
       "      <td>951.089</td>\n",
       "      <td>957.979</td>\n",
       "    </tr>\n",
       "    <tr>\n",
       "      <th>4</th>\n",
       "      <td>966.701</td>\n",
       "      <td>944.852</td>\n",
       "      <td>949.146</td>\n",
       "      <td>959.864</td>\n",
       "      <td>953.777</td>\n",
       "      <td>965.270</td>\n",
       "      <td>952.181</td>\n",
       "      <td>945.852</td>\n",
       "      <td>950.558</td>\n",
       "      <td>957.599</td>\n",
       "    </tr>\n",
       "  </tbody>\n",
       "</table>\n",
       "</div>"
      ],
      "text/plain": [
       "         0        1        2        3        4        5        6        7  \\\n",
       "0  966.779  946.308  950.472  960.653  955.635  967.399  952.516  947.648   \n",
       "1  969.802  943.855  950.850  960.727  957.679  967.203  953.587  948.680   \n",
       "2  965.144  943.902  951.904  961.541  958.057  966.074  952.162  948.333   \n",
       "3  965.781  946.646  953.755  961.203  957.303  966.833  952.829  949.485   \n",
       "4  966.701  944.852  949.146  959.864  953.777  965.270  952.181  945.852   \n",
       "\n",
       "         8        9  \n",
       "0  953.183  957.431  \n",
       "1  951.859  959.116  \n",
       "2  952.853  957.064  \n",
       "3  951.089  957.979  \n",
       "4  950.558  957.599  "
      ]
     },
     "execution_count": 5,
     "metadata": {},
     "output_type": "execute_result"
    }
   ],
   "source": [
    "data.head()"
   ]
  },
  {
   "cell_type": "code",
   "execution_count": 6,
   "metadata": {
    "collapsed": true
   },
   "outputs": [],
   "source": [
    "samples = np.array([[data[c][i] for c in data.columns ] for i in range(len(data[0]))])"
   ]
  },
  {
   "cell_type": "code",
   "execution_count": 8,
   "metadata": {
    "collapsed": false
   },
   "outputs": [
    {
     "name": "stdout",
     "output_type": "stream",
     "text": [
      "(10, 10)\n"
     ]
    }
   ],
   "source": [
    "print(samples.shape)"
   ]
  },
  {
   "cell_type": "markdown",
   "metadata": {},
   "source": [
    "Сначала проверим общие условия применимости критерия Фишера:\n",
    "\n",
    "$\\forall j  \\quad  D(X_{ij} - X_{kj})$ не зависит от $j$ (номер выборки)\n",
    "\n",
    "Проверим это с помощью критериев Левина и Бартлетта для проверки равенства дисперсий.\n",
    "Также проверим выборки на равенство эффектов обработки критериями Фридмана и Пэйджа(моделированием). Также проверим выборки на нормальность для обоснованности приминения критериев, которые работают только для нормальных выборок.\n",
    "Проверку проведем низходящим методом Холма при $FWER \\leq 0.05$. "
   ]
  },
  {
   "cell_type": "code",
   "execution_count": 10,
   "metadata": {
    "collapsed": false
   },
   "outputs": [
    {
     "name": "stdout",
     "output_type": "stream",
     "text": [
      "[[  9.348 -11.123  -6.959   3.222  -1.796   9.968  -4.915  -9.783  -4.248]\n",
      " [ 10.686 -15.261  -8.266   1.611  -1.437   8.087  -5.529 -10.436  -7.257]\n",
      " [  8.08  -13.162  -5.16    4.477   0.993   9.01   -4.902  -8.731  -4.211]\n",
      " [  7.802 -11.333  -4.224   3.224  -0.676   8.854  -5.15   -8.494  -6.89 ]\n",
      " [  9.102 -12.747  -8.453   2.265  -3.822   7.671  -5.418 -11.747  -7.041]\n",
      " [ 10.172  -9.603  -6.05    3.979   0.871   9.994  -4.249  -6.705  -3.341]\n",
      " [  9.527  -3.925  -6.485   4.639   3.055   9.532  -8.567 -10.     -5.143]\n",
      " [  7.766 -11.065  -8.782   3.407  -0.147   9.02   -4.444  -6.905  -5.141]\n",
      " [ 11.242  -9.151  -5.687   6.474   0.472  12.237  -2.251  -5.476  -1.823]\n",
      " [  9.405 -10.549  -8.543   2.561   2.111   9.853  -4.479  -8.342  -4.401]]\n"
     ]
    }
   ],
   "source": [
    "fisher_check = []\n",
    "k = len(samples[0])\n",
    "for j in range(len(samples)):\n",
    "    cur = []\n",
    "    for i in range(k-1):\n",
    "        cur.append(samples[j][i] - samples[j][k-1])\n",
    "    fisher_check.append(cur)\n",
    "fisher_check = np.array(fisher_check)\n",
    "print(fisher_check)"
   ]
  },
  {
   "cell_type": "code",
   "execution_count": 17,
   "metadata": {
    "collapsed": true
   },
   "outputs": [],
   "source": [
    "from statsmodels.sandbox.stats.multicomp import multipletests  # Holm method\n",
    "from scipy.stats import shapiro  # Shapiro-Wilk test\n",
    "from scipy.stats import normaltest  # D'Agostino test\n",
    "from scipy.stats import jarque_bera  # Jarque-Bera test\n",
    "from scipy.stats import f_oneway  # Fisher test\n",
    "from scipy.stats import kruskal  # Kruskal-Wallis test\n",
    "from scipy.stats import levene  # Levene test\n",
    "from scipy.stats import bartlett  # Bartlett test\n",
    "from scipy.stats import friedmanchisquare  # Friedman test"
   ]
  },
  {
   "cell_type": "code",
   "execution_count": 65,
   "metadata": {
    "collapsed": true
   },
   "outputs": [],
   "source": [
    "def get_stats(statf,n,k=100):\n",
    "    stats = np.zeros(k)\n",
    "    gens = sps.norm.rvs(size=(k,n))\n",
    "    for i in range(k):\n",
    "        stats[i] = statf(gens[i])[0]\n",
    "    stats = np.sort(stats)\n",
    "    return np.array(stats)\n",
    "\n",
    "def get_mult_stats(statf, n, l, k=100):\n",
    "    stats = np.zeros(k)\n",
    "    gens = []\n",
    "    for i in range(n):\n",
    "        gens.append(sps.norm.rvs(size=(k,l)))\n",
    "    for i in range(k):\n",
    "        cur = []\n",
    "        for j in range(n):\n",
    "              cur.append(gens[j][i])\n",
    "        stats[i] = statf(*cur)[0]\n",
    "    stats = np.sort(stats)\n",
    "    return np.array(stats)\n",
    "\n",
    "def run_stats(x,statf,stats):\n",
    "    st = statf(x)[0]\n",
    "    p = np.sum((st > stats))/len(stats)\n",
    "    return 2*min(p,1-p)  # two-tailed p-value\n",
    "\n",
    "def run_stats_pointer(x,statf,stats):\n",
    "    st = statf(*x)[0]\n",
    "    p = np.sum((st > stats))/len(stats)\n",
    "    return 2*min(p,1-p)  # two-tailed p-value"
   ]
  },
  {
   "cell_type": "code",
   "execution_count": 60,
   "metadata": {
    "collapsed": false
   },
   "outputs": [],
   "source": [
    "def my_page_stat(*args):\n",
    "    X = [x for x in args]\n",
    "    Y = []\n",
    "    for i in range(len(X[0])):\n",
    "        Z = []\n",
    "        for x in X:\n",
    "            Z.append(x[i])\n",
    "        Z = sorted(Z)\n",
    "        Y.append(np.array(Z))\n",
    "    R = np.zeros((len(X),len(X[0])))\n",
    "    for i in range(len(X)):\n",
    "        for j in range(len(X[0])):\n",
    "            R[i][j] = np.sum(Z[i] < X[i][j])\n",
    "    Rg = np.mean(R,axis=1)\n",
    "    return np.sum(np.arange(len(X))*Rg),1  \n",
    "# можно все считать в средних, так как при моделировании это не будет важно\n",
    "\n",
    "def my_2_way_fisher(*args):\n",
    "    X = np.array([x for x in args])\n",
    "    Xm = np.mean(X)\n",
    "    X_j = np.mean(X,axis=1)\n",
    "    X_i = np.mean(X,axis=0)\n",
    "    k = len(X)\n",
    "    n = len(X[0])\n",
    "    return (n*(n-1)*np.sum((X_j - Xm)**2)\n",
    "            /(np.sum((np.ravel(X) - Xm)**2) - k * np.sum((X_i - Xm)**2))), 1"
   ]
  },
  {
   "cell_type": "code",
   "execution_count": 18,
   "metadata": {
    "collapsed": false
   },
   "outputs": [
    {
     "name": "stderr",
     "output_type": "stream",
     "text": [
      "/Users/sergmiller/anaconda3/lib/python3.6/site-packages/scipy/stats/stats.py:1334: UserWarning: kurtosistest only valid for n>=20 ... continuing anyway, n=10\n",
      "  \"anyway, n=%i\" % int(n))\n"
     ]
    },
    {
     "name": "stdout",
     "output_type": "stream",
     "text": [
      "CPU times: user 1.15 s, sys: 26.2 ms, total: 1.18 s\n",
      "Wall time: 1.21 s\n"
     ]
    }
   ],
   "source": [
    "%%time\n",
    "stats_sw = get_stats(shapiro,k,1000)  # Shapiro-Wilk stats\n",
    "stats_da = get_stats(normaltest,k,1000)  # D'Agostino stats\n",
    "stats_jb = get_stats(jarque_bera,k,1000)  # Jarkue-Bera stats"
   ]
  },
  {
   "cell_type": "code",
   "execution_count": 62,
   "metadata": {
    "collapsed": false
   },
   "outputs": [
    {
     "name": "stdout",
     "output_type": "stream",
     "text": [
      "CPU times: user 18.3 s, sys: 174 ms, total: 18.5 s\n",
      "Wall time: 18.7 s\n"
     ]
    }
   ],
   "source": [
    "%%time\n",
    "stats_friedman = get_mult_stats(friedmanchisquare, len(samples), len(samples[0]), 10000)\n",
    "stats_page = get_mult_stats(my_page_stat,  len(samples), len(samples[0]), 10000)\n",
    "stats_fisher= get_mult_stats(my_2_way_fisher,  len(samples), len(samples[0]), 10000)"
   ]
  },
  {
   "cell_type": "code",
   "execution_count": 66,
   "metadata": {
    "collapsed": true
   },
   "outputs": [],
   "source": [
    "# adaptive criteries\n",
    "run_criteries = [\n",
    "    (lambda x: run_stats(x, shapiro, stats_sw))\n",
    "    , (lambda x: run_stats(x, normaltest, stats_da))\n",
    "    , (lambda x: run_stats(x, jarque_bera, stats_jb))\n",
    "    , (lambda s: run_stats_pointer(s, friedmanchisquare, stats_friedman))\n",
    "    , (lambda s: run_stats_pointer(s, my_page_stat, stats_page))\n",
    "    , (lambda s: run_stats_pointer(s, my_2_way_fisher, stats_fisher))\n",
    "    , (lambda s: f_oneway(*s)[1])\n",
    "    , (lambda s: kruskal(*s)[1])\n",
    "    , (lambda s: levene(*s)[1])\n",
    "    , (lambda s: bartlett(*s)[1])\n",
    "]"
   ]
  },
  {
   "cell_type": "code",
   "execution_count": 67,
   "metadata": {
    "collapsed": false
   },
   "outputs": [
    {
     "name": "stdout",
     "output_type": "stream",
     "text": [
      "for alpha = 0.05 : 0 simple hypotheses are rejected:\n",
      "p_values: [0.96199999999999997, 0.71399999999999997, 0.93399999999999994, 0.21199999999999997, 0.23000000000000001, 0.55200000000000005, 0.37200000000000011, 0.22600000000000001, 0.53600000000000003, 0.54800000000000004, 0.61799999999999999, 0.91400000000000003, 0.84800000000000009, 0.79200000000000004, 0.90199999999999991, 0.90000000000000002, 0.78600000000000003, 0.83600000000000008, 0.81000000000000005, 0.77200000000000002, 0.67599999999999993, 0.65999999999999992, 0.76400000000000001, 0.98999999999999999, 0.80600000000000005, 0.80600000000000005, 0.81200000000000006, 0.81000000000000005, 0.84999999999999998, 0.89599999999999991, 0.016199999999999992, 0.64840000000000009, 0.1472, 0.99989309029479412, 0.99939435998802173, 0.99987588945987049, 0.99996892301991724]\n",
      "reject_bits: [False False False False False False False False False False False False\n",
      " False False False False False False False False False False False False\n",
      " False False False False False False False False False False False False\n",
      " False]\n",
      "\n"
     ]
    },
    {
     "name": "stderr",
     "output_type": "stream",
     "text": [
      "/Users/sergmiller/anaconda3/lib/python3.6/site-packages/scipy/stats/stats.py:1334: UserWarning: kurtosistest only valid for n>=20 ... continuing anyway, n=10\n",
      "  \"anyway, n=%i\" % int(n))\n"
     ]
    }
   ],
   "source": [
    "alphas = [0.05]\n",
    "for a in alphas:\n",
    "    p_values = []\n",
    "    for x in samples:\n",
    "        p_values.append(run_criteries[0](x))\n",
    "        p_values.append(run_criteries[1](x))\n",
    "        p_values.append(run_criteries[2](x))\n",
    "    for ex in run_criteries[3:]:\n",
    "        p_values.append(ex(samples))\n",
    "    reject = multipletests(pvals=p_values, method='holm',alpha=a)[0]\n",
    "    print('for alpha = ' + str(a) + ' : ' + str(np.sum(reject)) + ' simple hypotheses are rejected:')\n",
    "    print('p_values: ' + str(p_values))\n",
    "    print('reject_bits: ' + str(reject))\n",
    "    print()"
   ]
  },
  {
   "cell_type": "markdown",
   "metadata": {},
   "source": [
    "Как видно, ничего не отвергается, \n",
    "\n",
    "следовательно считаем, что \n",
    "\n",
    "1)выборки распределены нормально на уровне 0.05, \n",
    "\n",
    "2)нужные дисперсии совпадают(то есть фишера можно применять),\n",
    "\n",
    "3)остальные критерии говорят, что в рамках задачи двухфакторного дисперсионного анализа совпадение средних/дисперсий/эффектов обработки не отвергается"
   ]
  },
  {
   "cell_type": "code",
   "execution_count": null,
   "metadata": {
    "collapsed": false
   },
   "outputs": [],
   "source": []
  },
  {
   "cell_type": "code",
   "execution_count": null,
   "metadata": {
    "collapsed": true
   },
   "outputs": [],
   "source": []
  }
 ],
 "metadata": {
  "kernelspec": {
   "display_name": "Python 3",
   "language": "python",
   "name": "python3"
  },
  "language_info": {
   "codemirror_mode": {
    "name": "ipython",
    "version": 3
   },
   "file_extension": ".py",
   "mimetype": "text/x-python",
   "name": "python",
   "nbconvert_exporter": "python",
   "pygments_lexer": "ipython3",
   "version": "3.6.0"
  }
 },
 "nbformat": 4,
 "nbformat_minor": 2
}
