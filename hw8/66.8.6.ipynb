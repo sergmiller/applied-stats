{
 "cells": [
  {
   "cell_type": "code",
   "execution_count": 1,
   "metadata": {
    "collapsed": true,
    "deletable": true,
    "editable": true
   },
   "outputs": [],
   "source": [
    "data = read.csv('housing.data.txt',sep = '',header = FALSE)"
   ]
  },
  {
   "cell_type": "code",
   "execution_count": 2,
   "metadata": {
    "collapsed": false,
    "deletable": true,
    "editable": true
   },
   "outputs": [
    {
     "data": {
      "text/html": [
       "<table>\n",
       "<thead><tr><th scope=col>V1</th><th scope=col>V2</th><th scope=col>V3</th><th scope=col>V4</th><th scope=col>V5</th><th scope=col>V6</th><th scope=col>V7</th><th scope=col>V8</th><th scope=col>V9</th><th scope=col>V10</th><th scope=col>V11</th><th scope=col>V12</th><th scope=col>V13</th><th scope=col>V14</th></tr></thead>\n",
       "<tbody>\n",
       "\t<tr><td>0.00632</td><td>18     </td><td>2.31   </td><td>0      </td><td>0.538  </td><td>6.575  </td><td>65.2   </td><td>4.0900 </td><td>1      </td><td>296    </td><td>15.3   </td><td>396.90 </td><td>4.98   </td><td>24.0   </td></tr>\n",
       "\t<tr><td>0.02731</td><td> 0     </td><td>7.07   </td><td>0      </td><td>0.469  </td><td>6.421  </td><td>78.9   </td><td>4.9671 </td><td>2      </td><td>242    </td><td>17.8   </td><td>396.90 </td><td>9.14   </td><td>21.6   </td></tr>\n",
       "\t<tr><td>0.02729</td><td> 0     </td><td>7.07   </td><td>0      </td><td>0.469  </td><td>7.185  </td><td>61.1   </td><td>4.9671 </td><td>2      </td><td>242    </td><td>17.8   </td><td>392.83 </td><td>4.03   </td><td>34.7   </td></tr>\n",
       "\t<tr><td>0.03237</td><td> 0     </td><td>2.18   </td><td>0      </td><td>0.458  </td><td>6.998  </td><td>45.8   </td><td>6.0622 </td><td>3      </td><td>222    </td><td>18.7   </td><td>394.63 </td><td>2.94   </td><td>33.4   </td></tr>\n",
       "\t<tr><td>0.06905</td><td> 0     </td><td>2.18   </td><td>0      </td><td>0.458  </td><td>7.147  </td><td>54.2   </td><td>6.0622 </td><td>3      </td><td>222    </td><td>18.7   </td><td>396.90 </td><td>5.33   </td><td>36.2   </td></tr>\n",
       "\t<tr><td>0.02985</td><td> 0     </td><td>2.18   </td><td>0      </td><td>0.458  </td><td>6.430  </td><td>58.7   </td><td>6.0622 </td><td>3      </td><td>222    </td><td>18.7   </td><td>394.12 </td><td>5.21   </td><td>28.7   </td></tr>\n",
       "</tbody>\n",
       "</table>\n"
      ],
      "text/latex": [
       "\\begin{tabular}{r|llllllllllllll}\n",
       " V1 & V2 & V3 & V4 & V5 & V6 & V7 & V8 & V9 & V10 & V11 & V12 & V13 & V14\\\\\n",
       "\\hline\n",
       "\t 0.00632 & 18      & 2.31    & 0       & 0.538   & 6.575   & 65.2    & 4.0900  & 1       & 296     & 15.3    & 396.90  & 4.98    & 24.0   \\\\\n",
       "\t 0.02731 &  0      & 7.07    & 0       & 0.469   & 6.421   & 78.9    & 4.9671  & 2       & 242     & 17.8    & 396.90  & 9.14    & 21.6   \\\\\n",
       "\t 0.02729 &  0      & 7.07    & 0       & 0.469   & 7.185   & 61.1    & 4.9671  & 2       & 242     & 17.8    & 392.83  & 4.03    & 34.7   \\\\\n",
       "\t 0.03237 &  0      & 2.18    & 0       & 0.458   & 6.998   & 45.8    & 6.0622  & 3       & 222     & 18.7    & 394.63  & 2.94    & 33.4   \\\\\n",
       "\t 0.06905 &  0      & 2.18    & 0       & 0.458   & 7.147   & 54.2    & 6.0622  & 3       & 222     & 18.7    & 396.90  & 5.33    & 36.2   \\\\\n",
       "\t 0.02985 &  0      & 2.18    & 0       & 0.458   & 6.430   & 58.7    & 6.0622  & 3       & 222     & 18.7    & 394.12  & 5.21    & 28.7   \\\\\n",
       "\\end{tabular}\n"
      ],
      "text/markdown": [
       "\n",
       "V1 | V2 | V3 | V4 | V5 | V6 | V7 | V8 | V9 | V10 | V11 | V12 | V13 | V14 | \n",
       "|---|---|---|---|---|---|\n",
       "| 0.00632 | 18      | 2.31    | 0       | 0.538   | 6.575   | 65.2    | 4.0900  | 1       | 296     | 15.3    | 396.90  | 4.98    | 24.0    | \n",
       "| 0.02731 |  0      | 7.07    | 0       | 0.469   | 6.421   | 78.9    | 4.9671  | 2       | 242     | 17.8    | 396.90  | 9.14    | 21.6    | \n",
       "| 0.02729 |  0      | 7.07    | 0       | 0.469   | 7.185   | 61.1    | 4.9671  | 2       | 242     | 17.8    | 392.83  | 4.03    | 34.7    | \n",
       "| 0.03237 |  0      | 2.18    | 0       | 0.458   | 6.998   | 45.8    | 6.0622  | 3       | 222     | 18.7    | 394.63  | 2.94    | 33.4    | \n",
       "| 0.06905 |  0      | 2.18    | 0       | 0.458   | 7.147   | 54.2    | 6.0622  | 3       | 222     | 18.7    | 396.90  | 5.33    | 36.2    | \n",
       "| 0.02985 |  0      | 2.18    | 0       | 0.458   | 6.430   | 58.7    | 6.0622  | 3       | 222     | 18.7    | 394.12  | 5.21    | 28.7    | \n",
       "\n",
       "\n"
      ],
      "text/plain": [
       "  V1      V2 V3   V4 V5    V6    V7   V8     V9 V10 V11  V12    V13  V14 \n",
       "1 0.00632 18 2.31 0  0.538 6.575 65.2 4.0900 1  296 15.3 396.90 4.98 24.0\n",
       "2 0.02731  0 7.07 0  0.469 6.421 78.9 4.9671 2  242 17.8 396.90 9.14 21.6\n",
       "3 0.02729  0 7.07 0  0.469 7.185 61.1 4.9671 2  242 17.8 392.83 4.03 34.7\n",
       "4 0.03237  0 2.18 0  0.458 6.998 45.8 6.0622 3  222 18.7 394.63 2.94 33.4\n",
       "5 0.06905  0 2.18 0  0.458 7.147 54.2 6.0622 3  222 18.7 396.90 5.33 36.2\n",
       "6 0.02985  0 2.18 0  0.458 6.430 58.7 6.0622 3  222 18.7 394.12 5.21 28.7"
      ]
     },
     "metadata": {},
     "output_type": "display_data"
    }
   ],
   "source": [
    "head(data)"
   ]
  },
  {
   "cell_type": "code",
   "execution_count": 144,
   "metadata": {
    "collapsed": false,
    "deletable": true,
    "editable": true
   },
   "outputs": [],
   "source": [
    "add_next<-function(used, X, f, best='None') {\n",
    "    all = colnames(X)\n",
    "    best_name = ''\n",
    "    update = FALSE\n",
    "    Y = data$V14\n",
    "    for(name in setdiff(all, used)) {\n",
    "        used_new = c(used,name)\n",
    "        new_X = as.matrix(data[,used_new])\n",
    "        fit<-lm(Y ~ new_X)\n",
    "        pred<-as.numeric(predict(fit,data[14]))\n",
    "        cur<-f(new_X, Y, pred)\n",
    "        if(best == 'None' || cur < best) {\n",
    "            best = cur\n",
    "            best_name = name\n",
    "            update = TRUE\n",
    "        }\n",
    "    }\n",
    "      \n",
    "    if(update) {\n",
    "        print('update:')\n",
    "        print(best_name)\n",
    "        return(c(best_name, best, used))\n",
    "    }\n",
    "    \n",
    "    print('No Update')\n",
    "    return(c())\n",
    "}\n",
    "\n",
    "aic<-function(X,real, pred) {\n",
    "    k = ncol(X)\n",
    "    n = nrow(X)\n",
    "    rss = dist(rbind(pred,real))^2\n",
    "    return(2 * k/n + (log(rss / n) + 1))\n",
    "}\n",
    "\n",
    "bic<-function(X, real, pred) {\n",
    "    k = ncol(X)\n",
    "    n = nrow(X)\n",
    "    rss = dist(rbind(pred,real))^2\n",
    "    return (2 * k * log(n) / n + (log(rss/n) + 1))\n",
    "}"
   ]
  },
  {
   "cell_type": "code",
   "execution_count": 145,
   "metadata": {
    "collapsed": false,
    "deletable": true,
    "editable": true
   },
   "outputs": [],
   "source": [
    "calc_model<-function(f) {\n",
    "    used = c()\n",
    "    History = c()\n",
    "    best = 'None'\n",
    "    while(TRUE) {\n",
    "        cache = add_next(used,data[-c(14)],f,best)\n",
    "        if (length(cache) == 0) {\n",
    "            break\n",
    "        } else {\n",
    "            History = c(History, cache[2])\n",
    "            used = c(used, cache[1])\n",
    "            best = cache[2]\n",
    "        }\n",
    "    }\n",
    "    return (c(History, used))\n",
    "}"
   ]
  },
  {
   "cell_type": "code",
   "execution_count": 146,
   "metadata": {
    "collapsed": false,
    "deletable": true,
    "editable": true
   },
   "outputs": [
    {
     "name": "stdout",
     "output_type": "stream",
     "text": [
      "[1] \"update:\"\n",
      "[1] \"V13\"\n",
      "[1] \"update:\"\n",
      "[1] \"V6\"\n",
      "[1] \"update:\"\n",
      "[1] \"V11\"\n",
      "[1] \"update:\"\n",
      "[1] \"V8\"\n",
      "[1] \"update:\"\n",
      "[1] \"V5\"\n",
      "[1] \"update:\"\n",
      "[1] \"V4\"\n",
      "[1] \"update:\"\n",
      "[1] \"V12\"\n",
      "[1] \"update:\"\n",
      "[1] \"V2\"\n",
      "[1] \"update:\"\n",
      "[1] \"V1\"\n",
      "[1] \"update:\"\n",
      "[1] \"V9\"\n",
      "[1] \"update:\"\n",
      "[1] \"V10\"\n",
      "[1] \"No Update\"\n"
     ]
    }
   ],
   "source": [
    "res_aic = calc_model(aic)"
   ]
  },
  {
   "cell_type": "code",
   "execution_count": 147,
   "metadata": {
    "collapsed": false,
    "deletable": true,
    "editable": true
   },
   "outputs": [
    {
     "name": "stdout",
     "output_type": "stream",
     "text": [
      "[1] \"update:\"\n",
      "[1] \"V13\"\n",
      "[1] \"update:\"\n",
      "[1] \"V6\"\n",
      "[1] \"update:\"\n",
      "[1] \"V11\"\n",
      "[1] \"update:\"\n",
      "[1] \"V8\"\n",
      "[1] \"update:\"\n",
      "[1] \"V5\"\n",
      "[1] \"update:\"\n",
      "[1] \"V4\"\n",
      "[1] \"No Update\"\n"
     ]
    }
   ],
   "source": [
    "res_bic=calc_model(bic)"
   ]
  },
  {
   "cell_type": "code",
   "execution_count": 148,
   "metadata": {
    "collapsed": false,
    "deletable": true,
    "editable": true
   },
   "outputs": [
    {
     "data": {
      "text/html": [
       "<ol class=list-inline>\n",
       "\t<li>'4.65416830295855'</li>\n",
       "\t<li>'4.42604055078275'</li>\n",
       "\t<li>'4.3125127901506'</li>\n",
       "\t<li>'4.27943329893208'</li>\n",
       "\t<li>'4.22425461969187'</li>\n",
       "\t<li>'4.2015281701897'</li>\n",
       "\t<li>'4.18275214843485'</li>\n",
       "\t<li>'4.17057153655196'</li>\n",
       "\t<li>'4.16638096160477'</li>\n",
       "\t<li>'4.15040100019209'</li>\n",
       "\t<li>'4.12996164470738'</li>\n",
       "\t<li>'V13'</li>\n",
       "\t<li>'V6'</li>\n",
       "\t<li>'V11'</li>\n",
       "\t<li>'V8'</li>\n",
       "\t<li>'V5'</li>\n",
       "\t<li>'V4'</li>\n",
       "\t<li>'V12'</li>\n",
       "\t<li>'V2'</li>\n",
       "\t<li>'V1'</li>\n",
       "\t<li>'V9'</li>\n",
       "\t<li>'V10'</li>\n",
       "</ol>\n"
      ],
      "text/latex": [
       "\\begin{enumerate*}\n",
       "\\item '4.65416830295855'\n",
       "\\item '4.42604055078275'\n",
       "\\item '4.3125127901506'\n",
       "\\item '4.27943329893208'\n",
       "\\item '4.22425461969187'\n",
       "\\item '4.2015281701897'\n",
       "\\item '4.18275214843485'\n",
       "\\item '4.17057153655196'\n",
       "\\item '4.16638096160477'\n",
       "\\item '4.15040100019209'\n",
       "\\item '4.12996164470738'\n",
       "\\item 'V13'\n",
       "\\item 'V6'\n",
       "\\item 'V11'\n",
       "\\item 'V8'\n",
       "\\item 'V5'\n",
       "\\item 'V4'\n",
       "\\item 'V12'\n",
       "\\item 'V2'\n",
       "\\item 'V1'\n",
       "\\item 'V9'\n",
       "\\item 'V10'\n",
       "\\end{enumerate*}\n"
      ],
      "text/markdown": [
       "1. '4.65416830295855'\n",
       "2. '4.42604055078275'\n",
       "3. '4.3125127901506'\n",
       "4. '4.27943329893208'\n",
       "5. '4.22425461969187'\n",
       "6. '4.2015281701897'\n",
       "7. '4.18275214843485'\n",
       "8. '4.17057153655196'\n",
       "9. '4.16638096160477'\n",
       "10. '4.15040100019209'\n",
       "11. '4.12996164470738'\n",
       "12. 'V13'\n",
       "13. 'V6'\n",
       "14. 'V11'\n",
       "15. 'V8'\n",
       "16. 'V5'\n",
       "17. 'V4'\n",
       "18. 'V12'\n",
       "19. 'V2'\n",
       "20. 'V1'\n",
       "21. 'V9'\n",
       "22. 'V10'\n",
       "\n",
       "\n"
      ],
      "text/plain": [
       " [1] \"4.65416830295855\" \"4.42604055078275\" \"4.3125127901506\"  \"4.27943329893208\"\n",
       " [5] \"4.22425461969187\" \"4.2015281701897\"  \"4.18275214843485\" \"4.17057153655196\"\n",
       " [9] \"4.16638096160477\" \"4.15040100019209\" \"4.12996164470738\" \"V13\"             \n",
       "[13] \"V6\"               \"V11\"              \"V8\"               \"V5\"              \n",
       "[17] \"V4\"               \"V12\"              \"V2\"               \"V1\"              \n",
       "[21] \"V9\"               \"V10\"             "
      ]
     },
     "metadata": {},
     "output_type": "display_data"
    }
   ],
   "source": [
    "res_aic"
   ]
  },
  {
   "cell_type": "code",
   "execution_count": 149,
   "metadata": {
    "collapsed": false,
    "deletable": true,
    "editable": true
   },
   "outputs": [
    {
     "data": {
      "text/html": [
       "<ol class=list-inline>\n",
       "\t<li>'4.67482655066325'</li>\n",
       "\t<li>'4.46735704619214'</li>\n",
       "\t<li>'4.37448753326468'</li>\n",
       "\t<li>'4.36206628975085'</li>\n",
       "\t<li>'4.32754585821534'</li>\n",
       "\t<li>'4.32547765641786'</li>\n",
       "\t<li>'V13'</li>\n",
       "\t<li>'V6'</li>\n",
       "\t<li>'V11'</li>\n",
       "\t<li>'V8'</li>\n",
       "\t<li>'V5'</li>\n",
       "\t<li>'V4'</li>\n",
       "</ol>\n"
      ],
      "text/latex": [
       "\\begin{enumerate*}\n",
       "\\item '4.67482655066325'\n",
       "\\item '4.46735704619214'\n",
       "\\item '4.37448753326468'\n",
       "\\item '4.36206628975085'\n",
       "\\item '4.32754585821534'\n",
       "\\item '4.32547765641786'\n",
       "\\item 'V13'\n",
       "\\item 'V6'\n",
       "\\item 'V11'\n",
       "\\item 'V8'\n",
       "\\item 'V5'\n",
       "\\item 'V4'\n",
       "\\end{enumerate*}\n"
      ],
      "text/markdown": [
       "1. '4.67482655066325'\n",
       "2. '4.46735704619214'\n",
       "3. '4.37448753326468'\n",
       "4. '4.36206628975085'\n",
       "5. '4.32754585821534'\n",
       "6. '4.32547765641786'\n",
       "7. 'V13'\n",
       "8. 'V6'\n",
       "9. 'V11'\n",
       "10. 'V8'\n",
       "11. 'V5'\n",
       "12. 'V4'\n",
       "\n",
       "\n"
      ],
      "text/plain": [
       " [1] \"4.67482655066325\" \"4.46735704619214\" \"4.37448753326468\" \"4.36206628975085\"\n",
       " [5] \"4.32754585821534\" \"4.32547765641786\" \"V13\"              \"V6\"              \n",
       " [9] \"V11\"              \"V8\"               \"V5\"               \"V4\"              "
      ]
     },
     "metadata": {},
     "output_type": "display_data"
    }
   ],
   "source": [
    "res_bic"
   ]
  },
  {
   "cell_type": "code",
   "execution_count": 150,
   "metadata": {
    "collapsed": false,
    "deletable": true,
    "editable": true
   },
   "outputs": [],
   "source": [
    "aic_numb = res_aic[1:13]\n",
    "bic_numb = res_bic[1:13]"
   ]
  },
  {
   "cell_type": "code",
   "execution_count": 151,
   "metadata": {
    "collapsed": false,
    "deletable": true,
    "editable": true
   },
   "outputs": [
    {
     "name": "stderr",
     "output_type": "stream",
     "text": [
      "Warning message in xy.coords(x, y, xlabel, ylabel, log):\n",
      "“в результате преобразования созданы NA”Warning message in xy.coords(x, y, xlabel, ylabel, log):\n",
      "“в результате преобразования созданы NA”"
     ]
    },
    {
     "data": {
      "image/png": "[encoded data removed]",
      "text/plain": [
       "plot without title"
      ]
     },
     "metadata": {},
     "output_type": "display_data"
    },
    {
     "data": {
      "image/png": "[encoded data removed]",
      "text/plain": [
       "plot without title"
      ]
     },
     "metadata": {},
     "output_type": "display_data"
    }
   ],
   "source": [
    "plot(aic_numb)\n",
    "plot(bic_numb)"
   ]
  },
  {
   "cell_type": "markdown",
   "metadata": {
    "deletable": true,
    "editable": true
   },
   "source": [
    "Видно, что сначала выбираются одни и те же признаки (это и так понятно так как критерии отличаются на константу). В какой то момент алгоритм построения по bic критерию перестает добалять признаки, так как штраф за них становится сильно больше (так как доп салагаемое  ~ ln n)."
   ]
  },
  {
   "cell_type": "code",
   "execution_count": 1,
   "metadata": {
    "collapsed": true,
    "deletable": true,
    "editable": true
   },
   "outputs": [],
   "source": [
    "?p.adjust"
   ]
  },
  {
   "cell_type": "code",
   "execution_count": null,
   "metadata": {
    "collapsed": true,
    "deletable": true,
    "editable": true
   },
   "outputs": [],
   "source": []
  }
 ],
 "metadata": {
  "kernelspec": {
   "display_name": "R",
   "language": "R",
   "name": "ir"
  },
  "language_info": {
   "codemirror_mode": "r",
   "file_extension": ".r",
   "mimetype": "text/x-r-source",
   "name": "R",
   "pygments_lexer": "r",
   "version": "3.3.2"
  }
 },
 "nbformat": 4,
 "nbformat_minor": 2
}
