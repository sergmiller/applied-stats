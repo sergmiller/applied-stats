{
 "cells": [
  {
   "cell_type": "code",
   "execution_count": 25,
   "metadata": {
    "collapsed": true
   },
   "outputs": [],
   "source": [
    "import numpy as np\n",
    "import pandas as pd\n",
    "import matplotlib.pyplot as plt\n",
    "import sklearn\n",
    "import scipy.stats as sps\n",
    "from sympy import *\n",
    "from matplotlib import cm\n",
    "plt.style.use('ggplot')\n",
    "%matplotlib inline\n",
    "\n",
    "def scan_from_csv(filename,header=None,d=None):\n",
    "    if not header:\n",
    "        return pd.read_csv(filename,na_values='None')\n",
    "    else:\n",
    "        return pd.read_csv(filename,na_values='None',header=-1,delimiter=d)\n",
    "\n",
    "def write_answer_to_file(answer,file):\n",
    "    with open(file, 'w') as answer_file:  \n",
    "        answer_file.write(answer)"
   ]
  },
  {
   "cell_type": "markdown",
   "metadata": {},
   "source": [
    "Скачаем все нужные данные:"
   ]
  },
  {
   "cell_type": "code",
   "execution_count": 65,
   "metadata": {
    "collapsed": false
   },
   "outputs": [],
   "source": [
    "data_wine = scan_from_csv('wine.data.txt',1)\n",
    "data_slump = scan_from_csv('slump_test.data.txt')\n",
    "data_vowel = scan_from_csv('vowel-context.data.txt',header=1,d='\\\\s+')"
   ]
  },
  {
   "cell_type": "code",
   "execution_count": 122,
   "metadata": {
    "collapsed": false
   },
   "outputs": [
    {
     "data": {
      "text/html": [
       "<div>\n",
       "<table border=\"1\" class=\"dataframe\">\n",
       "  <thead>\n",
       "    <tr style=\"text-align: right;\">\n",
       "      <th></th>\n",
       "      <th>0</th>\n",
       "      <th>1</th>\n",
       "      <th>2</th>\n",
       "      <th>3</th>\n",
       "      <th>4</th>\n",
       "      <th>5</th>\n",
       "      <th>6</th>\n",
       "      <th>7</th>\n",
       "      <th>8</th>\n",
       "      <th>9</th>\n",
       "      <th>10</th>\n",
       "      <th>11</th>\n",
       "      <th>12</th>\n",
       "      <th>13</th>\n",
       "    </tr>\n",
       "  </thead>\n",
       "  <tbody>\n",
       "    <tr>\n",
       "      <th>0</th>\n",
       "      <td>0</td>\n",
       "      <td>0</td>\n",
       "      <td>0</td>\n",
       "      <td>-3.639</td>\n",
       "      <td>0.418</td>\n",
       "      <td>-0.670</td>\n",
       "      <td>1.779</td>\n",
       "      <td>-0.168</td>\n",
       "      <td>1.627</td>\n",
       "      <td>-0.388</td>\n",
       "      <td>0.529</td>\n",
       "      <td>-0.874</td>\n",
       "      <td>-0.814</td>\n",
       "      <td>0</td>\n",
       "    </tr>\n",
       "    <tr>\n",
       "      <th>1</th>\n",
       "      <td>0</td>\n",
       "      <td>0</td>\n",
       "      <td>0</td>\n",
       "      <td>-3.327</td>\n",
       "      <td>0.496</td>\n",
       "      <td>-0.694</td>\n",
       "      <td>1.365</td>\n",
       "      <td>-0.265</td>\n",
       "      <td>1.933</td>\n",
       "      <td>-0.363</td>\n",
       "      <td>0.510</td>\n",
       "      <td>-0.621</td>\n",
       "      <td>-0.488</td>\n",
       "      <td>1</td>\n",
       "    </tr>\n",
       "    <tr>\n",
       "      <th>2</th>\n",
       "      <td>0</td>\n",
       "      <td>0</td>\n",
       "      <td>0</td>\n",
       "      <td>-2.120</td>\n",
       "      <td>0.894</td>\n",
       "      <td>-1.576</td>\n",
       "      <td>0.147</td>\n",
       "      <td>-0.707</td>\n",
       "      <td>1.559</td>\n",
       "      <td>-0.579</td>\n",
       "      <td>0.676</td>\n",
       "      <td>-0.809</td>\n",
       "      <td>-0.049</td>\n",
       "      <td>2</td>\n",
       "    </tr>\n",
       "    <tr>\n",
       "      <th>3</th>\n",
       "      <td>0</td>\n",
       "      <td>0</td>\n",
       "      <td>0</td>\n",
       "      <td>-2.287</td>\n",
       "      <td>1.809</td>\n",
       "      <td>-1.498</td>\n",
       "      <td>1.012</td>\n",
       "      <td>-1.053</td>\n",
       "      <td>1.060</td>\n",
       "      <td>-0.567</td>\n",
       "      <td>0.235</td>\n",
       "      <td>-0.091</td>\n",
       "      <td>-0.795</td>\n",
       "      <td>3</td>\n",
       "    </tr>\n",
       "    <tr>\n",
       "      <th>4</th>\n",
       "      <td>0</td>\n",
       "      <td>0</td>\n",
       "      <td>0</td>\n",
       "      <td>-2.598</td>\n",
       "      <td>1.938</td>\n",
       "      <td>-0.846</td>\n",
       "      <td>1.062</td>\n",
       "      <td>-1.633</td>\n",
       "      <td>0.764</td>\n",
       "      <td>0.394</td>\n",
       "      <td>-0.150</td>\n",
       "      <td>0.277</td>\n",
       "      <td>-0.396</td>\n",
       "      <td>4</td>\n",
       "    </tr>\n",
       "  </tbody>\n",
       "</table>\n",
       "</div>"
      ],
      "text/plain": [
       "   0   1   2      3      4      5      6      7      8      9      10     11  \\\n",
       "0   0   0   0 -3.639  0.418 -0.670  1.779 -0.168  1.627 -0.388  0.529 -0.874   \n",
       "1   0   0   0 -3.327  0.496 -0.694  1.365 -0.265  1.933 -0.363  0.510 -0.621   \n",
       "2   0   0   0 -2.120  0.894 -1.576  0.147 -0.707  1.559 -0.579  0.676 -0.809   \n",
       "3   0   0   0 -2.287  1.809 -1.498  1.012 -1.053  1.060 -0.567  0.235 -0.091   \n",
       "4   0   0   0 -2.598  1.938 -0.846  1.062 -1.633  0.764  0.394 -0.150  0.277   \n",
       "\n",
       "      12  13  \n",
       "0 -0.814   0  \n",
       "1 -0.488   1  \n",
       "2 -0.049   2  \n",
       "3 -0.795   3  \n",
       "4 -0.396   4  "
      ]
     },
     "execution_count": 122,
     "metadata": {},
     "output_type": "execute_result"
    }
   ],
   "source": [
    "data_vowel.head()"
   ]
  },
  {
   "cell_type": "code",
   "execution_count": 77,
   "metadata": {
    "collapsed": true
   },
   "outputs": [],
   "source": [
    "data = [ \n",
    "        data_slump['Compressive Strength (28-day)(Mpa)'], \n",
    "        data_wine[4],\n",
    "        data_vowel[7],\n",
    "        data_wine[1],\n",
    "        data_wine[3],\n",
    "        data_wine[8], \n",
    "        data_wine[9], \n",
    "]\n",
    "data =[np.array(x) for x in data]"
   ]
  },
  {
   "cell_type": "markdown",
   "metadata": {},
   "source": [
    "Для проверки нормальности будем использовать следующие критерии: $\\chi^2$, Жарка-Бера, Д'Агостино, Шапиро-Уилка и Лиллиефорса\n",
    "\n",
    "Для проверки сложной гипотезы, что все выборки распределены нормально, будем использовать нисходящую процедуру Бенджаминини-Иекутиелли, так как он позволяет контролировать $FDR \\leq \\alpha$ и при этом не улучшаем при неизвестной зависимости между статистиками, а она точно есть, так как есть гипотезы строящие статистики (различные критерии нормальности) на основе одних и тех же выборок. По этой же причине здесь нельзя применять нисходящий метод Бенджа- мини-Хохберга так как в этом случае он не гарантирует нужный уровень контроля $FDR$."
   ]
  },
  {
   "cell_type": "markdown",
   "metadata": {},
   "source": [
    "Посмотрим размеры выборок:"
   ]
  },
  {
   "cell_type": "code",
   "execution_count": 78,
   "metadata": {
    "collapsed": false
   },
   "outputs": [
    {
     "name": "stdout",
     "output_type": "stream",
     "text": [
      "[103, 178, 990, 178, 178, 178, 178]\n"
     ]
    }
   ],
   "source": [
    "print([len(x) for x in data])"
   ]
  },
  {
   "cell_type": "markdown",
   "metadata": {},
   "source": [
    "Большинство выборок маленькие $\\ll 1000$, поэтому p-value для  Жарка-Бера, Д'Агостино найдем моделированием."
   ]
  },
  {
   "cell_type": "code",
   "execution_count": 79,
   "metadata": {
    "collapsed": true
   },
   "outputs": [],
   "source": [
    "from statsmodels.sandbox.stats.multicomp import multipletests  # Holm method\n",
    "from skgof import ks_test  # KS for Lillieforce test\n",
    "from scipy.stats import chisquare  # chi^2 test\n",
    "from scipy.stats import normaltest  # d'Agostino test\n",
    "from scipy.stats import jarque_bera  # Jarque-Bera test\n",
    "from scipy.stats import shapiro  # Shapiro-Wilk test"
   ]
  },
  {
   "cell_type": "code",
   "execution_count": 80,
   "metadata": {
    "collapsed": true
   },
   "outputs": [],
   "source": [
    "def run_chisquare_norm(x):\n",
    "    f_obs, bins, other = plt.hist(x,bins='auto')\n",
    "    m = np.mean(x)\n",
    "    s = np.std(x)\n",
    "    f_exp = np.array([sps.norm.cdf(x=bins[i+1],loc=m,scale=s) - \n",
    "                      sps.norm.cdf(x=bins[i],loc=m,scale=s)\n",
    "                      for i in range(len(bins)-1)]) * np.sum(f_obs)\n",
    "\n",
    "    return chisquare(f_obs=f_obs, f_exp=f_exp)[1]"
   ]
  },
  {
   "cell_type": "code",
   "execution_count": 81,
   "metadata": {
    "collapsed": true
   },
   "outputs": [],
   "source": [
    "def get_stats(statf,n,k=100):\n",
    "    stats = np.zeros(k)\n",
    "    gens = sps.norm.rvs(size=(k,n))\n",
    "    for i in range(k):\n",
    "        stats[i] = statf(gens[i])[0]\n",
    "    stats = np.sort(stats)\n",
    "    return np.array(stats)\n",
    "\n",
    "def run_stats(x,statf,stats):\n",
    "    st = statf(x)[0]\n",
    "    p = np.sum((st > stats[len(x)]))/len(stats[len(x)])\n",
    "    return 2*min(p,1-p)  # two-tailed p-value"
   ]
  },
  {
   "cell_type": "code",
   "execution_count": 82,
   "metadata": {
    "collapsed": false
   },
   "outputs": [
    {
     "name": "stdout",
     "output_type": "stream",
     "text": [
      "CPU times: user 33.7 s, sys: 485 ms, total: 34.1 s\n",
      "Wall time: 34.7 s\n"
     ]
    }
   ],
   "source": [
    "%%time\n",
    "# adaptive criteries\n",
    "lens = set([len(x) for x in data])\n",
    "stats_jb = dict()\n",
    "stats_ag = dict()\n",
    "for l in lens:\n",
    "    stats_jb[l] = get_stats(jarque_bera,n=l,k=10000)  # Jarque-Bera stats\n",
    "    stats_ag[l] = get_stats(normaltest,n=l,k=10000)  # D'Agostino stats\n",
    "run_criteries = [\n",
    "    (lambda x: ks_test(x,sps.norm(loc=np.mean(x),scale=np.std(x)))[1]),\n",
    "    run_chisquare_norm,\n",
    "    (lambda x: run_stats(x, normaltest,stats_ag)),\n",
    "    (lambda x: run_stats(x, jarque_bera,stats_jb)),\n",
    "    (lambda x: shapiro(x)[1]),\n",
    "]"
   ]
  },
  {
   "cell_type": "code",
   "execution_count": 87,
   "metadata": {
    "collapsed": false
   },
   "outputs": [
    {
     "name": "stdout",
     "output_type": "stream",
     "text": [
      "Help on function multipletests in module statsmodels.stats.multitest:\n",
      "\n",
      "multipletests(pvals, alpha=0.05, method='hs', is_sorted=False, returnsorted=False)\n",
      "    test results and p-value correction for multiple tests\n",
      "    \n",
      "    \n",
      "    Parameters\n",
      "    ----------\n",
      "    pvals : array_like\n",
      "        uncorrected p-values\n",
      "    alpha : float\n",
      "        FWER, family-wise error rate, e.g. 0.1\n",
      "    method : string\n",
      "        Method used for testing and adjustment of pvalues. Can be either the\n",
      "        full name or initial letters. Available methods are ::\n",
      "    \n",
      "        `bonferroni` : one-step correction\n",
      "        `sidak` : one-step correction\n",
      "        `holm-sidak` : step down method using Sidak adjustments\n",
      "        `holm` : step-down method using Bonferroni adjustments\n",
      "        `simes-hochberg` : step-up method  (independent)\n",
      "        `hommel` : closed method based on Simes tests (non-negative)\n",
      "        `fdr_bh` : Benjamini/Hochberg  (non-negative)\n",
      "        `fdr_by` : Benjamini/Yekutieli (negative)\n",
      "        `fdr_tsbh` : two stage fdr correction (non-negative)\n",
      "        `fdr_tsbky` : two stage fdr correction (non-negative)\n",
      "    \n",
      "    is_sorted : bool\n",
      "        If False (default), the p_values will be sorted, but the corrected\n",
      "        pvalues are in the original order. If True, then it assumed that the\n",
      "        pvalues are already sorted in ascending order.\n",
      "    returnsorted : bool\n",
      "         not tested, return sorted p-values instead of original sequence\n",
      "    \n",
      "    Returns\n",
      "    -------\n",
      "    reject : array, boolean\n",
      "        true for hypothesis that can be rejected for given alpha\n",
      "    pvals_corrected : array\n",
      "        p-values corrected for multiple tests\n",
      "    alphacSidak: float\n",
      "        corrected alpha for Sidak method\n",
      "    alphacBonf: float\n",
      "        corrected alpha for Bonferroni method\n",
      "    \n",
      "    Notes\n",
      "    -----\n",
      "    There may be API changes for this function in the future.\n",
      "    \n",
      "    Except for 'fdr_twostage', the p-value correction is independent of the\n",
      "    alpha specified as argument. In these cases the corrected p-values\n",
      "    can also be compared with a different alpha. In the case of 'fdr_twostage',\n",
      "    the corrected p-values are specific to the given alpha, see\n",
      "    ``fdrcorrection_twostage``.\n",
      "    \n",
      "    The 'fdr_gbs' procedure is not verified against another package, p-values\n",
      "    are derived from scratch and are not derived in the reference. In Monte\n",
      "    Carlo experiments the method worked correctly and maintained the false\n",
      "    discovery rate.\n",
      "    \n",
      "    All procedures that are included, control FWER or FDR in the independent\n",
      "    case, and most are robust in the positively correlated case.\n",
      "    \n",
      "    `fdr_gbs`: high power, fdr control for independent case and only small\n",
      "    violation in positively correlated case\n",
      "    \n",
      "    **Timing**:\n",
      "    \n",
      "    Most of the time with large arrays is spent in `argsort`. When\n",
      "    we want to calculate the p-value for several methods, then it is more\n",
      "    efficient to presort the pvalues, and put the results back into the\n",
      "    original order outside of the function.\n",
      "    \n",
      "    Method='hommel' is very slow for large arrays, since it requires the\n",
      "    evaluation of n partitions, where n is the number of p-values.\n",
      "\n"
     ]
    }
   ],
   "source": [
    "help(multipletests)"
   ]
  },
  {
   "cell_type": "markdown",
   "metadata": {},
   "source": [
    "#### 1\n",
    "\n",
    "Сначала будем считать, что есть одна большая гипотеза из 5x7=35 простых гипотез:"
   ]
  },
  {
   "cell_type": "code",
   "execution_count": 90,
   "metadata": {
    "collapsed": false
   },
   "outputs": [
    {
     "name": "stdout",
     "output_type": "stream",
     "text": [
      "for alpha = 0.01 : 0 simple hypotheses are rejected:\n",
      "p_values: [0.93956240031071758, 0.59537317944945234, 0.83460000000000001, 0.64939999999999998, 0.48257023096084595, 0.45468651761445578, 0.51735300419103258, 0.40139999999999998, 0.38159999999999994, 0.26386943459510803, 0.44772055548652556, 0.0094372305924658485, 0.26839999999999997, 0.38359999999999994, 0.07086192816495895, 0.35686679600830518, 0.086221683910212843, 0.0032000000000000917, 0.10719999999999996, 0.02005171775817871, 0.56967474284419684, 0.0053998368924379108, 0.078600000000000003, 0.034599999999999964, 0.03868526220321655, 0.016325855708130388, 0.0012428034040487933, 0.011400000000000077, 0.038599999999999968, 0.00010552661115070805, 0.58949294396025387, 0.49798746544297767, 0.025199999999999889, 0.033800000000000052, 0.01445337850600481]\n",
      "reject_bits: [False False False False False False False False False False False False\n",
      " False False False False False False False False False False False False\n",
      " False False False False False False False False False False False]\n",
      "\n",
      "for alpha = 0.05 : 1 simple hypotheses are rejected:\n",
      "p_values: [0.93956240031071758, 0.59537317944945234, 0.83460000000000001, 0.64939999999999998, 0.48257023096084595, 0.45468651761445578, 0.51735300419103258, 0.40139999999999998, 0.38159999999999994, 0.26386943459510803, 0.44772055548652556, 0.0094372305924658485, 0.26839999999999997, 0.38359999999999994, 0.07086192816495895, 0.35686679600830518, 0.086221683910212843, 0.0032000000000000917, 0.10719999999999996, 0.02005171775817871, 0.56967474284419684, 0.0053998368924379108, 0.078600000000000003, 0.034599999999999964, 0.03868526220321655, 0.016325855708130388, 0.0012428034040487933, 0.011400000000000077, 0.038599999999999968, 0.00010552661115070805, 0.58949294396025387, 0.49798746544297767, 0.025199999999999889, 0.033800000000000052, 0.01445337850600481]\n",
      "reject_bits: [False False False False False False False False False False False False\n",
      " False False False False False False False False False False False False\n",
      " False False False False False  True False False False False False]\n",
      "\n",
      "for alpha = 0.1 : 2 simple hypotheses are rejected:\n",
      "p_values: [0.93956240031071758, 0.59537317944945234, 0.83460000000000001, 0.64939999999999998, 0.48257023096084595, 0.45468651761445578, 0.51735300419103258, 0.40139999999999998, 0.38159999999999994, 0.26386943459510803, 0.44772055548652556, 0.0094372305924658485, 0.26839999999999997, 0.38359999999999994, 0.07086192816495895, 0.35686679600830518, 0.086221683910212843, 0.0032000000000000917, 0.10719999999999996, 0.02005171775817871, 0.56967474284419684, 0.0053998368924379108, 0.078600000000000003, 0.034599999999999964, 0.03868526220321655, 0.016325855708130388, 0.0012428034040487933, 0.011400000000000077, 0.038599999999999968, 0.00010552661115070805, 0.58949294396025387, 0.49798746544297767, 0.025199999999999889, 0.033800000000000052, 0.01445337850600481]\n",
      "reject_bits: [False False False False False False False False False False False False\n",
      " False False False False False False False False False False False False\n",
      " False False  True False False  True False False False False False]\n",
      "\n"
     ]
    },
    {
     "data": {
      "image/png": "[encoded data removed]",
      "text/plain": [
       "<matplotlib.figure.Figure at 0x12dd3e8d0>"
      ]
     },
     "metadata": {},
     "output_type": "display_data"
    }
   ],
   "source": [
    "alphas = [0.01, 0.05, 0.1]\n",
    "for a in alphas:\n",
    "        p_values = []\n",
    "        for i in range(len(data)):\n",
    "            for ex in run_criteries:\n",
    "                p_values.append(ex(data[i]))\n",
    "        reject = multipletests(pvals=p_values, method='fdr_by',alpha=a)[0]\n",
    "        print('for alpha = ' + str(a) + ' : ' + str(np.sum(reject)) + ' simple hypotheses are rejected:')\n",
    "        print('p_values: ' + str(p_values))\n",
    "        print('reject_bits: ' + str(reject))\n",
    "        print()"
   ]
  },
  {
   "cell_type": "markdown",
   "metadata": {},
   "source": [
    "Как видно только на уровне $\\alpha = 0.01$ можно принять сложную гипотезу, что все выборки имеют нормальное распределение.\n",
    "\n",
    "#### 2\n",
    "\n",
    "Попробуем рассмотреть 7 сложных гипотез нормальности каждой выборки по отдельности (по 5 простых гипотез в каждой)"
   ]
  },
  {
   "cell_type": "code",
   "execution_count": 121,
   "metadata": {
    "collapsed": false,
    "scrolled": true
   },
   "outputs": [
    {
     "name": "stdout",
     "output_type": "stream",
     "text": [
      "for 0 data, for alpha = 0.01 : 0 simple hypotheses are rejected:\n",
      "reject_bits: [False False False False False]\n",
      "\n",
      "for 0 data, for alpha = 0.05 : 0 simple hypotheses are rejected:\n",
      "reject_bits: [False False False False False]\n",
      "\n",
      "for 0 data, for alpha = 0.1 : 0 simple hypotheses are rejected:\n",
      "reject_bits: [False False False False False]\n",
      "\n",
      "for 1 data, for alpha = 0.01 : 0 simple hypotheses are rejected:\n",
      "reject_bits: [False False False False False]\n",
      "\n",
      "for 1 data, for alpha = 0.05 : 0 simple hypotheses are rejected:\n",
      "reject_bits: [False False False False False]\n",
      "\n",
      "for 1 data, for alpha = 0.1 : 0 simple hypotheses are rejected:\n",
      "reject_bits: [False False False False False]\n",
      "\n",
      "for 2 data, for alpha = 0.01 : 0 simple hypotheses are rejected:\n",
      "reject_bits: [False False False False False]\n",
      "\n",
      "for 2 data, for alpha = 0.05 : 0 simple hypotheses are rejected:\n",
      "reject_bits: [False False False False False]\n",
      "\n",
      "for 2 data, for alpha = 0.1 : 0 simple hypotheses are rejected:\n",
      "reject_bits: [False False False False False]\n",
      "\n",
      "for 3 data, for alpha = 0.01 : 0 simple hypotheses are rejected:\n",
      "reject_bits: [False False False False False]\n",
      "\n",
      "for 3 data, for alpha = 0.05 : 1 simple hypotheses are rejected:\n",
      "reject_bits: [False False  True False False]\n",
      "\n",
      "for 3 data, for alpha = 0.1 : 1 simple hypotheses are rejected:\n",
      "reject_bits: [False False  True False False]\n",
      "\n",
      "for 4 data, for alpha = 0.01 : 0 simple hypotheses are rejected:\n",
      "reject_bits: [False False False False False]\n",
      "\n",
      "for 4 data, for alpha = 0.05 : 0 simple hypotheses are rejected:\n",
      "reject_bits: [False False False False False]\n",
      "\n",
      "for 4 data, for alpha = 0.1 : 1 simple hypotheses are rejected:\n",
      "reject_bits: [False  True False False False]\n",
      "\n",
      "for 5 data, for alpha = 0.01 : 2 simple hypotheses are rejected:\n",
      "reject_bits: [False  True False False  True]\n",
      "\n",
      "for 5 data, for alpha = 0.05 : 4 simple hypotheses are rejected:\n",
      "reject_bits: [ True  True  True False  True]\n",
      "\n",
      "for 5 data, for alpha = 0.1 : 5 simple hypotheses are rejected:\n",
      "reject_bits: [ True  True  True  True  True]\n",
      "\n",
      "for 6 data, for alpha = 0.01 : 0 simple hypotheses are rejected:\n",
      "reject_bits: [False False False False False]\n",
      "\n",
      "for 6 data, for alpha = 0.05 : 0 simple hypotheses are rejected:\n",
      "reject_bits: [False False False False False]\n",
      "\n",
      "for 6 data, for alpha = 0.1 : 0 simple hypotheses are rejected:\n",
      "reject_bits: [False False False False False]\n",
      "\n"
     ]
    },
    {
     "data": {
      "image/png": "[encoded data removed]",
      "text/plain": [
       "<matplotlib.figure.Figure at 0x11563a6a0>"
      ]
     },
     "metadata": {},
     "output_type": "display_data"
    }
   ],
   "source": [
    "alphas = [0.01, 0.05, 0.1]\n",
    "max_level = np.zeros(len(data))\n",
    "for i in range(len(data)):\n",
    "    for a in alphas:\n",
    "        p_values = []\n",
    "        for ex in run_criteries:\n",
    "            p_values.append(ex(data[i]))\n",
    "        reject = multipletests(pvals=p_values, method='fdr_by',alpha=a)[0]\n",
    "        print('for ' + str(i) + ' data, for alpha = ' + str(a) + ' : ' + str(np.sum(reject)) + ' simple hypotheses are rejected:')\n",
    "        print('reject_bits: ' + str(reject))\n",
    "        print()\n",
    "        if np.sum(reject) == 0:\n",
    "            max_level[i] = a"
   ]
  },
  {
   "cell_type": "code",
   "execution_count": 120,
   "metadata": {
    "collapsed": false
   },
   "outputs": [
    {
     "data": {
      "image/png": "[encoded data removed]",
      "text/plain": [
       "<matplotlib.figure.Figure at 0x12de8e940>"
      ]
     },
     "metadata": {},
     "output_type": "display_data"
    }
   ],
   "source": [
    "plt.figure(figsize=(10,5))\n",
    "plt.plot(np.arange(len(data)), max_level, linestyle=' ', marker='*',color='purple',markersize=20)\n",
    "plt.ylabel(r'$\\alpha$')\n",
    "plt.xlabel('number of dataset')\n",
    "plt.show()"
   ]
  },
  {
   "cell_type": "markdown",
   "metadata": {},
   "source": [
    "По отдельности: \n",
    "\n",
    "0 выборка принимается на всех рассматриваемых уровнях значимости\n",
    "\n",
    "1 выборка принимается на всех рассматриваемых уровнях значимости\n",
    "\n",
    "2 выборка принимается на всех рассматриваемых уровнях значимости\n",
    "\n",
    "3 выборка принимается только на уровне значимости 0.01\n",
    "\n",
    "4 выборка принимается только на уровнях значимости 0.01 и 0.05\n",
    "\n",
    "5 выборка не принимается ни на каком рассматриваемом уровне значимости\n",
    "\n",
    "6 выборка принимается на всех рассматриваемых уровнях значимости"
   ]
  },
  {
   "cell_type": "markdown",
   "metadata": {},
   "source": [
    "Но 2 способом лучше гипотезы не проверять,так как выборок достаточно много и поэтому нет контроля над FWER (как с экстрасенсами)"
   ]
  },
  {
   "cell_type": "code",
   "execution_count": null,
   "metadata": {
    "collapsed": true
   },
   "outputs": [],
   "source": []
  }
 ],
 "metadata": {
  "kernelspec": {
   "display_name": "Python 3",
   "language": "python",
   "name": "python3"
  },
  "language_info": {
   "codemirror_mode": {
    "name": "ipython",
    "version": 3
   },
   "file_extension": ".py",
   "mimetype": "text/x-python",
   "name": "python",
   "nbconvert_exporter": "python",
   "pygments_lexer": "ipython3",
   "version": "3.6.0"
  }
 },
 "nbformat": 4,
 "nbformat_minor": 2
}
