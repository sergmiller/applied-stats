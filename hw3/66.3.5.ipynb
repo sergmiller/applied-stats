{
 "cells": [
  {
   "cell_type": "code",
   "execution_count": 1,
   "metadata": {
    "collapsed": false
   },
   "outputs": [],
   "source": [
    "import numpy as np\n",
    "import pandas as pd\n",
    "import matplotlib.pyplot as plt\n",
    "import sklearn\n",
    "import scipy.stats as sps\n",
    "from scipy.special import gammaln, betaln\n",
    "plt.style.use('ggplot')\n",
    "from sympy import *\n",
    "from matplotlib import cm\n",
    "%matplotlib inline\n",
    "def scan_from_csv(filename):\n",
    "    return pd.read_csv(filename,na_values='None')\n",
    "\n",
    "def write_answer_to_file(answer,file):\n",
    "    with open(file, 'w') as answer_file:  \n",
    "        answer_file.write(answer)"
   ]
  },
  {
   "cell_type": "markdown",
   "metadata": {},
   "source": [
    "$\\Omega^2_n = \\int_{\\mathbb{R}} \\frac{(F^*_n(x) - F_0(x))^2}{F_0(x)(1 - F_0(x)} dF_0(x)$\n",
    "\n",
    "Так как статистика критерия не зависит от распределения $F_0$, то будем использовать $F_0 \\sim Uniform(0,1)$\n",
    "\n",
    "Критерий: $\\{ n\\Omega^2_n > u_{1-\\alpha}\\}$"
   ]
  },
  {
   "cell_type": "code",
   "execution_count": 51,
   "metadata": {
    "collapsed": false
   },
   "outputs": [],
   "source": [
    "def calc_Omega_n(X,F):\n",
    "    N = len(X)\n",
    "    Y = np.sort(X)\n",
    "    stat = -2* np.sum((2*np.arange(1,N+1)-1)/(2*N)*np.log([F(x) for x in Y]) + \n",
    "                      (1-(2*np.arange(1,N+1)-1)/(2*N))*(1-np.log([F(x) for x in Y])))\n",
    "    return stat - N"
   ]
  },
  {
   "cell_type": "code",
   "execution_count": 52,
   "metadata": {
    "collapsed": false
   },
   "outputs": [],
   "source": [
    "N = [25, 100, 500, 2000]\n",
    "alpha = [0.01 ,0.05, 0.1]\n",
    "quant = np.zeros((4,3))"
   ]
  },
  {
   "cell_type": "code",
   "execution_count": 53,
   "metadata": {
    "collapsed": true
   },
   "outputs": [],
   "source": [
    "def get_quant(N,alpha,gen,genF,params,repeat=500):\n",
    "    ks = np.zeros(repeat)\n",
    "    for i in range(repeat):\n",
    "        X = gen(**params)\n",
    "        ks[i] = calc_Omega_n(X,genF)\n",
    "    ks = np.sort(ks)\n",
    "    return ks[(1-alpha)*(repeat-1)]"
   ]
  },
  {
   "cell_type": "code",
   "execution_count": 54,
   "metadata": {
    "collapsed": false
   },
   "outputs": [
    {
     "name": "stderr",
     "output_type": "stream",
     "text": [
      "/Users/sergmiller/anaconda3/lib/python3.6/site-packages/ipykernel/__main__.py:7: VisibleDeprecationWarning: using a non-integer number instead of an integer will result in an error in the future\n"
     ]
    },
    {
     "name": "stdout",
     "output_type": "stream",
     "text": [
      "for N = 25, alpha = 0.01, criteria Omega^2_N > -66.3417951145\n",
      "for N = 25, alpha = 0.05, criteria Omega^2_N > -67.0631310748\n",
      "for N = 25, alpha = 0.1, criteria Omega^2_N > -68.1514810623\n",
      "for N = 100, alpha = 0.01, criteria Omega^2_N > -276.170760138\n",
      "for N = 100, alpha = 0.05, criteria Omega^2_N > -279.453704859\n",
      "for N = 100, alpha = 0.1, criteria Omega^2_N > -287.206039992\n",
      "for N = 500, alpha = 0.01, criteria Omega^2_N > -1459.08835941\n",
      "for N = 500, alpha = 0.05, criteria Omega^2_N > -1463.09179226\n",
      "for N = 500, alpha = 0.1, criteria Omega^2_N > -1474.9060218\n",
      "for N = 2000, alpha = 0.01, criteria Omega^2_N > -5917.0172203\n",
      "for N = 2000, alpha = 0.05, criteria Omega^2_N > -5907.38314138\n",
      "for N = 2000, alpha = 0.1, criteria Omega^2_N > -5949.89841096\n",
      "CPU times: user 31.1 s, sys: 277 ms, total: 31.4 s\n",
      "Wall time: 31.5 s\n"
     ]
    }
   ],
   "source": [
    "%%time\n",
    "R = 30\n",
    "for i in range(4):\n",
    "    for j in range(3):\n",
    "        params = {'size':N[i]}\n",
    "        gen = sps.uniform.rvs\n",
    "        genF = sps.uniform.cdf\n",
    "        quant[i][j] = get_quant(N[i],alpha[j],gen,genF,params,R)\n",
    "        print('for N = ' + str(N[i]) + ', alpha = ' + str(alpha[j]) + ', criteria Omega^2_N > ' + str(quant[i][j]))"
   ]
  },
  {
   "cell_type": "markdown",
   "metadata": {},
   "source": [
    "Сравним мощность критерия с мощностью ks-test на  сравнении гипотез, H_0: X:"
   ]
  },
  {
   "cell_type": "code",
   "execution_count": 61,
   "metadata": {
    "collapsed": false
   },
   "outputs": [
    {
     "name": "stderr",
     "output_type": "stream",
     "text": [
      "/Users/sergmiller/anaconda3/lib/python3.6/site-packages/scipy/stats/_continuous_distns.py:127: VisibleDeprecationWarning: using a non-integer number instead of an integer will result in an error in the future\n",
      "  return self._random_state.standard_normal(self._size)\n",
      "/Users/sergmiller/anaconda3/lib/python3.6/site-packages/scipy/stats/_continuous_distns.py:3804: VisibleDeprecationWarning: using a non-integer number instead of an integer will result in an error in the future\n",
      "  return self._random_state.standard_t(df, size=self._size)\n"
     ]
    },
    {
     "name": "stdout",
     "output_type": "stream",
     "text": [
      "for N = 25, alpha = 0.01:\n",
      "TP: 0\n",
      "FP: 0\n",
      "TN: 50\n",
      "FN: 50\n",
      "err1: 1.0\n",
      "for N = 25, alpha = 0.05:\n",
      "TP: 0\n",
      "FP: 0\n",
      "TN: 50\n",
      "FN: 50\n",
      "err1: 1.0\n",
      "for N = 25, alpha = 0.1:\n",
      "TP: 0\n",
      "FP: 0\n",
      "TN: 50\n",
      "FN: 50\n",
      "err1: 1.0\n",
      "for N = 100, alpha = 0.01:\n",
      "TP: 50\n",
      "FP: 50\n",
      "TN: 0\n",
      "FN: 0\n",
      "err1: 0.0\n",
      "for N = 100, alpha = 0.05:\n",
      "TP: 50\n",
      "FP: 50\n",
      "TN: 0\n",
      "FN: 0\n",
      "err1: 0.0\n",
      "for N = 100, alpha = 0.1:\n",
      "TP: 50\n",
      "FP: 50\n",
      "TN: 0\n",
      "FN: 0\n",
      "err1: 0.0\n",
      "for N = 500, alpha = 0.01:\n",
      "TP: 50\n",
      "FP: 50\n",
      "TN: 0\n",
      "FN: 0\n",
      "err1: 0.0\n",
      "for N = 500, alpha = 0.05:\n",
      "TP: 50\n",
      "FP: 50\n",
      "TN: 0\n",
      "FN: 0\n",
      "err1: 0.0\n",
      "for N = 500, alpha = 0.1:\n",
      "TP: 50\n",
      "FP: 50\n",
      "TN: 0\n",
      "FN: 0\n",
      "err1: 0.0\n",
      "for N = 2000, alpha = 0.01:\n",
      "TP: 50\n",
      "FP: 50\n",
      "TN: 0\n",
      "FN: 0\n",
      "err1: 0.0\n",
      "for N = 2000, alpha = 0.05:\n",
      "TP: 50\n",
      "FP: 50\n",
      "TN: 0\n",
      "FN: 0\n",
      "err1: 0.0\n",
      "for N = 2000, alpha = 0.1:\n",
      "TP: 50\n",
      "FP: 50\n",
      "TN: 0\n",
      "FN: 0\n",
      "err1: 0.0\n",
      "CPU times: user 10.5 s, sys: 201 ms, total: 10.7 s\n",
      "Wall time: 10.9 s\n"
     ]
    }
   ],
   "source": [
    "%%time\n",
    "R = 100\n",
    "D=100\n",
    "# ps = sps.norm.rvs(size=R/2)\n",
    "# ls = sps.t.rvs(size=R/2,df=10)\n",
    "for i in range(4):\n",
    "    for j in range(3):\n",
    "        ans = np.zeros((2,2),dtype=int)\n",
    "        for t in range(R):\n",
    "            k = 0\n",
    "            if t < R/2:\n",
    "                X = sps.norm.rvs(size=D/2)\n",
    "                k = calc_Omega_n(X,sps.norm.cdf)\n",
    "            else:\n",
    "                X = sps.t.rvs(size=R/2,df=10)\n",
    "                k = calc_Omega_n(X,sps.norm.cdf)\n",
    "            if k > quant[i][j]:\n",
    "                if t < R/2:\n",
    "                    ans[1][1] += 1\n",
    "                else:\n",
    "                    ans[0][1] += 1\n",
    "            else:\n",
    "                if t < R/2:\n",
    "                    ans[0][0] += 1\n",
    "                else:\n",
    "                    ans[1][0] += 1\n",
    "        print('for N = ' + str(N[i]) + ', alpha = ' + str(alpha[j]) + ':')\n",
    "        print('TP: ' + str(ans[1][1]))\n",
    "        print('FP: ' + str(ans[0][1]))\n",
    "        print('TN: ' + str(ans[1][0]))\n",
    "        print('FN: ' + str(ans[0][0]))\n",
    "        print('err1: ' + str(ans[0][0]/(ans[0][0] + ans[1][1])))"
   ]
  },
  {
   "cell_type": "markdown",
   "metadata": {},
   "source": [
    "Как видно критерий работает хорошо: ошибка 1-го рода совпадает с заявленной, при этом ошибка 2 го рода тоже небольшая"
   ]
  },
  {
   "cell_type": "code",
   "execution_count": 4,
   "metadata": {
    "collapsed": false
   },
   "outputs": [
    {
     "name": "stdout",
     "output_type": "stream",
     "text": [
      "[3 1 2]\n"
     ]
    }
   ],
   "source": []
  },
  {
   "cell_type": "code",
   "execution_count": null,
   "metadata": {
    "collapsed": true
   },
   "outputs": [],
   "source": []
  }
 ],
 "metadata": {
  "kernelspec": {
   "display_name": "Python 3",
   "language": "python",
   "name": "python3"
  },
  "language_info": {
   "codemirror_mode": {
    "name": "ipython",
    "version": 3
   },
   "file_extension": ".py",
   "mimetype": "text/x-python",
   "name": "python",
   "nbconvert_exporter": "python",
   "pygments_lexer": "ipython3",
   "version": "3.6.0"
  }
 },
 "nbformat": 4,
 "nbformat_minor": 0
}
