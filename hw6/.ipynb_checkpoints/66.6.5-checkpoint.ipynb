{
 "cells": [
  {
   "cell_type": "code",
   "execution_count": 1,
   "metadata": {
    "collapsed": true
   },
   "outputs": [],
   "source": [
    "import numpy as np\n",
    "import pandas as pd\n",
    "import matplotlib.pyplot as plt\n",
    "import sklearn\n",
    "import scipy.stats as sps\n",
    "from sympy import *\n",
    "from matplotlib import cm\n",
    "plt.style.use('ggplot')\n",
    "%matplotlib inline\n",
    "\n",
    "def scan_from_csv(filename,header=None):\n",
    "    if not header:\n",
    "        return pd.read_csv(filename,na_values='None')\n",
    "    else:\n",
    "        return pd.read_csv(filename,na_values='None',header=-1)\n",
    "\n",
    "def write_answer_to_file(answer,file):\n",
    "    with open(file, 'w') as answer_file:  \n",
    "        answer_file.write(answer)"
   ]
  },
  {
   "cell_type": "markdown",
   "metadata": {},
   "source": [
    "Даны две независимые выборки $X,Y$ из распределения $t_{10}$. Попробуем для них воспользоваться критерием Стьюдента для проверки однородности нормальных независимых выборок. Покажем, что реальный уровень такого критерия(примененного к выборкам из $t_{10}$) будет отличаться от выбранного уровня для проверки гипотезы в предположении нормальности выборок. \n",
    "\n",
    "Будем рассматривать $\\alpha \\in \\{0.01,0.05,0.1\\}$"
   ]
  },
  {
   "cell_type": "code",
   "execution_count": 74,
   "metadata": {
    "collapsed": true
   },
   "outputs": [],
   "source": [
    "def calc_T(X, Y):\n",
    "    X = np.array(X)\n",
    "    Y = np.array(Y)\n",
    "    n = len(X)\n",
    "    m = len(Y)\n",
    "    S2tot = (n * np.var(X) + m * np.var(Y)) / (n + m - 2)\n",
    "    return (n * m / (n + m)) ** 0.5 * (np.mean(X - Y) / S2tot**0.5)\n",
    "\n",
    "def draw(alpha,ns, amount):\n",
    "    for i in range(len(alphas)):\n",
    "        res = [amount[i][j][1]/(amount[i][j][0] + amount[i][j][1]) for j in range(len(ns))]\n",
    "        plt.figure(figsize=(10,5))\n",
    "        plt.title(r'$\\alpha = $' + str(alphas[i]))\n",
    "        plt.plot(ns, res,color='blue')\n",
    "        plt.plot([ns[0],ns[-1]],[alphas[i],alphas[i]],color='red')\n",
    "        plt.xlabel('N')\n",
    "        plt.show()\n",
    "        \n",
    "def get_quant(alhas, ns):\n",
    "    quant = np.zeros((len(alphas),len(ns)))  # two-tailed p-values \n",
    "    for i in range(len(alphas)):\n",
    "        for j in range(len(ns)):\n",
    "            quant[i][j] = sps.t.ppf(q = 1 - alphas[i] / 2,df = 2*ns[j]-2)\n",
    "    return quant\n",
    "\n",
    "\n",
    "def model(alphas, ns, quant, R=4000):\n",
    "    amount = np.zeros((len(alphas),len(ns),2))\n",
    "    for i in range(len(alphas)):\n",
    "        for j in range(len(ns)):\n",
    "            for k in range(R):\n",
    "                X,Y = sps.t.rvs(size=ns[j],df=10),sps.t.rvs(size=ns[j],df=10)\n",
    "                stat = calc_T(X,Y)\n",
    "                if abs(stat) > quant[i][j]:\n",
    "                    amount[i][j][1] += 1\n",
    "                else:\n",
    "                    amount[i][j][0] += 1     \n",
    "    return mount"
   ]
  },
  {
   "cell_type": "code",
   "execution_count": 75,
   "metadata": {
    "collapsed": true
   },
   "outputs": [],
   "source": [
    "def run(alphas, ns):\n",
    "    quant = get_quant(alphas, ns)\n",
    "    amount = model(alphas, ns, quant)\n",
    "    draw(alphas, ns, amount)\n",
    "    return quant, amount"
   ]
  },
  {
   "cell_type": "code",
   "execution_count": 78,
   "metadata": {
    "collapsed": false
   },
   "outputs": [
    {
     "ename": "NameError",
     "evalue": "name 'alpha' is not defined",
     "output_type": "error",
     "traceback": [
      "\u001b[0;31m---------------------------------------------------------------------------\u001b[0m",
      "\u001b[0;31mNameError\u001b[0m                                 Traceback (most recent call last)",
      "\u001b[0;32m<ipython-input-78-714ccea9a2bf>\u001b[0m in \u001b[0;36m<module>\u001b[0;34m()\u001b[0m\n\u001b[1;32m      2\u001b[0m \u001b[0malphas\u001b[0m \u001b[0;34m=\u001b[0m \u001b[0;34m[\u001b[0m\u001b[0;36m0.01\u001b[0m\u001b[0;34m,\u001b[0m \u001b[0;36m0.05\u001b[0m\u001b[0;34m,\u001b[0m \u001b[0;36m0.1\u001b[0m\u001b[0;34m]\u001b[0m\u001b[0;34m\u001b[0m\u001b[0m\n\u001b[1;32m      3\u001b[0m \u001b[0mns\u001b[0m \u001b[0;34m=\u001b[0m \u001b[0;34m[\u001b[0m\u001b[0;36m1\u001b[0m\u001b[0;34m,\u001b[0m\u001b[0;36m2\u001b[0m\u001b[0;34m,\u001b[0m\u001b[0;36m4\u001b[0m\u001b[0;34m,\u001b[0m\u001b[0;36m6\u001b[0m\u001b[0;34m,\u001b[0m\u001b[0;36m8\u001b[0m\u001b[0;34m,\u001b[0m\u001b[0;36m10\u001b[0m\u001b[0;34m,\u001b[0m\u001b[0;36m12\u001b[0m\u001b[0;34m,\u001b[0m\u001b[0;36m14\u001b[0m\u001b[0;34m,\u001b[0m\u001b[0;36m16\u001b[0m\u001b[0;34m,\u001b[0m\u001b[0;36m18\u001b[0m\u001b[0;34m,\u001b[0m\u001b[0;36m20\u001b[0m\u001b[0;34m]\u001b[0m\u001b[0;34m\u001b[0m\u001b[0m\n\u001b[0;32m----> 4\u001b[0;31m \u001b[0mrun\u001b[0m\u001b[0;34m(\u001b[0m\u001b[0malphas\u001b[0m\u001b[0;34m,\u001b[0m\u001b[0mns\u001b[0m\u001b[0;34m)\u001b[0m\u001b[0;34m\u001b[0m\u001b[0m\n\u001b[0m",
      "\u001b[0;32m<ipython-input-75-6f3851e8d3fd>\u001b[0m in \u001b[0;36mrun\u001b[0;34m(alphas, ns)\u001b[0m\n\u001b[1;32m      1\u001b[0m \u001b[0;32mdef\u001b[0m \u001b[0mrun\u001b[0m\u001b[0;34m(\u001b[0m\u001b[0malphas\u001b[0m\u001b[0;34m,\u001b[0m \u001b[0mns\u001b[0m\u001b[0;34m)\u001b[0m\u001b[0;34m:\u001b[0m\u001b[0;34m\u001b[0m\u001b[0m\n\u001b[1;32m      2\u001b[0m     \u001b[0mquant\u001b[0m \u001b[0;34m=\u001b[0m \u001b[0mget_quant\u001b[0m\u001b[0;34m(\u001b[0m\u001b[0malphas\u001b[0m\u001b[0;34m,\u001b[0m \u001b[0mns\u001b[0m\u001b[0;34m)\u001b[0m\u001b[0;34m\u001b[0m\u001b[0m\n\u001b[0;32m----> 3\u001b[0;31m     \u001b[0mamount\u001b[0m \u001b[0;34m=\u001b[0m \u001b[0mmodel\u001b[0m\u001b[0;34m(\u001b[0m\u001b[0malpha\u001b[0m\u001b[0;34m,\u001b[0m \u001b[0mns\u001b[0m\u001b[0;34m,\u001b[0m \u001b[0mquant\u001b[0m\u001b[0;34m)\u001b[0m\u001b[0;34m\u001b[0m\u001b[0m\n\u001b[0m\u001b[1;32m      4\u001b[0m     \u001b[0mdraw\u001b[0m\u001b[0;34m(\u001b[0m\u001b[0malpha\u001b[0m\u001b[0;34m,\u001b[0m \u001b[0mns\u001b[0m\u001b[0;34m,\u001b[0m \u001b[0mamount\u001b[0m\u001b[0;34m)\u001b[0m\u001b[0;34m\u001b[0m\u001b[0m\n\u001b[1;32m      5\u001b[0m     \u001b[0;32mreturn\u001b[0m \u001b[0mquant\u001b[0m\u001b[0;34m,\u001b[0m \u001b[0mamount\u001b[0m\u001b[0;34m\u001b[0m\u001b[0m\n",
      "\u001b[0;31mNameError\u001b[0m: name 'alpha' is not defined"
     ]
    }
   ],
   "source": [
    "# %%time\n",
    "alphas = [0.01, 0.05, 0.1]\n",
    "ns = [1,2,4,6,8,10,12,14,16,18,20]\n",
    "run(alphas,ns)"
   ]
  },
  {
   "cell_type": "code",
   "execution_count": null,
   "metadata": {
    "collapsed": true
   },
   "outputs": [],
   "source": []
  }
 ],
 "metadata": {
  "kernelspec": {
   "display_name": "Python 3",
   "language": "python",
   "name": "python3"
  },
  "language_info": {
   "codemirror_mode": {
    "name": "ipython",
    "version": 3
   },
   "file_extension": ".py",
   "mimetype": "text/x-python",
   "name": "python",
   "nbconvert_exporter": "python",
   "pygments_lexer": "ipython3",
   "version": "3.6.0"
  }
 },
 "nbformat": 4,
 "nbformat_minor": 2
}
