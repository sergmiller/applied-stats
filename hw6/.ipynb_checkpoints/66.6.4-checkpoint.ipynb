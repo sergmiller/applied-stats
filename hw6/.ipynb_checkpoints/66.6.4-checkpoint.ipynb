{
 "cells": [
  {
   "cell_type": "code",
   "execution_count": 2,
   "metadata": {
    "collapsed": true
   },
   "outputs": [],
   "source": [
    "import numpy as np\n",
    "import pandas as pd\n",
    "import matplotlib.pyplot as plt\n",
    "import sklearn\n",
    "import scipy.stats as sps\n",
    "from sympy import *\n",
    "from matplotlib import cm\n",
    "plt.style.use('ggplot')\n",
    "%matplotlib inline\n",
    "\n",
    "def scan_from_csv(filename,header=None):\n",
    "    if not header:\n",
    "        return pd.read_csv(filename,na_values='None')\n",
    "    else:\n",
    "        return pd.read_csv(filename,na_values='None',header=-1)\n",
    "\n",
    "def write_answer_to_file(answer,file):\n",
    "    with open(file, 'w') as answer_file:  \n",
    "        answer_file.write(answer)"
   ]
  },
  {
   "cell_type": "code",
   "execution_count": 3,
   "metadata": {
    "collapsed": false
   },
   "outputs": [],
   "source": [
    "data = pd.read_csv('hw6t4v0.txt',delimiter='\\\\s+',header=-1)"
   ]
  },
  {
   "cell_type": "code",
   "execution_count": 4,
   "metadata": {
    "collapsed": false
   },
   "outputs": [
    {
     "data": {
      "text/html": [
       "<div>\n",
       "<table border=\"1\" class=\"dataframe\">\n",
       "  <thead>\n",
       "    <tr style=\"text-align: right;\">\n",
       "      <th></th>\n",
       "      <th>0</th>\n",
       "      <th>1</th>\n",
       "    </tr>\n",
       "  </thead>\n",
       "  <tbody>\n",
       "    <tr>\n",
       "      <th>0</th>\n",
       "      <td>6934.9</td>\n",
       "      <td>4119.6</td>\n",
       "    </tr>\n",
       "    <tr>\n",
       "      <th>1</th>\n",
       "      <td>5959.3</td>\n",
       "      <td>3842.8</td>\n",
       "    </tr>\n",
       "    <tr>\n",
       "      <th>2</th>\n",
       "      <td>6018.9</td>\n",
       "      <td>4030.1</td>\n",
       "    </tr>\n",
       "    <tr>\n",
       "      <th>3</th>\n",
       "      <td>6018.4</td>\n",
       "      <td>5235.8</td>\n",
       "    </tr>\n",
       "    <tr>\n",
       "      <th>4</th>\n",
       "      <td>6693.0</td>\n",
       "      <td>5348.6</td>\n",
       "    </tr>\n",
       "  </tbody>\n",
       "</table>\n",
       "</div>"
      ],
      "text/plain": [
       "        0       1\n",
       "0  6934.9  4119.6\n",
       "1  5959.3  3842.8\n",
       "2  6018.9  4030.1\n",
       "3  6018.4  5235.8\n",
       "4  6693.0  5348.6"
      ]
     },
     "execution_count": 4,
     "metadata": {},
     "output_type": "execute_result"
    }
   ],
   "source": [
    "data.head()"
   ]
  },
  {
   "cell_type": "code",
   "execution_count": 5,
   "metadata": {
    "collapsed": false
   },
   "outputs": [
    {
     "data": {
      "text/plain": [
       "(200, 2)"
      ]
     },
     "execution_count": 5,
     "metadata": {},
     "output_type": "execute_result"
    }
   ],
   "source": [
    "data.shape"
   ]
  },
  {
   "cell_type": "code",
   "execution_count": 6,
   "metadata": {
    "collapsed": false
   },
   "outputs": [
    {
     "data": {
      "text/plain": [
       "[<matplotlib.lines.Line2D at 0x10b1b2860>]"
      ]
     },
     "execution_count": 6,
     "metadata": {},
     "output_type": "execute_result"
    },
    {
     "data": {
      "image/png": "[encoded data removed]",
      "text/plain": [
       "<matplotlib.figure.Figure at 0x10cecb668>"
      ]
     },
     "metadata": {},
     "output_type": "display_data"
    }
   ],
   "source": [
    "plt.plot(data[0],data[1],'*')"
   ]
  },
  {
   "cell_type": "markdown",
   "metadata": {},
   "source": [
    "Вылгядит достаточно некоррелированно, посмотрим что скажут критерии.\n",
    "\n",
    "\n",
    "Для проверки сложной гипотезы, будем использовать нисходящую процедуру Бенджаминини-Иекутиелли, так как он позволяет контролировать $FDR \\leq 0.1$"
   ]
  },
  {
   "cell_type": "code",
   "execution_count": 24,
   "metadata": {
    "collapsed": true
   },
   "outputs": [],
   "source": [
    "from statsmodels.sandbox.stats.multicomp import multipletests  # Holm method\n",
    "from scipy.stats import pearsonr\n",
    "from scipy.stats import spearmanr\n",
    "from scipy.stats import kendalltau\n",
    "from skgof import ks_test \n",
    "from scipy.stats import chisquare  # chi^2 test\n",
    "from skidmarks import wald_wolfowitz # Wald-Wollfowitz test\n",
    "from scipy.stats import shapiro  # Shapiro-Wilk test\n",
    "from scipy.stats import chi2_contingency  # Contigency Table statistic"
   ]
  },
  {
   "cell_type": "code",
   "execution_count": 23,
   "metadata": {
    "collapsed": true
   },
   "outputs": [],
   "source": [
    "def make_contigency_table(X,Y,method='auto'):\n",
    "    junk, binx = np.histogram(X,bins=method)\n",
    "    junk, biny = np.histogram(Y,bins=method)\n",
    "    \n",
    "    table = np.ones((len(binx)-1,len(biny)-1))\n",
    "    for i in range(len(binx)-1):\n",
    "        for j in range(len(biny)-1):\n",
    "            table[i][j] = np.sum([(x > binx[i] and x <= binx[i+1] \n",
    "                                   and y > biny[j] and y <= biny[j+1]) \n",
    "                                  for x,y in zip(X,Y)])\n",
    "    for i in range(len(binx)-1):\n",
    "        for j in range(len(biny)-1):\n",
    "            if table[i][j] == 0:\n",
    "                table[i][j] = 1\n",
    "    return table\n",
    "\n",
    "def run_inversions_p_value(x):\n",
    "    #  simple O(N^2) realisation\n",
    "    inv = 0\n",
    "    n = len(x)\n",
    "    for i in range(n):\n",
    "        for j in range(i+1,n):\n",
    "            inv += (x[i] > x[j])\n",
    "    mean = n*(n-1)/4\n",
    "    sigma2 = (2*n**3 + 3*n**2 - 5*n)/72\n",
    "    xi = (inv - mean)/(sigma2**0.5)\n",
    "    p0 = sps.norm.cdf(xi)\n",
    "    p1 = 1 - p0\n",
    "    return 2*min(p0,p1)   # asymptotic two-tailed p_value\n",
    "\n",
    "def run_chisquare_norm(x):\n",
    "    f_obs, bins = np.histogram(x,bins='auto')\n",
    "    m = np.mean(x)\n",
    "    s = np.std(x)\n",
    "    f_exp = np.array([sps.norm.cdf(x=bins[i+1],loc=m,scale=s) - \n",
    "                      sps.norm.cdf(x=bins[i],loc=m,scale=s)\n",
    "                      for i in range(len(bins)-1)]) * np.sum(f_obs)\n",
    "\n",
    "    return chisquare(f_obs=f_obs, f_exp=f_exp)[1]"
   ]
  },
  {
   "cell_type": "code",
   "execution_count": 26,
   "metadata": {
    "collapsed": false
   },
   "outputs": [
    {
     "name": "stdout",
     "output_type": "stream",
     "text": [
      "for alpha = 0.1 : 0 simple hypotheses are rejected:\n",
      "p_values: [0.99999999996936451, 0.57775534475199564, 0.53008034550036975, 0.54203537918210909, 0.34674384701347088, 0.099950128532739033, 0.80126194516007243, 0.71836321432651773, 0.037434447556734085, 0.2528698444366455, 0.6647034282680907, 0.5, 0.6817955083822369, 0.6016505375642589]\n",
      "reject_bits: [False False False False False False False False False False False False\n",
      " False False]\n",
      "\n"
     ]
    }
   ],
   "source": [
    "# adaptive criteries\n",
    "run_criteries = [\n",
    "    (lambda x, y: chi2_contingency(make_contigency_table(x,y))[1]),\n",
    "    (lambda x, y: spearmanr(x,y)[1]),\n",
    "    (lambda x, y: pearsonr(x,y)[1]),\n",
    "    (lambda x, y: kendalltau(x,y)[1]),\n",
    "    run_chisquare_norm,\n",
    "    (lambda x: ks_test(x,sps.norm(loc=np.mean(x),scale=np.std(x)))[1]),\n",
    "    (lambda x: shapiro(x)[1]),\n",
    "    (lambda x: wald_wolfowitz(x > np.median(x))['p']),\n",
    "    run_inversions_p_value,\n",
    "]\n",
    "\n",
    "alphas = [0.1]\n",
    "for a in alphas:\n",
    "    p_values = []\n",
    "    for ex in run_criteries[:4]:\n",
    "        p_values.append(ex(data[0], data[1]))\n",
    "    for ex in run_criteries[4:7]:\n",
    "        p_values.append(ex(data[0]))\n",
    "        p_values.append(ex(data[1]))\n",
    "    summ = np.array(data[0]) + np.array(data[1])\n",
    "    mult = np.array(data[0]) * np.array(data[1])\n",
    "    for ex in run_criteries[7:]:\n",
    "        p_values.append(ex(summ))\n",
    "        p_values.append(ex(mult))\n",
    "    reject = multipletests(pvals=p_values, method='holm',alpha=a)[0]\n",
    "    print('for alpha = ' + str(a) + ' : ' + str(np.sum(reject)) + ' simple hypotheses are rejected:')\n",
    "    print('p_values: ' + str(p_values))\n",
    "    print('reject_bits: ' + str(reject))\n",
    "    print()"
   ]
  },
  {
   "cell_type": "markdown",
   "metadata": {},
   "source": [
    "Независимость не отвергается, значит проверим на однородность тестом Смирнова и t-тестом стьюдента на равенство нулю матожа X - Y, которое при справедливости однородности и независимости будет нормальным."
   ]
  },
  {
   "cell_type": "code",
   "execution_count": 27,
   "metadata": {
    "collapsed": false
   },
   "outputs": [
    {
     "name": "stdout",
     "output_type": "stream",
     "text": [
      "for alpha = 0.1 : 2 simple hypotheses are rejected:\n",
      "p_values: [0.99999999996936451, 0.57775534475199564, 0.53008034550036975, 0.54203537918210909, 0.34674384701347088, 0.099950128532739033, 0.80126194516007243, 0.71836321432651773, 0.037434447556734085, 0.2528698444366455, 0.6647034282680907, 0.5, 0.6817955083822369, 0.6016505375642589, 9.8061179670170475e-45, 5.299069769156457e-50]\n",
      "reject_bits: [False False False False False False False False False False False False\n",
      " False False  True  True]\n",
      "\n"
     ]
    }
   ],
   "source": [
    "# adaptive criteries\n",
    "run_criteries = [\n",
    "    (lambda x, y: chi2_contingency(make_contigency_table(x,y))[1]),\n",
    "    (lambda x, y: spearmanr(x,y)[1]),\n",
    "    (lambda x, y: pearsonr(x,y)[1]),\n",
    "    (lambda x, y: kendalltau(x,y)[1]),\n",
    "    run_chisquare_norm,\n",
    "    (lambda x: ks_test(x,sps.norm(loc=np.mean(x),scale=np.std(x)))[1]),\n",
    "    (lambda x: shapiro(x)[1]),\n",
    "    (lambda x: wald_wolfowitz(x > np.median(x))['p']),\n",
    "    run_inversions_p_value,\n",
    "    (lambda x, y: sps.ks_2samp(x,y)[1]),\n",
    "    (lambda x, y: sps.ttest_1samp(np.array(x)-np.array(y),popmean=0)[1]),\n",
    "]\n",
    "\n",
    "alphas = [0.1]\n",
    "for a in alphas:\n",
    "    p_values = []\n",
    "    for ex in run_criteries[:4]:\n",
    "        p_values.append(ex(data[0], data[1]))\n",
    "    for ex in run_criteries[4:7]:\n",
    "        p_values.append(ex(data[0]))\n",
    "        p_values.append(ex(data[1]))\n",
    "    summ = np.array(data[0]) + np.array(data[1])\n",
    "    mult = np.array(data[0]) * np.array(data[1])\n",
    "    for ex in run_criteries[7:9]:\n",
    "        p_values.append(ex(summ))\n",
    "        p_values.append(ex(mult))\n",
    "    for ex in run_criteries[9:]:\n",
    "        p_values.append(ex(data[0], data[1]))\n",
    "    reject = multipletests(pvals=p_values, method='holm',alpha=a)[0]\n",
    "    print('for alpha = ' + str(a) + ' : ' + str(np.sum(reject)) + ' simple hypotheses are rejected:')\n",
    "    print('p_values: ' + str(p_values))\n",
    "    print('reject_bits: ' + str(reject))\n",
    "    print()"
   ]
  },
  {
   "cell_type": "markdown",
   "metadata": {},
   "source": [
    "Что получилось?\n",
    "\n",
    "Некоррелированность,независимость и нормальность обоих выборок не отвергается (парность тоже не отвергается, вообще говоря она следует из независимости по определению), \n",
    "\n",
    "однородность отвергается обоими критериями"
   ]
  },
  {
   "cell_type": "code",
   "execution_count": null,
   "metadata": {
    "collapsed": false
   },
   "outputs": [],
   "source": []
  },
  {
   "cell_type": "code",
   "execution_count": null,
   "metadata": {
    "collapsed": true
   },
   "outputs": [],
   "source": []
  }
 ],
 "metadata": {
  "kernelspec": {
   "display_name": "Python 3",
   "language": "python",
   "name": "python3"
  },
  "language_info": {
   "codemirror_mode": {
    "name": "ipython",
    "version": 3
   },
   "file_extension": ".py",
   "mimetype": "text/x-python",
   "name": "python",
   "nbconvert_exporter": "python",
   "pygments_lexer": "ipython3",
   "version": "3.6.0"
  }
 },
 "nbformat": 4,
 "nbformat_minor": 2
}
