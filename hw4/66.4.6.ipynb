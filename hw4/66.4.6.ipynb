{
 "cells": [
  {
   "cell_type": "code",
   "execution_count": 1,
   "metadata": {
    "collapsed": true
   },
   "outputs": [],
   "source": [
    "import numpy as np\n",
    "import pandas as pd\n",
    "import matplotlib.pyplot as plt\n",
    "import sklearn\n",
    "import scipy.stats as sps\n",
    "from sympy import *\n",
    "from matplotlib import cm\n",
    "plt.style.use('ggplot')\n",
    "%matplotlib inline\n",
    "\n",
    "def scan_from_csv(filename,header=None):\n",
    "    if not header:\n",
    "        return pd.read_csv(filename,na_values='None')\n",
    "    else:\n",
    "        return pd.read_csv(filename,na_values='None',header=-1)\n",
    "\n",
    "def write_answer_to_file(answer,file):\n",
    "    with open(file, 'w') as answer_file:  \n",
    "        answer_file.write(answer)"
   ]
  },
  {
   "cell_type": "code",
   "execution_count": 36,
   "metadata": {
    "collapsed": false
   },
   "outputs": [],
   "source": [
    "data = np.array(scan_from_csv('sample2.csv',header=1)[0])"
   ]
  },
  {
   "cell_type": "code",
   "execution_count": 6,
   "metadata": {
    "collapsed": false
   },
   "outputs": [],
   "source": [
    "alpha = 0.05"
   ]
  },
  {
   "cell_type": "code",
   "execution_count": 37,
   "metadata": {
    "collapsed": false
   },
   "outputs": [
    {
     "name": "stdout",
     "output_type": "stream",
     "text": [
      "122\n"
     ]
    }
   ],
   "source": [
    "n = len(data)\n",
    "print(len(data))"
   ]
  },
  {
   "cell_type": "code",
   "execution_count": 39,
   "metadata": {
    "collapsed": true
   },
   "outputs": [],
   "source": [
    "from statsmodels.sandbox.stats.multicomp import multipletests  # Holm method\n",
    "from skidmarks import wald_wolfowitz # Wald-Wollfowitz test"
   ]
  },
  {
   "cell_type": "code",
   "execution_count": 49,
   "metadata": {
    "collapsed": true
   },
   "outputs": [],
   "source": [
    "def get_stats(statf,n,k=100):\n",
    "    stats = np.zeros(k)\n",
    "    gens = sps.uniform.rvs(size=(k,n))\n",
    "    for i in range(k):\n",
    "        stats[i] = statf(gens[i])\n",
    "    stats = np.sort(stats)\n",
    "    return np.array(stats)"
   ]
  },
  {
   "cell_type": "code",
   "execution_count": 41,
   "metadata": {
    "collapsed": true
   },
   "outputs": [],
   "source": [
    "def run_inversions_stat(x):\n",
    "    #  simple O(N^2) realisation\n",
    "    inv = 0\n",
    "    n = len(x)\n",
    "    for i in range(n):\n",
    "        for j in range(i+1,n):\n",
    "            inv += (x[i] > x[j])\n",
    "    return inv\n",
    "\n",
    "def run_ww_stat(x):\n",
    "    return wald_wolfowitz(x > np.median(x))['n_runs']  # return stat"
   ]
  },
  {
   "cell_type": "code",
   "execution_count": 42,
   "metadata": {
    "collapsed": false
   },
   "outputs": [
    {
     "name": "stdout",
     "output_type": "stream",
     "text": [
      "CPU times: user 14 s, sys: 23.3 ms, total: 14 s\n",
      "Wall time: 14 s\n"
     ]
    }
   ],
   "source": [
    "%%time\n",
    "inv_stats = get_stats(run_inversions_stat,n,1000)\n",
    "ww_stats = get_stats(run_ww_stat, n, 1000)"
   ]
  },
  {
   "cell_type": "code",
   "execution_count": 56,
   "metadata": {
    "collapsed": false
   },
   "outputs": [],
   "source": [
    "v_inv_high = inv_stats[int((len(inv_stats) - 1)*(1 - alpha/2))]\n",
    "v_inv_low = inv_stats[int((len(inv_stats) - 1)*alpha/2)]\n",
    "v_ww_high = ww_stats[int((len(inv_stats) - 1)*(1 - alpha/2))]\n",
    "v_ww_low = ww_stats[int((len(inv_stats) - 1)*alpha/2)]"
   ]
  },
  {
   "cell_type": "markdown",
   "metadata": {},
   "source": [
    "Проверим сложную гипотезу, что данные это выборка с помощью метода Бонферрони для $\\alpha = 0.05 * 2 = 0.1$.\n",
    "При этом в качестве статистик будем использовать $\\{Inv > u_{1-\\frac{\\alpha}{2}} \\cup  Inv < u_{\\frac{\\alpha}{2}}\\}, \\{WW_{runs} > v_{1-\\frac{\\alpha}{2}} \\cup WW_{runs} < v_{\\frac{\\alpha}{2}}\\}$, где \n",
    "пороги уже найдены моделированием для $\\alpha = 0.05$"
   ]
  },
  {
   "cell_type": "code",
   "execution_count": 57,
   "metadata": {
    "collapsed": false
   },
   "outputs": [
    {
     "name": "stdout",
     "output_type": "stream",
     "text": [
      "True True\n"
     ]
    }
   ],
   "source": [
    "bounds = [v_inv, v_ww]\n",
    "st_inv = run_inversions_stat(data)\n",
    "st_ww = run_ww_stat(data)\n",
    "print(st_inv > v_inv_high or st_inv < v_inv_low, st_ww > v_ww_high or st_ww < v_ww_low)"
   ]
  },
  {
   "cell_type": "markdown",
   "metadata": {},
   "source": [
    "Как видно сложная гипотеза отвергнута. Видна явная закономерность:"
   ]
  },
  {
   "cell_type": "code",
   "execution_count": 47,
   "metadata": {
    "collapsed": false
   },
   "outputs": [
    {
     "name": "stdout",
     "output_type": "stream",
     "text": [
      "[ True  True  True  True  True  True  True  True  True  True  True  True\n",
      "  True  True  True  True  True  True  True  True  True  True  True  True\n",
      "  True  True  True  True  True  True  True  True  True  True  True  True\n",
      "  True  True  True  True  True  True  True  True  True  True  True  True\n",
      "  True  True False  True False  True  True  True  True  True False  True\n",
      "  True  True  True  True False False False False False False False False\n",
      " False False False False False False False False False False False False\n",
      " False False False False False False False False False False False False\n",
      " False False False False False False False False False False False False\n",
      " False False False False False False False False False False False False\n",
      " False False]\n"
     ]
    }
   ],
   "source": [
    "print(data > np.median(data))"
   ]
  },
  {
   "cell_type": "code",
   "execution_count": null,
   "metadata": {
    "collapsed": true
   },
   "outputs": [],
   "source": []
  }
 ],
 "metadata": {
  "kernelspec": {
   "display_name": "Python 3",
   "language": "python",
   "name": "python3"
  },
  "language_info": {
   "codemirror_mode": {
    "name": "ipython",
    "version": 3
   },
   "file_extension": ".py",
   "mimetype": "text/x-python",
   "name": "python",
   "nbconvert_exporter": "python",
   "pygments_lexer": "ipython3",
   "version": "3.6.0"
  }
 },
 "nbformat": 4,
 "nbformat_minor": 2
}
