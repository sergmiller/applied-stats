{
 "cells": [
  {
   "cell_type": "code",
   "execution_count": 1,
   "metadata": {
    "collapsed": false
   },
   "outputs": [],
   "source": [
    "import numpy as np\n",
    "import pandas as pd\n",
    "import matplotlib.pyplot as plt\n",
    "import sklearn\n",
    "import scipy.stats as sps\n",
    "from scipy.special import gammaln, betaln\n",
    "plt.style.use('ggplot')\n",
    "from sympy import *\n",
    "from matplotlib import cm\n",
    "%matplotlib inline\n",
    "def scan_from_csv(filename):\n",
    "    return pd.read_csv(filename,na_values='None')\n",
    "\n",
    "def write_answer_to_file(answer,file):\n",
    "    with open(file, 'w') as answer_file:  \n",
    "        answer_file.write(answer)"
   ]
  },
  {
   "cell_type": "markdown",
   "metadata": {},
   "source": []
  },
  {
   "cell_type": "code",
   "execution_count": 2,
   "metadata": {
    "collapsed": true
   },
   "outputs": [],
   "source": [
    "def calc_Omega_n(X, m=30,alpha=2,beta=2,k=1,theta=1):\n",
    "    X = np.array(X)\n",
    "    n = len(X)\n",
    "    alpha_new = alpha + np.sum(X)\n",
    "    beta_new = beta + n*(m - np.mean(X))\n",
    "    k_new = k + np.sum(X)\n",
    "    theta_new = theta*n + 1\n",
    "    logg = n*log_fact(n) - np.sum(log_fact(n - X))\n",
    "    logg += betaln(alpha_new,beta_new)\n",
    "    logg -= betaln(alpha,beta)\n",
    "    logg -= gammaln(k_new)\n",
    "    logg += gammaln(k)\n",
    "    logg -= (np.sum(X)*np.log(theta))\n",
    "    logg += (k_new*np.log(theta_new))\n",
    "    return logg"
   ]
  },
  {
   "cell_type": "code",
   "execution_count": 3,
   "metadata": {
    "collapsed": false
   },
   "outputs": [],
   "source": [
    "m = 30\n",
    "p = 0.6\n",
    "N = [100,250,500]\n",
    "alpha = [0.01 ,0.05, 0.1]\n",
    "quant = np.zeros((3,3))"
   ]
  },
  {
   "cell_type": "code",
   "execution_count": 7,
   "metadata": {
    "collapsed": true
   },
   "outputs": [],
   "source": [
    "def get_quant(N,alpha,gen,params,repeat=500):\n",
    "    ks = np.zeros(repeat)\n",
    "    ps = sps.beta.rvs(size=repeat,a=2,b=2)\n",
    "    for i in range(repeat):\n",
    "        params['p'] = ps[i]\n",
    "        X = gen(**params)\n",
    "        ks[i] = calc_K(X)\n",
    "    ks = np.sort(ks)\n",
    "    return ks[alpha*(repeat-1)]"
   ]
  },
  {
   "cell_type": "code",
   "execution_count": 10,
   "metadata": {
    "collapsed": false
   },
   "outputs": [
    {
     "name": "stdout",
     "output_type": "stream",
     "text": [
      "for N = 100, alpha = 0.01, criteria log(K) < 206.556218776\n",
      "for N = 100, alpha = 0.05, criteria log(K) < 486.031626871\n",
      "for N = 100, alpha = 0.1, criteria log(K) < 777.225040099\n",
      "for N = 250, alpha = 0.01, criteria log(K) < 1005.11145619\n",
      "for N = 250, alpha = 0.05, criteria log(K) < 2310.75262423\n",
      "for N = 250, alpha = 0.1, criteria log(K) < 3414.53460645\n",
      "for N = 500, alpha = 0.01, criteria log(K) < 2391.58555491\n",
      "for N = 500, alpha = 0.05, criteria log(K) < 6021.98047953\n",
      "for N = 500, alpha = 0.1, criteria log(K) < 8562.95131165\n",
      "CPU times: user 2min 34s, sys: 1.27 s, total: 2min 36s\n",
      "Wall time: 2min 39s\n"
     ]
    },
    {
     "name": "stderr",
     "output_type": "stream",
     "text": [
      "/Users/sergmiller/anaconda/lib/python3.5/site-packages/ipykernel/__main__.py:9: DeprecationWarning: using a non-integer number instead of an integer will result in an error in the future\n"
     ]
    }
   ],
   "source": [
    "%%time\n",
    "R = 5000\n",
    "for i in range(3):\n",
    "    for j in range(3):\n",
    "        params = {'size':N[i],'n':m}\n",
    "        gen = sps.binom.rvs\n",
    "        quant[i][j] = get_quant(N[i],alpha[j],gen,params,R)\n",
    "        print('for N = ' + str(N[i]) + ', alpha = ' + str(alpha[j]) + ', criteria log(K) < ' + str(quant[i][j]))"
   ]
  },
  {
   "cell_type": "markdown",
   "metadata": {},
   "source": [
    "Проверим насколько хорошим получился критерий: \n",
    "\n",
    "сгенерируем много выборок с распределением $Bin(m=30,p)$ где p так же выбирается случайно из $Beta(2,2)$\n",
    "\n",
    "а также много выборок с распределением $Pois(\\lambda)$ где $\\lambda \\sim \\Gamma(1,1) = Exp(1,1)$ "
   ]
  },
  {
   "cell_type": "code",
   "execution_count": 12,
   "metadata": {
    "collapsed": false
   },
   "outputs": [
    {
     "name": "stdout",
     "output_type": "stream",
     "text": [
      "for N = 100, alpha = 0.01:\n",
      "TP: 1482\n",
      "FP: 303\n",
      "TN: 1197\n",
      "FN: 18\n",
      "err1: 0.012\n",
      "for N = 100, alpha = 0.05:\n",
      "TP: 1444\n",
      "FP: 28\n",
      "TN: 1472\n",
      "FN: 56\n",
      "err1: 0.0373333333333\n",
      "for N = 100, alpha = 0.1:\n",
      "TP: 1368\n",
      "FP: 8\n",
      "TN: 1492\n",
      "FN: 132\n",
      "err1: 0.088\n",
      "for N = 250, alpha = 0.01:\n",
      "TP: 1481\n",
      "FP: 250\n",
      "TN: 1250\n",
      "FN: 19\n",
      "err1: 0.0126666666667\n",
      "for N = 250, alpha = 0.05:\n",
      "TP: 1431\n",
      "FP: 20\n",
      "TN: 1480\n",
      "FN: 69\n",
      "err1: 0.046\n",
      "for N = 250, alpha = 0.1:\n",
      "TP: 1358\n",
      "FP: 6\n",
      "TN: 1494\n",
      "FN: 142\n",
      "err1: 0.0946666666667\n",
      "for N = 500, alpha = 0.01:\n",
      "TP: 1484\n",
      "FP: 304\n",
      "TN: 1196\n",
      "FN: 16\n",
      "err1: 0.0106666666667\n",
      "for N = 500, alpha = 0.05:\n",
      "TP: 1433\n",
      "FP: 22\n",
      "TN: 1478\n",
      "FN: 67\n",
      "err1: 0.0446666666667\n",
      "for N = 500, alpha = 0.1:\n",
      "TP: 1368\n",
      "FP: 9\n",
      "TN: 1491\n",
      "FN: 132\n",
      "err1: 0.088\n",
      "CPU times: user 1min 33s, sys: 917 ms, total: 1min 34s\n",
      "Wall time: 1min 37s\n"
     ]
    },
    {
     "name": "stderr",
     "output_type": "stream",
     "text": [
      "/Users/sergmiller/anaconda/lib/python3.5/site-packages/ipykernel/__main__.py:15: DeprecationWarning: using a non-integer number instead of an integer will result in an error in the future\n"
     ]
    }
   ],
   "source": [
    "%%time\n",
    "R = 3000\n",
    "ps = sps.beta.rvs(size=R/2,a=2,b=2)\n",
    "ls = sps.expon.rvs(size=R/2)\n",
    "for i in range(3):\n",
    "    for j in range(3):\n",
    "        ans = np.zeros((2,2),dtype=int)\n",
    "        for t in range(R):\n",
    "            k = 0\n",
    "            if t < R/2:\n",
    "                p = ps[t]\n",
    "                X = sps.binom.rvs(size=N[i],n=30,p=p)\n",
    "                k = calc_K(X)\n",
    "            else:\n",
    "                l = ls[t-R/2]\n",
    "                X = sps.poisson.rvs(size=N[i],mu=l)\n",
    "                k = calc_K(X)\n",
    "            if k > quant[i][j]:\n",
    "                if t < R/2:\n",
    "                    ans[1][1] += 1\n",
    "                else:\n",
    "                    ans[0][1] += 1\n",
    "            else:\n",
    "                if t < R/2:\n",
    "                    ans[0][0] += 1\n",
    "                else:\n",
    "                    ans[1][0] += 1\n",
    "        print('for N = ' + str(N[i]) + ', alpha = ' + str(alpha[j]) + ':')\n",
    "        print('TP: ' + str(ans[1][1]))\n",
    "        print('FP: ' + str(ans[0][1]))\n",
    "        print('TN: ' + str(ans[1][0]))\n",
    "        print('FN: ' + str(ans[0][0]))\n",
    "        print('err1: ' + str(ans[0][0]/(ans[0][0] + ans[1][1])))"
   ]
  },
  {
   "cell_type": "markdown",
   "metadata": {},
   "source": [
    "Как видно критерий работает хорошо: ошибка 1-го рода совпадает с заявленной, при этом ошибка 2 го рода тоже небольшая"
   ]
  },
  {
   "cell_type": "code",
   "execution_count": null,
   "metadata": {
    "collapsed": true
   },
   "outputs": [],
   "source": []
  }
 ],
 "metadata": {
  "kernelspec": {
   "display_name": "Python 3",
   "language": "python",
   "name": "python3"
  },
  "language_info": {
   "codemirror_mode": {
    "name": "ipython",
    "version": 3
   },
   "file_extension": ".py",
   "mimetype": "text/x-python",
   "name": "python",
   "nbconvert_exporter": "python",
   "pygments_lexer": "ipython3",
   "version": "3.6.0"
  }
 },
 "nbformat": 4,
 "nbformat_minor": 0
}
