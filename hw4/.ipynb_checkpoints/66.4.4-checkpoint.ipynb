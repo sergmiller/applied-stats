{
 "cells": [
  {
   "cell_type": "code",
   "execution_count": 28,
   "metadata": {
    "collapsed": false,
    "deletable": true,
    "editable": true
   },
   "outputs": [],
   "source": [
    "import numpy as np\n",
    "import pandas as pd\n",
    "import matplotlib.pyplot as plt\n",
    "import sklearn\n",
    "import scipy.stats as sps\n",
    "from sympy import *\n",
    "from matplotlib import cm\n",
    "plt.style.use('ggplot')\n",
    "%matplotlib inline\n",
    "\n",
    "def scan_from_csv(filename,header=None):\n",
    "    if not header:\n",
    "        return pd.read_csv(filename,na_values='None')\n",
    "    else:\n",
    "        return pd.read_csv(filename,na_values='None',header=-1)\n",
    "\n",
    "def write_answer_to_file(answer,file):\n",
    "    with open(file, 'w') as answer_file:  \n",
    "        answer_file.write(answer)"
   ]
  },
  {
   "cell_type": "code",
   "execution_count": 8,
   "metadata": {
    "collapsed": false,
    "deletable": true,
    "editable": true
   },
   "outputs": [
    {
     "data": {
      "text/html": [
       "<div>\n",
       "<table border=\"1\" class=\"dataframe\">\n",
       "  <thead>\n",
       "    <tr style=\"text-align: right;\">\n",
       "      <th></th>\n",
       "      <th>0</th>\n",
       "      <th>1</th>\n",
       "      <th>2</th>\n",
       "      <th>3</th>\n",
       "      <th>4</th>\n",
       "      <th>5</th>\n",
       "      <th>6</th>\n",
       "      <th>7</th>\n",
       "      <th>8</th>\n",
       "      <th>9</th>\n",
       "      <th>10</th>\n",
       "      <th>11</th>\n",
       "      <th>12</th>\n",
       "      <th>13</th>\n",
       "    </tr>\n",
       "  </thead>\n",
       "  <tbody>\n",
       "    <tr>\n",
       "      <th>0</th>\n",
       "      <td>1</td>\n",
       "      <td>14.23</td>\n",
       "      <td>1.71</td>\n",
       "      <td>2.43</td>\n",
       "      <td>15.6</td>\n",
       "      <td>127</td>\n",
       "      <td>2.80</td>\n",
       "      <td>3.06</td>\n",
       "      <td>0.28</td>\n",
       "      <td>2.29</td>\n",
       "      <td>5.64</td>\n",
       "      <td>1.04</td>\n",
       "      <td>3.92</td>\n",
       "      <td>1065</td>\n",
       "    </tr>\n",
       "    <tr>\n",
       "      <th>1</th>\n",
       "      <td>1</td>\n",
       "      <td>13.20</td>\n",
       "      <td>1.78</td>\n",
       "      <td>2.14</td>\n",
       "      <td>11.2</td>\n",
       "      <td>100</td>\n",
       "      <td>2.65</td>\n",
       "      <td>2.76</td>\n",
       "      <td>0.26</td>\n",
       "      <td>1.28</td>\n",
       "      <td>4.38</td>\n",
       "      <td>1.05</td>\n",
       "      <td>3.40</td>\n",
       "      <td>1050</td>\n",
       "    </tr>\n",
       "    <tr>\n",
       "      <th>2</th>\n",
       "      <td>1</td>\n",
       "      <td>13.16</td>\n",
       "      <td>2.36</td>\n",
       "      <td>2.67</td>\n",
       "      <td>18.6</td>\n",
       "      <td>101</td>\n",
       "      <td>2.80</td>\n",
       "      <td>3.24</td>\n",
       "      <td>0.30</td>\n",
       "      <td>2.81</td>\n",
       "      <td>5.68</td>\n",
       "      <td>1.03</td>\n",
       "      <td>3.17</td>\n",
       "      <td>1185</td>\n",
       "    </tr>\n",
       "    <tr>\n",
       "      <th>3</th>\n",
       "      <td>1</td>\n",
       "      <td>14.37</td>\n",
       "      <td>1.95</td>\n",
       "      <td>2.50</td>\n",
       "      <td>16.8</td>\n",
       "      <td>113</td>\n",
       "      <td>3.85</td>\n",
       "      <td>3.49</td>\n",
       "      <td>0.24</td>\n",
       "      <td>2.18</td>\n",
       "      <td>7.80</td>\n",
       "      <td>0.86</td>\n",
       "      <td>3.45</td>\n",
       "      <td>1480</td>\n",
       "    </tr>\n",
       "    <tr>\n",
       "      <th>4</th>\n",
       "      <td>1</td>\n",
       "      <td>13.24</td>\n",
       "      <td>2.59</td>\n",
       "      <td>2.87</td>\n",
       "      <td>21.0</td>\n",
       "      <td>118</td>\n",
       "      <td>2.80</td>\n",
       "      <td>2.69</td>\n",
       "      <td>0.39</td>\n",
       "      <td>1.82</td>\n",
       "      <td>4.32</td>\n",
       "      <td>1.04</td>\n",
       "      <td>2.93</td>\n",
       "      <td>735</td>\n",
       "    </tr>\n",
       "  </tbody>\n",
       "</table>\n",
       "</div>"
      ],
      "text/plain": [
       "   0      1     2     3     4    5     6     7     8     9     10    11    12  \\\n",
       "0   1  14.23  1.71  2.43  15.6  127  2.80  3.06  0.28  2.29  5.64  1.04  3.92   \n",
       "1   1  13.20  1.78  2.14  11.2  100  2.65  2.76  0.26  1.28  4.38  1.05  3.40   \n",
       "2   1  13.16  2.36  2.67  18.6  101  2.80  3.24  0.30  2.81  5.68  1.03  3.17   \n",
       "3   1  14.37  1.95  2.50  16.8  113  3.85  3.49  0.24  2.18  7.80  0.86  3.45   \n",
       "4   1  13.24  2.59  2.87  21.0  118  2.80  2.69  0.39  1.82  4.32  1.04  2.93   \n",
       "\n",
       "     13  \n",
       "0  1065  \n",
       "1  1050  \n",
       "2  1185  \n",
       "3  1480  \n",
       "4   735  "
      ]
     },
     "execution_count": 8,
     "metadata": {},
     "output_type": "execute_result"
    }
   ],
   "source": [
    "wines = scan_from_csv('wine.data.txt',1)\n",
    "wines.head()"
   ]
  },
  {
   "cell_type": "code",
   "execution_count": 106,
   "metadata": {
    "collapsed": false,
    "deletable": true,
    "editable": true
   },
   "outputs": [
    {
     "name": "stdout",
     "output_type": "stream",
     "text": [
      "[ 14.23  13.2   13.16  14.37  13.24  14.2   14.39  14.06  14.83  13.86\n",
      "  14.1   14.12  13.75  14.75  14.38  13.63  14.3   13.83  14.19  13.64\n",
      "  14.06  12.93  13.71  12.85  13.5   13.05  13.39  13.3   13.87  14.02\n",
      "  13.73  13.58  13.68  13.76  13.51  13.48  13.28  13.05  13.07  14.22\n",
      "  13.56  13.41  13.88  13.24  13.05  14.21  14.38  13.9   14.1   13.94\n",
      "  13.05  13.83  13.82  13.77  13.74  13.56  14.22  13.29  13.72  12.37\n",
      "  12.33  12.64  13.67  12.37  12.17  12.37  13.11  12.37  13.34  12.21\n",
      "  12.29  13.86  13.49  12.99  11.96  11.66  13.03  11.84  12.33  12.7   12.\n",
      "  12.72  12.08  13.05  11.84  12.67  12.16  11.65  11.64  12.08  12.08  12.\n",
      "  12.69  12.29  11.62  12.47  11.81  12.29  12.37  12.29  12.08  12.6\n",
      "  12.34  11.82  12.51  12.42  12.25  12.72  12.22  11.61  11.46  12.52\n",
      "  11.76  11.41  12.08  11.03  11.82  12.42  12.77  12.    11.45  11.56\n",
      "  12.42  13.05  11.87  12.07  12.43  11.79  12.37  12.04  12.86  12.88\n",
      "  12.81  12.7   12.51  12.6   12.25  12.53  13.49  12.84  12.93  13.36\n",
      "  13.52  13.62  12.25  13.16  13.88  12.87  13.32  13.08  13.5   12.79\n",
      "  13.11  13.23  12.58  13.17  13.84  12.45  14.34  13.48  12.36  13.69\n",
      "  12.85  12.96  13.78  13.73  13.45  12.82  13.58  13.4   12.2   12.77\n",
      "  14.16  13.71  13.4   13.27  13.17  14.13]\n"
     ]
    }
   ],
   "source": [
    "data = np.array(wines[1])\n",
    "print(data)"
   ]
  },
  {
   "cell_type": "markdown",
   "metadata": {
    "deletable": true,
    "editable": true
   },
   "source": [
    "Есть сложная гипотеза: выборка случайна и распределена нормально. Это равносильно выполнению двух простых гипотез. \n",
    "\n",
    "Для проверки случайности выборки рассмотрим критерии Вальда-Волфовица и числа инверсий.\n",
    "\n",
    "Для проверки нормальности выборки рассмотрим 5 известных с лекций критериев проверки нормальности.\n",
    "\n",
    "Для проверки сложной гипотезы будем использовать нисходящий метод Холма. Выбор обусловлен тем, что он является наиболее мощным критерием с контролем $FWER \\leq \\alpha$ при условии неизвестного характера зависимости между статистиками(которые в данном случае могут как то нетривиально зависеть друг от друга).\n",
    "\n",
    "Рассмотрим проверку гипотезы на уровнях $\\alpha = 0.1, 0.05, 0.01$"
   ]
  },
  {
   "cell_type": "code",
   "execution_count": 38,
   "metadata": {
    "collapsed": true,
    "deletable": true,
    "editable": true
   },
   "outputs": [],
   "source": [
    "from statsmodels.sandbox.stats.multicomp import multipletests  # Holm method\n",
    "from skidmarks import wald_wolfowitz # Wald-Wollfowitz test\n",
    "from skgof import ks_test  # KS for Lillieforce test\n",
    "from scipy.stats import chisquare  # chi^2 test\n",
    "from scipy.stats import normaltest  # d'Agostino test\n",
    "from scipy.stats import jarque_bera  # Jarque-Bera test\n",
    "from scipy.stats import shapiro  # Shapiro-Wilk test"
   ]
  },
  {
   "cell_type": "code",
   "execution_count": 115,
   "metadata": {
    "collapsed": false,
    "deletable": true,
    "editable": true
   },
   "outputs": [],
   "source": [
    "def run_inversions_stat(x):\n",
    "    #  simple O(N^2) realisation\n",
    "    inv = 0\n",
    "    n = len(x)\n",
    "    for i in range(n):\n",
    "        for j in range(i+1,n):\n",
    "            inv += (x[i] > x[j])\n",
    "    mean = n*(n-1)/4\n",
    "    sigma2 = (2*n**3 + 3*n**2 - 5*n)/72\n",
    "    xi = (n - mean)/sigma2**0.5\n",
    "    p0 = sps.norm.cdf(xi)\n",
    "    p1 = 1 - p0\n",
    "    return 2*min(p0,p1)   # asymptotic two-tailed p_value"
   ]
  },
  {
   "cell_type": "code",
   "execution_count": 116,
   "metadata": {
    "collapsed": true,
    "deletable": true,
    "editable": true
   },
   "outputs": [],
   "source": [
    "def run_chisquare_norm(x):\n",
    "    f_obs, bins, other = plt.hist(x,bins='auto')\n",
    "    m = np.mean(x)\n",
    "    s = np.std(x)\n",
    "    f_exp = np.array([sps.norm.cdf(x=bins[i+1],loc=m,scale=s) - \n",
    "                      sps.norm.cdf(x=bins[i],loc=m,scale=s)\n",
    "                      for i in range(len(bins)-1)]) * np.sum(f_obs)\n",
    "\n",
    "    return chisquare(f_obs=f_obs, f_exp=f_exp)[1]"
   ]
  },
  {
   "cell_type": "code",
   "execution_count": 141,
   "metadata": {
    "collapsed": false,
    "deletable": true,
    "editable": true
   },
   "outputs": [
    {
     "data": {
      "text/plain": [
       "178"
      ]
     },
     "execution_count": 141,
     "metadata": {},
     "output_type": "execute_result"
    }
   ],
   "source": [
    "len(data)"
   ]
  },
  {
   "cell_type": "markdown",
   "metadata": {
    "deletable": true,
    "editable": true
   },
   "source": [
    "Так как выбока мала, то для статистик Жарка-Бера и Д'Агостино p-value нужно считать моделированием (статистики критериев асимптотические и для приближенного применения предельных распределений необходим размер выбокрки $\\geq \\sim 1000$)"
   ]
  },
  {
   "cell_type": "code",
   "execution_count": 136,
   "metadata": {
    "collapsed": true,
    "deletable": true,
    "editable": true
   },
   "outputs": [],
   "source": [
    "def get_stats(statf,n,k=100):\n",
    "    stats = np.zeros(k)\n",
    "    gens = sps.norm.rvs(size=(k,n))\n",
    "    for i in range(k):\n",
    "        stats[i] = statf(gens[i])[0]\n",
    "    stats = np.sort(stats)\n",
    "    return np.array(stats)\n",
    "\n",
    "def run_stats(x,statf,stats):\n",
    "    st = statf(x)[0]\n",
    "    p = np.sum((st > stats))/len(stats)\n",
    "    return 2*min(p,1-p)  # two-tailed p-value"
   ]
  },
  {
   "cell_type": "code",
   "execution_count": 142,
   "metadata": {
    "collapsed": false,
    "deletable": true,
    "editable": true
   },
   "outputs": [],
   "source": [
    "# adaptive criteries\n",
    "stats_jb = get_stats(jarque_bera,n=len(data),k=10000)  # Jarque-Bera stats\n",
    "stats_ag = get_stats(normaltest,n=len(data),k=10000)  # D'Agostino stats\n",
    "run_criteries = [\n",
    "    (lambda x: wald_wolfowitz(x > np.median(x))['p']),\n",
    "    (lambda x: ks_test(x,sps.norm(loc=np.mean(x),scale=np.std(x)))[1]),\n",
    "    run_chisquare_norm,\n",
    "    (lambda x: run_stats(x, normaltest,stats_ag)),\n",
    "    (lambda x: run_stats(x, jarque_bera,stats_jb)),\n",
    "    (lambda x: shapiro(x)[1]),\n",
    "    run_inversions_stat\n",
    "]"
   ]
  },
  {
   "cell_type": "code",
   "execution_count": 143,
   "metadata": {
    "collapsed": false,
    "deletable": true,
    "editable": true
   },
   "outputs": [
    {
     "name": "stdout",
     "output_type": "stream",
     "text": [
      "for alpha = 0.01 : 2 simple hypotheses are rejected:\n",
      "p_values: [8.7621628565263059e-13, 0.35686679600830518, 0.086221683910212843, 0.0025999999999999357, 0.10319999999999996, 0.02005171775817871, 1.3915791287070476e-83]\n",
      "reject_bits: [ True False False False False False  True]\n",
      "\n",
      "for alpha = 0.05 : 3 simple hypotheses are rejected:\n",
      "p_values: [8.7621628565263059e-13, 0.35686679600830518, 0.086221683910212843, 0.0025999999999999357, 0.10319999999999996, 0.02005171775817871, 1.3915791287070476e-83]\n",
      "reject_bits: [ True False False  True False False  True]\n",
      "\n",
      "for alpha = 0.1 : 4 simple hypotheses are rejected:\n",
      "p_values: [8.7621628565263059e-13, 0.35686679600830518, 0.086221683910212843, 0.0025999999999999357, 0.10319999999999996, 0.02005171775817871, 1.3915791287070476e-83]\n",
      "reject_bits: [ True False False  True False  True  True]\n",
      "\n"
     ]
    },
    {
     "data": {
      "image/png": "[encoded data removed]",
      "text/plain": [
       "<matplotlib.figure.Figure at 0x112fd65c0>"
      ]
     },
     "metadata": {},
     "output_type": "display_data"
    }
   ],
   "source": [
    "alphas = [0.01, 0.05, 0.1]\n",
    "for a in alphas:\n",
    "    p_values = []\n",
    "    for ex in run_criteries:\n",
    "        p_values.append(ex(data))\n",
    "    reject = multipletests(pvals=p_values, method='holm',alpha=a)[0]\n",
    "    print('for alpha = ' + str(a) + ' : ' + str(np.sum(reject)) + ' simple hypotheses are rejected:')\n",
    "    print('p_values: ' + str(p_values))\n",
    "    print('reject_bits: ' + str(reject))\n",
    "    print()"
   ]
  },
  {
   "cell_type": "markdown",
   "metadata": {
    "deletable": true,
    "editable": true
   },
   "source": [
    "Как видно сложная гипотеза отвергается на рассмотренных уровнях значимости.\n",
    "Причем каждый раз отвержение происходит в критериях Вальда-Вольфовица и числа инверсий."
   ]
  },
  {
   "cell_type": "markdown",
   "metadata": {
    "deletable": true,
    "editable": true
   },
   "source": [
    "В тестах на случайность выборки p-value оочень маленький. Это можно было увидеть непосредственно, заметив, что почти вся левая половина выбоки больше медианы а правая меньше:"
   ]
  },
  {
   "cell_type": "code",
   "execution_count": 144,
   "metadata": {
    "collapsed": false,
    "deletable": true,
    "editable": true
   },
   "outputs": [
    {
     "name": "stdout",
     "output_type": "stream",
     "text": [
      "[ True  True  True  True  True  True  True  True  True  True  True  True\n",
      "  True  True  True  True  True  True  True  True  True False  True False\n",
      "  True False  True  True  True  True  True  True  True  True  True  True\n",
      "  True False  True  True  True  True  True  True False  True  True  True\n",
      "  True  True False  True  True  True  True  True  True  True  True False\n",
      " False False  True False False False  True False  True False False  True\n",
      "  True False False False False False False False False False False False\n",
      " False False False False False False False False False False False False\n",
      " False False False False False False False False False False False False\n",
      " False False False False False False False False False False False False\n",
      " False False False False False False False False False False False False\n",
      " False False False False False False  True False False  True  True  True\n",
      " False  True  True False  True  True  True False  True  True False  True\n",
      "  True False  True  True False  True False False  True  True  True False\n",
      "  True  True False False  True  True  True  True  True  True]\n"
     ]
    }
   ],
   "source": [
    "print(data > np.median(data))"
   ]
  },
  {
   "cell_type": "markdown",
   "metadata": {
    "deletable": true,
    "editable": true
   },
   "source": [
    "То есть это явно не случайная выборка."
   ]
  },
  {
   "cell_type": "markdown",
   "metadata": {
    "deletable": true,
    "editable": true
   },
   "source": [
    "Но скорее всего данные взяты из нормального распределения и как то переупорядочны, так как все остальные критрерии дают приемлемые p-value.\n",
    "Проверим гипотезу о нормальности данных, при условии, что они получены неким переупорядочиванием из выборки, используя ту же процедуру проверки гипотез только исключим гипотезы о случайности распределения"
   ]
  },
  {
   "cell_type": "code",
   "execution_count": 145,
   "metadata": {
    "collapsed": false,
    "deletable": true,
    "editable": true
   },
   "outputs": [
    {
     "name": "stdout",
     "output_type": "stream",
     "text": [
      "for alpha = 0.01 : 0 simple hypotheses are rejected:\n",
      "p_values: [0.35686679600830518, 0.086221683910212843, 0.0025999999999999357, 0.10319999999999996, 0.02005171775817871]\n",
      "reject_bits: [False False False False False]\n",
      "\n",
      "for alpha = 0.05 : 1 simple hypotheses are rejected:\n",
      "p_values: [0.35686679600830518, 0.086221683910212843, 0.0025999999999999357, 0.10319999999999996, 0.02005171775817871]\n",
      "reject_bits: [False False  True False False]\n",
      "\n",
      "for alpha = 0.1 : 2 simple hypotheses are rejected:\n",
      "p_values: [0.35686679600830518, 0.086221683910212843, 0.0025999999999999357, 0.10319999999999996, 0.02005171775817871]\n",
      "reject_bits: [False False  True False  True]\n",
      "\n"
     ]
    },
    {
     "data": {
      "image/png": "[encoded data removed]",
      "text/plain": [
       "<matplotlib.figure.Figure at 0x1134826d8>"
      ]
     },
     "metadata": {},
     "output_type": "display_data"
    }
   ],
   "source": [
    "alphas = [0.01, 0.05, 0.1]\n",
    "for a in alphas:\n",
    "    p_values = []\n",
    "    for ex in run_criteries[1:-1]:\n",
    "        p_values.append(ex(data))\n",
    "    reject = multipletests(pvals=p_values, method='holm',alpha=a)[0]\n",
    "    print('for alpha = ' + str(a) + ' : ' + str(np.sum(reject)) + ' simple hypotheses are rejected:')\n",
    "    print('p_values: ' + str(p_values))\n",
    "    print('reject_bits: ' + str(reject))\n",
    "    print()"
   ]
  },
  {
   "cell_type": "markdown",
   "metadata": {
    "deletable": true,
    "editable": true
   },
   "source": [
    "Таким образом гипотезу о нормальности распределения при условии, что данные получены перестановкой из выборки, можно принять только на уровне $\\alpha = 0.01$, но не выше."
   ]
  },
  {
   "cell_type": "code",
   "execution_count": null,
   "metadata": {
    "collapsed": true,
    "deletable": true,
    "editable": true
   },
   "outputs": [],
   "source": []
  }
 ],
 "metadata": {
  "kernelspec": {
   "display_name": "Python 3",
   "language": "python",
   "name": "python3"
  },
  "language_info": {
   "codemirror_mode": {
    "name": "ipython",
    "version": 3
   },
   "file_extension": ".py",
   "mimetype": "text/x-python",
   "name": "python",
   "nbconvert_exporter": "python",
   "pygments_lexer": "ipython3",
   "version": "3.6.0"
  }
 },
 "nbformat": 4,
 "nbformat_minor": 2
}
