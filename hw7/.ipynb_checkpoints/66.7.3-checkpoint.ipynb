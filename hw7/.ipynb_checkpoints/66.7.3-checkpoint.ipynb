{
 "cells": [
  {
   "cell_type": "code",
   "execution_count": 19,
   "metadata": {
    "collapsed": true
   },
   "outputs": [],
   "source": [
    "import numpy as np\n",
    "import pandas as pd\n",
    "import matplotlib.pyplot as plt\n",
    "import sklearn\n",
    "import math\n",
    "import scipy.stats as sps\n",
    "from sympy import *\n",
    "from matplotlib import cm\n",
    "plt.style.use('ggplot')\n",
    "%matplotlib inline"
   ]
  },
  {
   "cell_type": "code",
   "execution_count": 2,
   "metadata": {
    "collapsed": false
   },
   "outputs": [],
   "source": [
    "data = pd.read_csv('hw7t3v0.txt', delimiter='\\\\s+', header=-1)"
   ]
  },
  {
   "cell_type": "code",
   "execution_count": 3,
   "metadata": {
    "collapsed": false
   },
   "outputs": [
    {
     "data": {
      "text/html": [
       "<div>\n",
       "<table border=\"1\" class=\"dataframe\">\n",
       "  <thead>\n",
       "    <tr style=\"text-align: right;\">\n",
       "      <th></th>\n",
       "      <th>0</th>\n",
       "      <th>1</th>\n",
       "      <th>2</th>\n",
       "      <th>3</th>\n",
       "      <th>4</th>\n",
       "      <th>5</th>\n",
       "      <th>6</th>\n",
       "      <th>7</th>\n",
       "      <th>8</th>\n",
       "      <th>9</th>\n",
       "      <th>10</th>\n",
       "      <th>11</th>\n",
       "      <th>12</th>\n",
       "      <th>13</th>\n",
       "    </tr>\n",
       "  </thead>\n",
       "  <tbody>\n",
       "    <tr>\n",
       "      <th>0</th>\n",
       "      <td>sample0</td>\n",
       "      <td>-0.085</td>\n",
       "      <td>0.429</td>\n",
       "      <td>-1.196</td>\n",
       "      <td>-0.884</td>\n",
       "      <td>0.202</td>\n",
       "      <td>-0.130</td>\n",
       "      <td>-0.184</td>\n",
       "      <td>-0.891</td>\n",
       "      <td>0.529</td>\n",
       "      <td>0.064</td>\n",
       "      <td>-0.120</td>\n",
       "      <td>1.969</td>\n",
       "      <td>-1.102</td>\n",
       "    </tr>\n",
       "    <tr>\n",
       "      <th>1</th>\n",
       "      <td>sample1</td>\n",
       "      <td>-1.570</td>\n",
       "      <td>-1.132</td>\n",
       "      <td>1.796</td>\n",
       "      <td>-0.099</td>\n",
       "      <td>0.389</td>\n",
       "      <td>0.366</td>\n",
       "      <td>-0.808</td>\n",
       "      <td>-1.367</td>\n",
       "      <td>-0.151</td>\n",
       "      <td>1.574</td>\n",
       "      <td>2.821</td>\n",
       "      <td>0.765</td>\n",
       "      <td>0.930</td>\n",
       "    </tr>\n",
       "    <tr>\n",
       "      <th>2</th>\n",
       "      <td>sample2</td>\n",
       "      <td>1.770</td>\n",
       "      <td>-0.421</td>\n",
       "      <td>-1.272</td>\n",
       "      <td>0.861</td>\n",
       "      <td>-0.367</td>\n",
       "      <td>-1.311</td>\n",
       "      <td>-1.843</td>\n",
       "      <td>-0.470</td>\n",
       "      <td>3.275</td>\n",
       "      <td>0.254</td>\n",
       "      <td>1.072</td>\n",
       "      <td>0.748</td>\n",
       "      <td>-0.957</td>\n",
       "    </tr>\n",
       "    <tr>\n",
       "      <th>3</th>\n",
       "      <td>sample3</td>\n",
       "      <td>-0.023</td>\n",
       "      <td>1.631</td>\n",
       "      <td>-2.051</td>\n",
       "      <td>0.932</td>\n",
       "      <td>0.676</td>\n",
       "      <td>0.895</td>\n",
       "      <td>0.552</td>\n",
       "      <td>-1.318</td>\n",
       "      <td>NaN</td>\n",
       "      <td>NaN</td>\n",
       "      <td>NaN</td>\n",
       "      <td>NaN</td>\n",
       "      <td>NaN</td>\n",
       "    </tr>\n",
       "    <tr>\n",
       "      <th>4</th>\n",
       "      <td>sample4</td>\n",
       "      <td>-0.741</td>\n",
       "      <td>-0.183</td>\n",
       "      <td>-0.074</td>\n",
       "      <td>-3.030</td>\n",
       "      <td>-0.042</td>\n",
       "      <td>-0.313</td>\n",
       "      <td>3.694</td>\n",
       "      <td>0.821</td>\n",
       "      <td>-0.077</td>\n",
       "      <td>1.999</td>\n",
       "      <td>0.737</td>\n",
       "      <td>NaN</td>\n",
       "      <td>NaN</td>\n",
       "    </tr>\n",
       "  </tbody>\n",
       "</table>\n",
       "</div>"
      ],
      "text/plain": [
       "        0      1      2      3      4      5      6      7      8      9   \\\n",
       "0  sample0 -0.085  0.429 -1.196 -0.884  0.202 -0.130 -0.184 -0.891  0.529   \n",
       "1  sample1 -1.570 -1.132  1.796 -0.099  0.389  0.366 -0.808 -1.367 -0.151   \n",
       "2  sample2  1.770 -0.421 -1.272  0.861 -0.367 -1.311 -1.843 -0.470  3.275   \n",
       "3  sample3 -0.023  1.631 -2.051  0.932  0.676  0.895  0.552 -1.318    NaN   \n",
       "4  sample4 -0.741 -0.183 -0.074 -3.030 -0.042 -0.313  3.694  0.821 -0.077   \n",
       "\n",
       "      10     11     12     13  \n",
       "0  0.064 -0.120  1.969 -1.102  \n",
       "1  1.574  2.821  0.765  0.930  \n",
       "2  0.254  1.072  0.748 -0.957  \n",
       "3    NaN    NaN    NaN    NaN  \n",
       "4  1.999  0.737    NaN    NaN  "
      ]
     },
     "execution_count": 3,
     "metadata": {},
     "output_type": "execute_result"
    }
   ],
   "source": [
    "data.head()"
   ]
  },
  {
   "cell_type": "code",
   "execution_count": 22,
   "metadata": {
    "collapsed": false
   },
   "outputs": [],
   "source": [
    "samples = np.array([[data[c][i] for c in data.columns \n",
    "           if c != 0 and not math.isnan(data[c][i])] for i in range(len(data[0]))])"
   ]
  },
  {
   "cell_type": "code",
   "execution_count": 23,
   "metadata": {
    "collapsed": false,
    "scrolled": true
   },
   "outputs": [
    {
     "name": "stdout",
     "output_type": "stream",
     "text": [
      "[ [-0.085000000000000006, 0.42899999999999999, -1.196, -0.88400000000000001, 0.20199999999999999, -0.13, -0.184, -0.8909999999999999, 0.52900000000000003, 0.064000000000000001, -0.12, 1.9690000000000001, -1.1020000000000001]\n",
      " [-1.5700000000000001, -1.1320000000000001, 1.796, -0.099000000000000005, 0.38900000000000001, 0.36599999999999999, -0.80799999999999994, -1.367, -0.151, 1.5740000000000001, 2.8210000000000002, 0.76500000000000001, 0.93000000000000005]\n",
      " [1.77, -0.42100000000000004, -1.272, 0.86099999999999999, -0.36700000000000005, -1.3109999999999999, -1.8430000000000002, -0.46999999999999997, 3.2749999999999999, 0.254, 1.0720000000000001, 0.748, -0.95700000000000007]\n",
      " [-0.023, 1.631, -2.0510000000000002, 0.93200000000000005, 0.67599999999999993, 0.89500000000000002, 0.55200000000000005, -1.3180000000000001]\n",
      " [-0.74099999999999999, -0.183, -0.07400000000000001, -3.0299999999999998, -0.042000000000000003, -0.313, 3.694, 0.82099999999999995, -0.076999999999999999, 1.9990000000000001, 0.73699999999999999]\n",
      " [0.67500000000000004, -0.0069999999999999993, -0.441, 0.19399999999999998, -3.2370000000000001, 0.94599999999999995, -0.26200000000000001, -0.71200000000000008, -1.129]\n",
      " [0.28800000000000003, -2.2269999999999999, -0.050000000000000003, 0.67200000000000004, -0.16, 0.68700000000000006, -0.19399999999999998, 0.0050000000000000001, 0.434, -0.67700000000000005]\n",
      " [1.51, -0.41700000000000004, 4.5590000000000002, 0.84400000000000008, 0.34499999999999997, 1.3719999999999999, -0.34100000000000003, 1.2150000000000001, 10.42]\n",
      " [-0.53100000000000003, 0.20999999999999999, -1.0270000000000001, 0.7609999999999999, 0.65799999999999992, -0.44500000000000001, -0.83900000000000008, 0.98699999999999999, 1.1120000000000001]\n",
      " [0.43099999999999999, -0.80000000000000004, -1.4530000000000001, 0.313, -1.032, -0.752, -1.129, -0.441, -1.0190000000000001, -0.42399999999999999, -0.43200000000000005, 0.27399999999999997, -2.2240000000000002]]\n"
     ]
    }
   ],
   "source": [
    "print(samples)"
   ]
  },
  {
   "cell_type": "markdown",
   "metadata": {},
   "source": [
    "Выданы независимые выборки. Хотим решить задачу однофакторного дисперсионного анализа:\n",
    "$X_{ij} = \\mu + \\beta_j + \\varepsilon_{ij}$.\n",
    "Проверим выполнены ли условия применимости критерия Фишера:\n",
    "1) либо выборки нормальные, либо $N - k - 1 \\ge 20$ и $\\frac{\\max S_i^2}{\\min S_j^2} < 10$, где $N,k$ - общее количество элементов и выборок соответственно, и $S_i^2$ - несмещенная оценка выборочной дисперсии.\n",
    "2) при равных размерах выборок предыдущие положения (в случае ненормальных выборок) могут нарушаться\n",
    "\n",
    "Проверим выполнимость условий:"
   ]
  },
  {
   "cell_type": "code",
   "execution_count": 33,
   "metadata": {
    "collapsed": false
   },
   "outputs": [
    {
     "name": "stdout",
     "output_type": "stream",
     "text": [
      "[13 13 13  8 11  9 10  9  9 13]\n",
      "97\n",
      "20.8400930279\n"
     ]
    }
   ],
   "source": [
    "lens = np.array([len(x) for x in samples])\n",
    "var_ests = np.array([np.var(x,ddof=1) for x in samples])\n",
    "print(lens)\n",
    "print(np.sum(lens) - len(lens) - 1)\n",
    "print(np.max(var_ests)/np.min(var_ests))"
   ]
  },
  {
   "cell_type": "markdown",
   "metadata": {},
   "source": [
    "В нашем случае:\n",
    "\n",
    "1)размеры выборок не равны\n",
    "\n",
    "2)$N - k - 1 = 97 > 20$\n",
    "\n",
    "3)$\\frac{\\max S_i^2}{\\min S_j^2} = 21 > 10$\n",
    "\n",
    "Значит критерий Фишера можно применить только в случае если данные выборки распределены нормально. Но размеры выборок настолько малы, что проверка на нормальност выглядит весьма сомнительным занятием.\n",
    "\n",
    "Но все же проверим нормальность какими нибудь критериями, статистику найдем моделированием.\n",
    "\n",
    "Чтобы решить задачу однофакторного дисперсионного анализа применим алгоритм множественной проверки гипотез равенства средних и дисперсий. Воспользуемся критериями Фишера, Краскела-Уоллиса и Джонхиера + проверка на нормальность критерием Шапиро-Уилка + критериями Левина и Бартлетта для проверки равенства дисперсий.\n",
    "Проверку проведем низходящим методом Холма при $FWER \\leq 0.05$.\n",
    "\n",
    "Из всех критериев нигде не уточнялись ограничения на применимость критерия Барлетта, поэтому его статистику будем искать моделированием."
   ]
  },
  {
   "cell_type": "code",
   "execution_count": 68,
   "metadata": {
    "collapsed": false
   },
   "outputs": [],
   "source": [
    "from statsmodels.sandbox.stats.multicomp import multipletests  # Holm method\n",
    "from scipy.stats import shapiro  # Shapiro-Wilk test\n",
    "from scipy.stats import normaltest  # D'Agostino test\n",
    "from scipy.stats import jarque_bera  # Jarque-Bera test\n",
    "from scipy.stats import f_oneway  # Fisher test\n",
    "from scipy.stats import kruskal  # Kruskal-Wallis test\n",
    "from scipy.stats import levene  # Levene test\n",
    "from scipy.stats import bartlett  # Bartlett test"
   ]
  },
  {
   "cell_type": "code",
   "execution_count": 114,
   "metadata": {
    "collapsed": true
   },
   "outputs": [],
   "source": [
    "def get_stats(statf,n,k=100):\n",
    "    stats = np.zeros(k)\n",
    "    gens = sps.norm.rvs(size=(k,n))\n",
    "    for i in range(k):\n",
    "        stats[i] = statf(gens[i])[0]\n",
    "    stats = np.sort(stats)\n",
    "    return np.array(stats)\n",
    "\n",
    "def get_mult_stats(statf, lens, k=100):\n",
    "    stats = np.zeros(k)\n",
    "    gens = []\n",
    "    for l in lens:\n",
    "        gens.append(sps.norm.rvs(size=(k,l)))\n",
    "    for i in range(k):\n",
    "        cur = []\n",
    "        for j in range(len(lens)):\n",
    "              cur.append(gens[j][i])\n",
    "        stats[i] = statf(*cur)[0]\n",
    "    stats = np.sort(stats)\n",
    "    return np.array(stats)\n",
    "\n",
    "def run_stats(x,statf,stats):\n",
    "    st = statf(x)[0]\n",
    "    p = np.sum((st > stats))/len(stats)\n",
    "    return 2*min(p,1-p)  # two-tailed p-value\n",
    "\n",
    "def run_stats_pointer(x,statf,stats):\n",
    "    st = statf(*x)[0]\n",
    "    print(st)\n",
    "    p = np.sum((st > stats))/len(stats)\n",
    "    return 2*min(p,1-p)  # two-tailed p-value"
   ]
  },
  {
   "cell_type": "code",
   "execution_count": 107,
   "metadata": {
    "collapsed": false
   },
   "outputs": [
    {
     "name": "stderr",
     "output_type": "stream",
     "text": [
      "/Users/sergmiller/anaconda3/lib/python3.6/site-packages/scipy/stats/stats.py:1334: UserWarning: kurtosistest only valid for n>=20 ... continuing anyway, n=8\n",
      "  \"anyway, n=%i\" % int(n))\n",
      "/Users/sergmiller/anaconda3/lib/python3.6/site-packages/scipy/stats/stats.py:1334: UserWarning: kurtosistest only valid for n>=20 ... continuing anyway, n=9\n",
      "  \"anyway, n=%i\" % int(n))\n",
      "/Users/sergmiller/anaconda3/lib/python3.6/site-packages/scipy/stats/stats.py:1334: UserWarning: kurtosistest only valid for n>=20 ... continuing anyway, n=10\n",
      "  \"anyway, n=%i\" % int(n))\n",
      "/Users/sergmiller/anaconda3/lib/python3.6/site-packages/scipy/stats/stats.py:1334: UserWarning: kurtosistest only valid for n>=20 ... continuing anyway, n=11\n",
      "  \"anyway, n=%i\" % int(n))\n",
      "/Users/sergmiller/anaconda3/lib/python3.6/site-packages/scipy/stats/stats.py:1334: UserWarning: kurtosistest only valid for n>=20 ... continuing anyway, n=13\n",
      "  \"anyway, n=%i\" % int(n))\n"
     ]
    },
    {
     "name": "stdout",
     "output_type": "stream",
     "text": [
      "CPU times: user 5.43 s, sys: 96.3 ms, total: 5.53 s\n",
      "Wall time: 5.59 s\n"
     ]
    }
   ],
   "source": [
    "%%time\n",
    "stats_sw = {l: get_stats(shapiro,n=l,k=1000) for l in np.unique(lens)} # Shapiro-Wilk stats\n",
    "stats_da = {l: get_stats(normaltest,n=l,k=1000) for l in np.unique(lens)} # D'Agostino stats\n",
    "stats_jb = {l: get_stats(jarque_bera,n=l,k=1000) for l in np.unique(lens)} # Jarkue-Bera stats"
   ]
  },
  {
   "cell_type": "code",
   "execution_count": 115,
   "metadata": {
    "collapsed": false
   },
   "outputs": [],
   "source": [
    "# adaptive criteries\n",
    "run_criteries = [\n",
    "    (lambda x: run_stats(x, shapiro, stats_sw[len(x)]))\n",
    "    , (lambda x: run_stats(x, normaltest, stats_da[len(x)]))\n",
    "    , (lambda x: run_stats(x, jarque_bera, stats_jb[len(x)]))\n",
    "    , (lambda s: f_oneway(*s)[1])\n",
    "    , (lambda s: kruskal(*s)[1])\n",
    "    , (lambda s: levene(*s)[1])\n",
    "    , (lambda s: bartlett(*s)[1])\n",
    "]"
   ]
  },
  {
   "cell_type": "code",
   "execution_count": 116,
   "metadata": {
    "collapsed": false
   },
   "outputs": [
    {
     "name": "stdout",
     "output_type": "stream",
     "text": [
      "for alpha = 0.05 : 1 simple hypotheses are rejected:\n",
      "p_values: [0.27000000000000002, 0.1379999999999999, 0.14599999999999991, 0.35000000000000009, 0.37, 0.54800000000000004, 0.90199999999999991, 0.58000000000000007, 0.56600000000000006, 0.45800000000000002, 0.71199999999999997, 0.42399999999999993, 0.56200000000000006, 0.49399999999999999, 0.34999999999999998, 0.28599999999999998, 0.078000000000000069, 0.070000000000000062, 0.042000000000000003, 0.024000000000000021, 0.012000000000000011, 0.012, 0.016000000000000014, 0.010000000000000009, 0.504, 0.34400000000000008, 0.45799999999999996, 0.82000000000000006, 0.38, 0.14799999999999999, 0.011961366185681246, 0.082838613078042717, 0.25545391627031572, 3.449629347056787e-06]\n",
      "reject_bits: [False False False False False False False False False False False False\n",
      " False False False False False False False False False False False False\n",
      " False False False False False False False False False  True]\n",
      "\n"
     ]
    },
    {
     "name": "stderr",
     "output_type": "stream",
     "text": [
      "/Users/sergmiller/anaconda3/lib/python3.6/site-packages/scipy/stats/stats.py:1334: UserWarning: kurtosistest only valid for n>=20 ... continuing anyway, n=13\n",
      "  \"anyway, n=%i\" % int(n))\n",
      "/Users/sergmiller/anaconda3/lib/python3.6/site-packages/scipy/stats/stats.py:1334: UserWarning: kurtosistest only valid for n>=20 ... continuing anyway, n=8\n",
      "  \"anyway, n=%i\" % int(n))\n",
      "/Users/sergmiller/anaconda3/lib/python3.6/site-packages/scipy/stats/stats.py:1334: UserWarning: kurtosistest only valid for n>=20 ... continuing anyway, n=11\n",
      "  \"anyway, n=%i\" % int(n))\n",
      "/Users/sergmiller/anaconda3/lib/python3.6/site-packages/scipy/stats/stats.py:1334: UserWarning: kurtosistest only valid for n>=20 ... continuing anyway, n=9\n",
      "  \"anyway, n=%i\" % int(n))\n",
      "/Users/sergmiller/anaconda3/lib/python3.6/site-packages/scipy/stats/stats.py:1334: UserWarning: kurtosistest only valid for n>=20 ... continuing anyway, n=10\n",
      "  \"anyway, n=%i\" % int(n))\n"
     ]
    }
   ],
   "source": [
    "alphas = [0.05]\n",
    "for a in alphas:\n",
    "    p_values = []\n",
    "    for x in samples:\n",
    "        p_values.append(run_criteries[0](x))\n",
    "        p_values.append(run_criteries[1](x))\n",
    "        p_values.append(run_criteries[2](x))\n",
    "    for ex in run_criteries[3:]:\n",
    "        p_values.append(ex(samples))\n",
    "    reject = multipletests(pvals=p_values, method='holm',alpha=a)[0]\n",
    "    print('for alpha = ' + str(a) + ' : ' + str(np.sum(reject)) + ' simple hypotheses are rejected:')\n",
    "    print('p_values: ' + str(p_values))\n",
    "    print('reject_bits: ' + str(reject))\n",
    "    print()"
   ]
  },
  {
   "cell_type": "markdown",
   "metadata": {
    "collapsed": true,
    "deletable": true,
    "editable": true
   },
   "source": [
    "В итоге, отвергается только критерий Бартлетта равенства дисперсий(при условии нормального распределения), скорее всего отвергается так как неустойчив к выбросам а также выборки очень маленькие. В общем, не отвергаем гипотезу об однофакторной модели с равными парараметрами на уровне 0.05."
   ]
  },
  {
   "cell_type": "code",
   "execution_count": 127,
   "metadata": {
    "collapsed": false
   },
   "outputs": [
    {
     "name": "stdout",
     "output_type": "stream",
     "text": [
      "[1.51, -0.41700000000000004, 4.5590000000000002, 0.84400000000000008, 0.34499999999999997, 1.3719999999999999, -0.34100000000000003, 1.2150000000000001, 10.42]\n"
     ]
    }
   ],
   "source": [
    "print(samples[7])"
   ]
  },
  {
   "cell_type": "markdown",
   "metadata": {},
   "source": [
    "здесь 10 явно выброс"
   ]
  },
  {
   "cell_type": "code",
   "execution_count": null,
   "metadata": {
    "collapsed": true
   },
   "outputs": [],
   "source": []
  }
 ],
 "metadata": {
  "kernelspec": {
   "display_name": "Python 3",
   "language": "python",
   "name": "python3"
  },
  "language_info": {
   "codemirror_mode": {
    "name": "ipython",
    "version": 3
   },
   "file_extension": ".py",
   "mimetype": "text/x-python",
   "name": "python",
   "nbconvert_exporter": "python",
   "pygments_lexer": "ipython3",
   "version": "3.6.0"
  }
 },
 "nbformat": 4,
 "nbformat_minor": 2
}
