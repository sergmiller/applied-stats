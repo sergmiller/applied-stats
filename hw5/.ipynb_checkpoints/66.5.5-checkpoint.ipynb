{
 "cells": [
  {
   "cell_type": "code",
   "execution_count": 109,
   "metadata": {
    "collapsed": true
   },
   "outputs": [],
   "source": [
    "import numpy as np\n",
    "import pandas as pd\n",
    "import matplotlib.pyplot as plt\n",
    "import sklearn\n",
    "import copy\n",
    "import scipy.stats as sps\n",
    "from sympy import *\n",
    "from matplotlib import cm\n",
    "plt.style.use('ggplot')\n",
    "%matplotlib inline\n",
    "\n",
    "def scan_from_csv(filename,header=None):\n",
    "    if not header:\n",
    "        return pd.read_csv(filename,na_values='None')\n",
    "    else:\n",
    "        return pd.read_csv(filename,na_values='None',header=-1)\n",
    "\n",
    "def write_answer_to_file(answer,file):\n",
    "    with open(file, 'w') as answer_file:  \n",
    "        answer_file.write(answer)"
   ]
  },
  {
   "cell_type": "code",
   "execution_count": 135,
   "metadata": {
    "collapsed": false
   },
   "outputs": [],
   "source": [
    "dataF = pd.read_csv('flare.data1.txt',delimiter='\\\\s+',header=-1)"
   ]
  },
  {
   "cell_type": "code",
   "execution_count": 136,
   "metadata": {
    "collapsed": false,
    "scrolled": true
   },
   "outputs": [
    {
     "data": {
      "text/html": [
       "<div>\n",
       "<table border=\"1\" class=\"dataframe\">\n",
       "  <thead>\n",
       "    <tr style=\"text-align: right;\">\n",
       "      <th></th>\n",
       "      <th>0</th>\n",
       "      <th>1</th>\n",
       "      <th>2</th>\n",
       "      <th>3</th>\n",
       "      <th>4</th>\n",
       "      <th>5</th>\n",
       "      <th>6</th>\n",
       "      <th>7</th>\n",
       "      <th>8</th>\n",
       "      <th>9</th>\n",
       "      <th>10</th>\n",
       "      <th>11</th>\n",
       "      <th>12</th>\n",
       "    </tr>\n",
       "  </thead>\n",
       "  <tbody>\n",
       "    <tr>\n",
       "      <th>0</th>\n",
       "      <td>C</td>\n",
       "      <td>S</td>\n",
       "      <td>O</td>\n",
       "      <td>1</td>\n",
       "      <td>2</td>\n",
       "      <td>1</td>\n",
       "      <td>1</td>\n",
       "      <td>2</td>\n",
       "      <td>1</td>\n",
       "      <td>2</td>\n",
       "      <td>0</td>\n",
       "      <td>0</td>\n",
       "      <td>0</td>\n",
       "    </tr>\n",
       "    <tr>\n",
       "      <th>1</th>\n",
       "      <td>D</td>\n",
       "      <td>S</td>\n",
       "      <td>O</td>\n",
       "      <td>1</td>\n",
       "      <td>3</td>\n",
       "      <td>1</td>\n",
       "      <td>1</td>\n",
       "      <td>2</td>\n",
       "      <td>1</td>\n",
       "      <td>2</td>\n",
       "      <td>0</td>\n",
       "      <td>0</td>\n",
       "      <td>0</td>\n",
       "    </tr>\n",
       "    <tr>\n",
       "      <th>2</th>\n",
       "      <td>C</td>\n",
       "      <td>S</td>\n",
       "      <td>O</td>\n",
       "      <td>1</td>\n",
       "      <td>3</td>\n",
       "      <td>1</td>\n",
       "      <td>1</td>\n",
       "      <td>2</td>\n",
       "      <td>1</td>\n",
       "      <td>1</td>\n",
       "      <td>0</td>\n",
       "      <td>0</td>\n",
       "      <td>0</td>\n",
       "    </tr>\n",
       "    <tr>\n",
       "      <th>3</th>\n",
       "      <td>D</td>\n",
       "      <td>S</td>\n",
       "      <td>O</td>\n",
       "      <td>1</td>\n",
       "      <td>3</td>\n",
       "      <td>1</td>\n",
       "      <td>1</td>\n",
       "      <td>2</td>\n",
       "      <td>1</td>\n",
       "      <td>2</td>\n",
       "      <td>0</td>\n",
       "      <td>0</td>\n",
       "      <td>0</td>\n",
       "    </tr>\n",
       "    <tr>\n",
       "      <th>4</th>\n",
       "      <td>D</td>\n",
       "      <td>A</td>\n",
       "      <td>O</td>\n",
       "      <td>1</td>\n",
       "      <td>3</td>\n",
       "      <td>1</td>\n",
       "      <td>1</td>\n",
       "      <td>2</td>\n",
       "      <td>1</td>\n",
       "      <td>2</td>\n",
       "      <td>0</td>\n",
       "      <td>0</td>\n",
       "      <td>0</td>\n",
       "    </tr>\n",
       "  </tbody>\n",
       "</table>\n",
       "</div>"
      ],
      "text/plain": [
       "  0  1  2   3   4   5   6   7   8   9   10  11  12\n",
       "0  C  S  O   1   2   1   1   2   1   2   0   0   0\n",
       "1  D  S  O   1   3   1   1   2   1   2   0   0   0\n",
       "2  C  S  O   1   3   1   1   2   1   1   0   0   0\n",
       "3  D  S  O   1   3   1   1   2   1   2   0   0   0\n",
       "4  D  A  O   1   3   1   1   2   1   2   0   0   0"
      ]
     },
     "execution_count": 136,
     "metadata": {},
     "output_type": "execute_result"
    }
   ],
   "source": [
    "dataF.head()"
   ]
  },
  {
   "cell_type": "markdown",
   "metadata": {},
   "source": [
    "оставим только 10 первых столбцов(преобразуем символы в их числовое представление)"
   ]
  },
  {
   "cell_type": "code",
   "execution_count": 137,
   "metadata": {
    "collapsed": false
   },
   "outputs": [
    {
     "name": "stdout",
     "output_type": "stream",
     "text": [
      "[[67 83 79 ...,  2  1  2]\n",
      " [68 83 79 ...,  2  1  2]\n",
      " [67 83 79 ...,  2  1  1]\n",
      " ..., \n",
      " [69 65 79 ...,  2  1  2]\n",
      " [67 82 79 ...,  2  1  1]\n",
      " [69 75 67 ...,  2  2  2]]\n"
     ]
    }
   ],
   "source": [
    "data = copy.copy(dataF)\n",
    "for i in range(3):\n",
    "    data[i] = [ord(x) for x in list(data[i])]\n",
    "data = data[list(np.arange(10))]\n",
    "data = np.array(data)\n",
    "print(data)"
   ]
  },
  {
   "cell_type": "code",
   "execution_count": 138,
   "metadata": {
    "collapsed": false
   },
   "outputs": [
    {
     "data": {
      "text/plain": [
       "323"
      ]
     },
     "execution_count": 138,
     "metadata": {},
     "output_type": "execute_result"
    }
   ],
   "source": [
    "len(data)"
   ]
  },
  {
   "cell_type": "markdown",
   "metadata": {},
   "source": [
    "Проверим сложную гипотезу о независимости столбцов в совокупности с помощью таблиц сопряженности, причем применим этот метод для каждой пары столбцов на  разбиениях $\\mathbb{R}$ .\n",
    "\n",
    "Далее при составлении таблиц сопряженности неизбежно будем получать иногда нулевые ячейки, так как данных не очеь много. Поэтому закинем в каждую ячейку по одному элементу(иначе критерий просто не сработает)\n",
    "\n",
    "Вообще здесь применение этого теста не очень оправдано.\n",
    "По хорошему тут нужно применять точный критерий Фишера, но кажется его аналог не реализован не для бинарных разбиений.\n",
    "Поэтому посчитаем и его для всех бинарных разбиений.\n",
    "\n",
    "Для проверки сложной гипотезы будем использовать нисходящий метод Холма.\n",
    "\n",
    "Рассмотрим проверку гипотезы на уровне $\\alpha = 0.05$ \n",
    "\n",
    "Всего простых гипотез: $ 2 \\cdot C_{10}^2 = 90$"
   ]
  },
  {
   "cell_type": "code",
   "execution_count": 182,
   "metadata": {
    "collapsed": true
   },
   "outputs": [],
   "source": [
    "from statsmodels.sandbox.stats.multicomp import multipletests  # Holm method\n",
    "from scipy.stats import chi2_contingency  # Contigency Table statistic\n",
    "from scipy.stats import fisher_exact  # exact Fisher crit."
   ]
  },
  {
   "cell_type": "code",
   "execution_count": 192,
   "metadata": {
    "collapsed": false
   },
   "outputs": [],
   "source": [
    "def make_contigency_table(X,Y,method='auto'):\n",
    "    junk, binx = np.histogram(X,bins=method)\n",
    "    junk, biny = np.histogram(Y,bins=method)\n",
    "    \n",
    "    table = np.ones((len(binx)-1,len(biny)-1))\n",
    "    for i in range(len(binx)-1):\n",
    "        for j in range(len(biny)-1):\n",
    "            table[i][j] = np.sum([(x > binx[i] and x <= binx[i+1] and y > biny[j] and y <= biny[j+1]) \n",
    "                                  for x,y in zip(X,Y)])\n",
    "    for i in range(len(binx)-1):\n",
    "        for j in range(len(biny)-1):\n",
    "            if table[i][j] == 0:\n",
    "                table[i][j] = 1\n",
    "    return table"
   ]
  },
  {
   "cell_type": "code",
   "execution_count": 193,
   "metadata": {
    "collapsed": false
   },
   "outputs": [],
   "source": [
    "# adaptive criteries\n",
    "run_criteries = [\n",
    "    (lambda x, y: chi2_contingency(make_contigency_table(x,y))[1]),\n",
    "    (lambda x, y: fisher_exact(make_contigency_table(x, y, 2))[1])\n",
    "]"
   ]
  },
  {
   "cell_type": "code",
   "execution_count": 194,
   "metadata": {
    "collapsed": false
   },
   "outputs": [
    {
     "name": "stdout",
     "output_type": "stream",
     "text": [
      "for alpha = 0.05 : 7 simple hypotheses are rejected:\n",
      "p_values: [0.00017169595685431841, 0.0043016029238558311, 3.5258010143870008e-33, 1.6268996069967976e-08, 1.0, 0.31585365853658626, 0.0012265057738787026, 0.045654946780133182, 1.0, 0.36551724137931002, 0.7873190735405815, 0.39068508759436055, 1.0, 0.41485562697683415, 1.0, 0.34545454545454563, 1.0, 0.53091243392327747, 2.2666796018750134e-10, 1.0760568960322799e-09, 1.0, 1.0, 1.964706713499357e-06, 0.29203255687304736, 1.0, 1.0, 0.36304003006099744, 1.0, 1.0, 0.42460163233575088, 1.0, 0.31818181818181812, 1.0, 0.51401614310647892, 1.0, 1.0, 3.6967804483255583e-10, 0.0044393107039925909, 1.0, 1.0, 0.42714969074286835, 1.0, 1.0, 0.52660034602080319, 1.0, 1.0, 1.0, 0.52867334606838245, 1.0, 1.0, 1.0, 0.15666666666666676, 1.0, 0.1229838709677418, 1.0, 0.08244680851063832, 1.0, 0.37777777777777766, 1.0, 0.096341463414634065, 1.0, 1.0, 0.0069454984185440584, 1.0, 1.0, 1.0, 1.0, 1.0, 1.0, 1.0, 1.0, 0.15666666666666676, 1.0, 0.11586452762923337, 1.0, 0.46428571428571397, 1.0, 0.12688172043010748, 1.0, 0.032651402249017768, 1.0, 0.34545454545454546, 1.0, 0.035240202275600541, 1.0, 0.31818181818181795, 1.0, 0.017278373800105058, 1.0, 0.31818181818181795]\n",
      "reject_bits: [ True False  True  True False False False False False False False False\n",
      " False False False False False False  True  True False False  True False\n",
      " False False False False False False False False False False False False\n",
      "  True False False False False False False False False False False False\n",
      " False False False False False False False False False False False False\n",
      " False False False False False False False False False False False False\n",
      " False False False False False False False False False False False False\n",
      " False False False False False False]\n",
      "\n",
      "pairs [((0, 1), True), ((0, 1), False), ((0, 2), True), ((0, 2), True), ((0, 3), False), ((0, 3), False), ((0, 4), False), ((0, 4), False), ((0, 5), False), ((0, 5), False), ((0, 6), False), ((0, 6), False), ((0, 7), False), ((0, 7), False), ((0, 8), False), ((0, 8), False), ((0, 9), False), ((0, 9), False), ((1, 2), True), ((1, 2), True), ((1, 3), False), ((1, 3), False), ((1, 4), True), ((1, 4), False), ((1, 5), False), ((1, 5), False), ((1, 6), False), ((1, 6), False), ((1, 7), False), ((1, 7), False), ((1, 8), False), ((1, 8), False), ((1, 9), False), ((1, 9), False), ((2, 3), False), ((2, 3), False), ((2, 4), True), ((2, 4), False), ((2, 5), False), ((2, 5), False), ((2, 6), False), ((2, 6), False), ((2, 7), False), ((2, 7), False), ((2, 8), False), ((2, 8), False), ((2, 9), False), ((2, 9), False), ((3, 4), False), ((3, 4), False), ((3, 5), False), ((3, 5), False), ((3, 6), False), ((3, 6), False), ((3, 7), False), ((3, 7), False), ((3, 8), False), ((3, 8), False), ((3, 9), False), ((3, 9), False), ((4, 5), False), ((4, 5), False), ((4, 6), False), ((4, 6), False), ((4, 7), False), ((4, 7), False), ((4, 8), False), ((4, 8), False), ((4, 9), False), ((4, 9), False), ((5, 6), False), ((5, 6), False), ((5, 7), False), ((5, 7), False), ((5, 8), False), ((5, 8), False), ((5, 9), False), ((5, 9), False), ((6, 7), False), ((6, 7), False), ((6, 8), False), ((6, 8), False), ((6, 9), False), ((6, 9), False), ((7, 8), False), ((7, 8), False), ((7, 9), False), ((7, 9), False), ((8, 9), False), ((8, 9), False)]\n"
     ]
    }
   ],
   "source": [
    "alphas = [0.05]\n",
    "pairs = []\n",
    "for a in alphas:\n",
    "    p_values = []\n",
    "    for i in range(10):\n",
    "        for j in range(i+1,10):\n",
    "            for ex in run_criteries:\n",
    "                pairs.append((i,j))\n",
    "                p_values.append(ex(data[:,i],data[:,j]))\n",
    "    reject = multipletests(pvals=p_values, method='holm',alpha=a)[0]\n",
    "    print('for alpha = ' + str(a) + ' : ' + str(np.sum(reject)) + ' simple hypotheses are rejected:')\n",
    "    print('p_values: ' + str(p_values))\n",
    "    print('reject_bits: ' + str(reject))\n",
    "    print()    \n",
    "print('pairs', str(list(zip(pairs,reject))))"
   ]
  },
  {
   "cell_type": "markdown",
   "metadata": {},
   "source": [
    "В итоге, сложная гипотеза о независимости в совокупности отвергается на уровне 0.05, так как присутствуют пары столбцов, для которых гипотеза о независимости отвергается, а именно, для пар:\n",
    "\n",
    "для хи2-критерия:\n",
    "(0,1),(0,2),(1,2),(1,4),(2,4)  \n",
    "\n",
    "для точного критерия Фишера:\n",
    "(0,2),(1,2)\n",
    "\n",
    "В принципе критерии дали похожие результаты.\n",
    "\n",
    "Посмотрим, что это были за признаки:\n",
    "\n",
    "1. Code for class (modified Zurich class)  (A,B,C,D,E,F,H)\n",
    "2. Code for largest spot size              (X,R,S,A,H,K)\n",
    "3. Code for spot distribution              (X,O,I,C)\n",
    "4. Activity                                (1 = reduced, 2 = unchanged)\n",
    "5. Evolution                               (1 = decay, 2 = no growth, 3 = growth)\n",
    "6. Previous 24 hour flare activity code    (1 = nothing as big as an M1,2 = one M1, 3 = more activity than one M1)\n",
    "7. Historically-complex                    (1 = Yes, 2 = No)\n",
    "8. Did region become historically complex  (1 = yes, 2 = no) \n",
    "  on this pass across the sun's disk\n",
    "9. Area                                    (1 = small, 2 = large)\n",
    "10. Area of the largest spot                (1 = <=5, 2 = >5)\n",
    "\n",
    "<тут должна быть фраза объясняющая зависимости между этими признаками>\n",
    "видимо независимость отверглась в связях между признаками являющимися свойствами solar flare а не свойствами его местоположения(которые кажется более случайны, чем характеристики самого объекта)"
   ]
  },
  {
   "cell_type": "code",
   "execution_count": null,
   "metadata": {
    "collapsed": true
   },
   "outputs": [],
   "source": []
  }
 ],
 "metadata": {
  "kernelspec": {
   "display_name": "Python 3",
   "language": "python",
   "name": "python3"
  },
  "language_info": {
   "codemirror_mode": {
    "name": "ipython",
    "version": 3
   },
   "file_extension": ".py",
   "mimetype": "text/x-python",
   "name": "python",
   "nbconvert_exporter": "python",
   "pygments_lexer": "ipython3",
   "version": "3.6.0"
  }
 },
 "nbformat": 4,
 "nbformat_minor": 2
}
