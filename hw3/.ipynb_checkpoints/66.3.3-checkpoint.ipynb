{
 "cells": [
  {
   "cell_type": "code",
   "execution_count": 1,
   "metadata": {
    "collapsed": false
   },
   "outputs": [],
   "source": [
    "import numpy as np\n",
    "import pandas as pd\n",
    "import matplotlib.pyplot as plt\n",
    "import sklearn\n",
    "import scipy.stats as sps\n",
    "from scipy.special import gammaln, betaln\n",
    "plt.style.use('ggplot')\n",
    "from sympy import *\n",
    "from matplotlib import cm\n",
    "%matplotlib inline\n",
    "def scan_from_csv(filename):\n",
    "    return pd.read_csv(filename,na_values='None')\n",
    "\n",
    "def write_answer_to_file(answer,file):\n",
    "    with open(file, 'w') as answer_file:  \n",
    "        answer_file.write(answer)"
   ]
  },
  {
   "cell_type": "code",
   "execution_count": 6,
   "metadata": {
    "collapsed": true
   },
   "outputs": [],
   "source": [
    "dataf = scan_from_csv('slump_test.data.txt')"
   ]
  },
  {
   "cell_type": "code",
   "execution_count": 7,
   "metadata": {
    "collapsed": false
   },
   "outputs": [
    {
     "data": {
      "text/html": [
       "<div>\n",
       "<table border=\"1\" class=\"dataframe\">\n",
       "  <thead>\n",
       "    <tr style=\"text-align: right;\">\n",
       "      <th></th>\n",
       "      <th>No</th>\n",
       "      <th>Cement</th>\n",
       "      <th>Slag</th>\n",
       "      <th>Fly ash</th>\n",
       "      <th>Water</th>\n",
       "      <th>SP</th>\n",
       "      <th>Coarse Aggr.</th>\n",
       "      <th>Fine Aggr.</th>\n",
       "      <th>SLUMP(cm)</th>\n",
       "      <th>FLOW(cm)</th>\n",
       "      <th>Compressive Strength (28-day)(Mpa)</th>\n",
       "    </tr>\n",
       "  </thead>\n",
       "  <tbody>\n",
       "    <tr>\n",
       "      <th>0</th>\n",
       "      <td>1</td>\n",
       "      <td>273.0</td>\n",
       "      <td>82.0</td>\n",
       "      <td>105.0</td>\n",
       "      <td>210.0</td>\n",
       "      <td>9.0</td>\n",
       "      <td>904.0</td>\n",
       "      <td>680.0</td>\n",
       "      <td>23.0</td>\n",
       "      <td>62.0</td>\n",
       "      <td>34.99</td>\n",
       "    </tr>\n",
       "    <tr>\n",
       "      <th>1</th>\n",
       "      <td>2</td>\n",
       "      <td>163.0</td>\n",
       "      <td>149.0</td>\n",
       "      <td>191.0</td>\n",
       "      <td>180.0</td>\n",
       "      <td>12.0</td>\n",
       "      <td>843.0</td>\n",
       "      <td>746.0</td>\n",
       "      <td>0.0</td>\n",
       "      <td>20.0</td>\n",
       "      <td>41.14</td>\n",
       "    </tr>\n",
       "    <tr>\n",
       "      <th>2</th>\n",
       "      <td>3</td>\n",
       "      <td>162.0</td>\n",
       "      <td>148.0</td>\n",
       "      <td>191.0</td>\n",
       "      <td>179.0</td>\n",
       "      <td>16.0</td>\n",
       "      <td>840.0</td>\n",
       "      <td>743.0</td>\n",
       "      <td>1.0</td>\n",
       "      <td>20.0</td>\n",
       "      <td>41.81</td>\n",
       "    </tr>\n",
       "    <tr>\n",
       "      <th>3</th>\n",
       "      <td>4</td>\n",
       "      <td>162.0</td>\n",
       "      <td>148.0</td>\n",
       "      <td>190.0</td>\n",
       "      <td>179.0</td>\n",
       "      <td>19.0</td>\n",
       "      <td>838.0</td>\n",
       "      <td>741.0</td>\n",
       "      <td>3.0</td>\n",
       "      <td>21.5</td>\n",
       "      <td>42.08</td>\n",
       "    </tr>\n",
       "    <tr>\n",
       "      <th>4</th>\n",
       "      <td>5</td>\n",
       "      <td>154.0</td>\n",
       "      <td>112.0</td>\n",
       "      <td>144.0</td>\n",
       "      <td>220.0</td>\n",
       "      <td>10.0</td>\n",
       "      <td>923.0</td>\n",
       "      <td>658.0</td>\n",
       "      <td>20.0</td>\n",
       "      <td>64.0</td>\n",
       "      <td>26.82</td>\n",
       "    </tr>\n",
       "  </tbody>\n",
       "</table>\n",
       "</div>"
      ],
      "text/plain": [
       "   No  Cement   Slag  Fly ash  Water    SP  Coarse Aggr.  Fine Aggr.  \\\n",
       "0   1   273.0   82.0    105.0  210.0   9.0         904.0       680.0   \n",
       "1   2   163.0  149.0    191.0  180.0  12.0         843.0       746.0   \n",
       "2   3   162.0  148.0    191.0  179.0  16.0         840.0       743.0   \n",
       "3   4   162.0  148.0    190.0  179.0  19.0         838.0       741.0   \n",
       "4   5   154.0  112.0    144.0  220.0  10.0         923.0       658.0   \n",
       "\n",
       "   SLUMP(cm)  FLOW(cm)  Compressive Strength (28-day)(Mpa)  \n",
       "0       23.0      62.0                               34.99  \n",
       "1        0.0      20.0                               41.14  \n",
       "2        1.0      20.0                               41.81  \n",
       "3        3.0      21.5                               42.08  \n",
       "4       20.0      64.0                               26.82  "
      ]
     },
     "execution_count": 7,
     "metadata": {},
     "output_type": "execute_result"
    }
   ],
   "source": [
    "dataf.head()"
   ]
  },
  {
   "cell_type": "markdown",
   "metadata": {},
   "source": [
    "Выделим требуемый столбец - Compressive Strength(28-day)(Mpa)"
   ]
  },
  {
   "cell_type": "code",
   "execution_count": 18,
   "metadata": {
    "collapsed": false
   },
   "outputs": [],
   "source": [
    "data = np.array(dataf['Compressive Strength (28-day)(Mpa)'])"
   ]
  },
  {
   "cell_type": "code",
   "execution_count": 20,
   "metadata": {
    "collapsed": false,
    "scrolled": true
   },
   "outputs": [
    {
     "name": "stdout",
     "output_type": "stream",
     "text": [
      "<class 'numpy.ndarray'> 103 [ 34.99  41.14  41.81  42.08  26.82  25.21  38.86  36.59  32.71  38.46\n",
      "  26.02  28.03  31.37  33.91  32.44  34.05  28.29  41.01  49.3   29.23\n",
      "  29.77  36.19  18.52  17.19  36.72  33.38  42.08  39.4   41.27  41.14\n",
      "  45.82  43.95  52.65  35.52  34.45  43.54  33.11  18.26  34.99  33.78\n",
      "  35.66  33.51  33.51  27.62  30.97  31.77  37.39  43.01  58.53  52.65\n",
      "  45.69  32.04  36.46  38.59  45.42  19.19  31.5   29.63  26.42  29.5\n",
      "  32.71  39.93  28.29  30.43  37.39  35.39  37.66  40.34  46.36  31.9\n",
      "  44.08  28.16  29.77  41.27  27.89  28.7   32.57  34.18  30.83  30.43\n",
      "  26.42  26.28  36.19  36.32  33.78  30.97  27.09  38.46  37.92  38.19\n",
      "  35.52  32.84  44.48  41.54  41.81  41.01  39.13  44.08  49.97  50.23\n",
      "  50.5   49.17  48.77]\n"
     ]
    }
   ],
   "source": [
    "print(type(data),len(data),data)"
   ]
  },
  {
   "cell_type": "markdown",
   "metadata": {},
   "source": [
    "сначала построим гистограмму и посмотрим, на что похоже"
   ]
  },
  {
   "cell_type": "code",
   "execution_count": 63,
   "metadata": {
    "collapsed": false
   },
   "outputs": [
    {
     "data": {
      "image/png": "[encoded data removed]",
      "text/plain": [
       "<matplotlib.figure.Figure at 0x1151475f8>"
      ]
     },
     "metadata": {},
     "output_type": "display_data"
    }
   ],
   "source": [
    "f_obs, bins, other = plt.hist(data,bins='auto')\n",
    "plt.show()"
   ]
  },
  {
   "cell_type": "markdown",
   "metadata": {},
   "source": [
    "Заметна несимметричность распределения. Возможно это $Gamma$ распределение (оно также включает в себя $Exp$ и $\\chi^2$). Перед тем как проверять это построим Q-Q plot в сравнении с $Gamma$."
   ]
  },
  {
   "cell_type": "code",
   "execution_count": 53,
   "metadata": {
    "collapsed": false
   },
   "outputs": [
    {
     "data": {
      "image/png": "[encoded data removed]",
      "text/plain": [
       "<matplotlib.figure.Figure at 0x114f0e710>"
      ]
     },
     "metadata": {},
     "output_type": "display_data"
    },
    {
     "data": {
      "image/png": "[encoded data removed]",
      "text/plain": [
       "<matplotlib.figure.Figure at 0x110817278>"
      ]
     },
     "metadata": {},
     "output_type": "display_data"
    },
    {
     "data": {
      "image/png": "[encoded data removed]",
      "text/plain": [
       "<matplotlib.figure.Figure at 0x114e42be0>"
      ]
     },
     "metadata": {},
     "output_type": "display_data"
    }
   ],
   "source": [
    "bts = sps.gamma.rvs(a=1,size=100)\n",
    "res=sps.probplot(bts,plot=plt)\n",
    "plt.title('Gamma(a=1) Q-Q plot')\n",
    "plt.show()\n",
    "bts = sps.gamma.rvs(a=100,size=100)\n",
    "res=sps.probplot(bts,plot=plt)\n",
    "plt.title('Gamma(a=100) Q-Q plot')\n",
    "plt.show()\n",
    "res=sps.probplot(data,plot=plt)\n",
    "plt.title('Data Q-Q plot')\n",
    "plt.show()"
   ]
  },
  {
   "cell_type": "markdown",
   "metadata": {},
   "source": [
    "Как видно, из Q-Q plot ничего непонятно(все зависит от параметра $a$). Поэтому нужно проверить с помощью критерия согласия гипотезу $H_0: Data \\in \\Gamma$, против  $H_1: Data \\notin \\Gamma$\n",
    "\n",
    "Для этого воспользуемся общим критерием $\\chi^2$ c использованием оценки максимального правоподобия для параметров."
   ]
  },
  {
   "cell_type": "code",
   "execution_count": 56,
   "metadata": {
    "collapsed": false
   },
   "outputs": [],
   "source": [
    "est = sps.gamma.fit(data)  # .fit - get argmax for likelihood function"
   ]
  },
  {
   "cell_type": "code",
   "execution_count": 57,
   "metadata": {
    "collapsed": false
   },
   "outputs": [
    {
     "name": "stdout",
     "output_type": "stream",
     "text": [
      "(136.69019827427036, -55.128148272187289, 0.66696491276969083)\n"
     ]
    }
   ],
   "source": [
    "print(est)"
   ]
  },
  {
   "cell_type": "markdown",
   "metadata": {},
   "source": [
    "Из гистограммы получим оптимальное число разбиений и сами разбиения для $\\chi^2$ критерия."
   ]
  },
  {
   "cell_type": "code",
   "execution_count": 74,
   "metadata": {
    "collapsed": false
   },
   "outputs": [],
   "source": [
    "f_exp = np.array([sps.gamma.cdf(bins[i+1],a=est[0],loc=est[1],scale=est[2]) - \n",
    "                      sps.gamma.cdf(bins[i],a=est[0],loc=est[1],scale=est[2])\n",
    "                      for i in range(len(bins)-1)]) * np.sum(f_obs)"
   ]
  },
  {
   "cell_type": "code",
   "execution_count": 75,
   "metadata": {
    "collapsed": false
   },
   "outputs": [
    {
     "name": "stdout",
     "output_type": "stream",
     "text": [
      "[  4.   1.  15.  22.  21.  19.  11.   6.   3.   1.]\n"
     ]
    }
   ],
   "source": [
    "print(f_obs)"
   ]
  },
  {
   "cell_type": "code",
   "execution_count": 76,
   "metadata": {
    "collapsed": false
   },
   "outputs": [
    {
     "name": "stdout",
     "output_type": "stream",
     "text": [
      "[  2.00083152   6.04682238  12.71500933  19.23922049  21.56752916\n",
      "  18.37431104  12.16568874   6.38509131   2.70354712   0.93809807]\n"
     ]
    }
   ],
   "source": [
    "print(f_exp)"
   ]
  },
  {
   "cell_type": "markdown",
   "metadata": {},
   "source": [
    "Посчитаем сам критерий:"
   ]
  },
  {
   "cell_type": "code",
   "execution_count": 77,
   "metadata": {
    "collapsed": false
   },
   "outputs": [
    {
     "data": {
      "text/plain": [
       "Power_divergenceResult(statistic=7.2242524588254806, pvalue=0.61378404335230363)"
      ]
     },
     "execution_count": 77,
     "metadata": {},
     "output_type": "execute_result"
    }
   ],
   "source": [
    "sps.chisquare(f_obs=f_obs,f_exp=f_exp)"
   ]
  },
  {
   "cell_type": "markdown",
   "metadata": {},
   "source": [
    "как видно  p-value получилось хорошим, поэтому проверим более сильную гипотезу $H_0: Data \\sim \\Gamma(\\hat{\\lambda})$, против  $H_1: Data \\notin \\Gamma(\\hat{\\lambda})$.\n",
    "\n",
    "Для проверки воспользуемся критерием Андерсона-Дарлинга.\n",
    "\n",
    "В scipy для custom распределения нельзя воспользоваться этим критерием, но можно воспользоваться его модификацией anderson_ksamp, которая рассчитывает статистику на основе выборки из распределения гипотезы $H_0$."
   ]
  },
  {
   "cell_type": "code",
   "execution_count": 99,
   "metadata": {
    "collapsed": false
   },
   "outputs": [],
   "source": [
    "data_h0= sps.gamma.rvs(size=100000,a=est[0],loc=est[1],scale=est[2])"
   ]
  },
  {
   "cell_type": "code",
   "execution_count": 100,
   "metadata": {
    "collapsed": false
   },
   "outputs": [
    {
     "name": "stderr",
     "output_type": "stream",
     "text": [
      "/Users/sergmiller/anaconda3/lib/python3.6/site-packages/scipy/stats/morestats.py:1685: UserWarning: approximate p-value will be computed by extrapolation\n",
      "  warnings.warn(\"approximate p-value will be computed by extrapolation\")\n"
     ]
    },
    {
     "data": {
      "text/plain": [
       "Anderson_ksampResult(statistic=-0.93224368059686924, critical_values=array([ 0.325,  1.226,  1.961,  2.718,  3.752]), significance_level=0.9385341400431586)"
      ]
     },
     "execution_count": 100,
     "metadata": {},
     "output_type": "execute_result"
    }
   ],
   "source": [
    "sps.anderson_ksamp(samples=(data, data_h0),midrank=True)"
   ]
  },
  {
   "cell_type": "markdown",
   "metadata": {},
   "source": [
    "Проверим на аналогичной модификации теста Колмогорова-Смирнова"
   ]
  },
  {
   "cell_type": "code",
   "execution_count": 101,
   "metadata": {
    "collapsed": false
   },
   "outputs": [
    {
     "data": {
      "text/plain": [
       "Ks_2sampResult(statistic=0.047776310679611654, pvalue=0.96948109815029815)"
      ]
     },
     "execution_count": 101,
     "metadata": {},
     "output_type": "execute_result"
    }
   ],
   "source": [
    "sps.ks_2samp(data1=data,data2=data_h0)"
   ]
  },
  {
   "cell_type": "markdown",
   "metadata": {},
   "source": [
    "В обоих случаях p_value достаточно хорошее (так как в обоих тестах two-tailed p-value), так что можно с большой уверенностью считать, что это сдвинутое и масштабированное гамма распределение c параметрами примерно равными оценке максимального правдоподобия: $a \\approx 137, loc \\approx -55, scale \\approx 0.67$"
   ]
  },
  {
   "cell_type": "code",
   "execution_count": null,
   "metadata": {
    "collapsed": true
   },
   "outputs": [],
   "source": []
  }
 ],
 "metadata": {
  "kernelspec": {
   "display_name": "Python 3",
   "language": "python",
   "name": "python3"
  },
  "language_info": {
   "codemirror_mode": {
    "name": "ipython",
    "version": 3
   },
   "file_extension": ".py",
   "mimetype": "text/x-python",
   "name": "python",
   "nbconvert_exporter": "python",
   "pygments_lexer": "ipython3",
   "version": "3.6.0"
  }
 },
 "nbformat": 4,
 "nbformat_minor": 2
}
